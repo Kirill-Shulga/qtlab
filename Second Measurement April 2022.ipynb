{
 "cells": [
  {
   "cell_type": "markdown",
   "metadata": {},
   "source": [
    "# Initializing QTLab stuff"
   ]
  },
  {
   "cell_type": "code",
   "execution_count": 1,
   "metadata": {},
   "outputs": [
    {
     "name": "stderr",
     "output_type": "stream",
     "text": [
      "root: WARNING  Unable to load config file.\n"
     ]
    }
   ],
   "source": [
    "%run C:\\qtlab_replacement\\init.py\n",
    "from instruments import *\n",
    "import numpy as np\n",
    "import sweep\n",
    "import pandas as pd\n",
    "from save_pkl import *\n",
    "from IPython.display import clear_output"
   ]
  },
  {
   "cell_type": "code",
   "execution_count": 2,
   "metadata": {},
   "outputs": [],
   "source": [
    "import os\n",
    "os.chdir(\"C:\\qtlab_replacement\\instruments\\_labbrick\")"
   ]
  },
  {
   "cell_type": "markdown",
   "metadata": {},
   "source": [
    "# Iniatializing Plotting and auxilary tools"
   ]
  },
  {
   "cell_type": "code",
   "execution_count": 3,
   "metadata": {},
   "outputs": [],
   "source": [
    "%matplotlib inline\n",
    "from matplotlib import pyplot as plt\n",
    "import matplotlib.ticker\n",
    "import pylab\n",
    "from mpl_toolkits.mplot3d import Axes3D\n",
    "from matplotlib.colors import LinearSegmentedColormap\n",
    "import matplotlib.cm as cm\n",
    "import pickle\n",
    "import re\n",
    "\n",
    "# Создаем форматер\n",
    "formatter = matplotlib.ticker.ScalarFormatter ()\n",
    "formatter.set_powerlimits((-3, 1))\n",
    "hfont = {'fontname':'Arial'}\n",
    "\n",
    "from ipywidgets import IntProgress\n",
    "from IPython.display import display\n",
    "import time"
   ]
  },
  {
   "cell_type": "code",
   "execution_count": 4,
   "metadata": {},
   "outputs": [],
   "source": [
    "from Auxilary import zero_sound, complete_sound, stable_sound, lockin_complete_sound, magnetic_stable_sound\n",
    "from Auxilary import telegram_notification, telegram_photo_notification\n",
    "from Auxilary import freq_to_field, field_to_freq, kelvin_to_GHz, GHz_to_kelvin, get_mult_freq, get_der_freq\n",
    "from Auxilary import ramp_3_sourses, status"
   ]
  },
  {
   "cell_type": "code",
   "execution_count": 5,
   "metadata": {},
   "outputs": [],
   "source": [
    "t_id = '5102635867:AAGGWxqI7URoP5uWOyNPf99ZuJIsLQKqW-o'\n",
    "c_id = '42924842'"
   ]
  },
  {
   "cell_type": "code",
   "execution_count": 6,
   "metadata": {},
   "outputs": [],
   "source": [
    "telegram_notification('Magnetic field is Zero', t_id, c_id)"
   ]
  },
  {
   "cell_type": "code",
   "execution_count": 9,
   "metadata": {},
   "outputs": [],
   "source": [
    "PHOTO_PATH = 'C:/qtlab_replacement/img/Sommer-Tanner diagramm. B_z from 0.0T to 0.214T.png'"
   ]
  },
  {
   "cell_type": "code",
   "execution_count": 10,
   "metadata": {},
   "outputs": [],
   "source": [
    "telegram_photo_notification(\"Test message\", PHOTO_PATH, t_id, c_id)"
   ]
  },
  {
   "cell_type": "markdown",
   "metadata": {},
   "source": [
    "# Initializing Voltage/Current sourses:"
   ]
  },
  {
   "cell_type": "code",
   "execution_count": 6,
   "metadata": {},
   "outputs": [],
   "source": [
    "current_src_BM = Yokogawa_GS210(address='gs210_4')\n",
    "current_src_BC = Yokogawa_GS210(address='gs210_5')\n",
    "current_src_BO = Yokogawa_GS210(address='gs210_7')"
   ]
  },
  {
   "cell_type": "code",
   "execution_count": 9,
   "metadata": {},
   "outputs": [],
   "source": [
    "src_list = [current_src_BC,current_src_BM,current_src_BO]"
   ]
  },
  {
   "cell_type": "code",
   "execution_count": 21,
   "metadata": {},
   "outputs": [],
   "source": [
    "for i in src_list:     \n",
    "    i.set_src_mode_volt()                                     # switch Yokogawa to the Voltage mode\n",
    "    i.set_range(30)                                           # set voltage Source Range\n",
    "    i.set_voltage_limits(minvoltage = -29, maxvoltage = 29)   # set the +- maximum voltage ranges in [volts]"
   ]
  },
  {
   "cell_type": "code",
   "execution_count": 22,
   "metadata": {},
   "outputs": [
    {
     "name": "stdout",
     "output_type": "stream",
     "text": [
      "0\n",
      "0\n",
      "0\n"
     ]
    }
   ],
   "source": [
    "for i in src_list:                                                   # check he status 0 - off, 1 - on\n",
    "    print(i.get_status())"
   ]
  },
  {
   "cell_type": "code",
   "execution_count": 20,
   "metadata": {},
   "outputs": [],
   "source": [
    "for i in src_list:\n",
    "    i.set_status(0)"
   ]
  },
  {
   "cell_type": "markdown",
   "metadata": {},
   "source": [
    "# Slow ramp the voltage on multiple sourses"
   ]
  },
  {
   "cell_type": "code",
   "execution_count": 10,
   "metadata": {},
   "outputs": [
    {
     "name": "stdout",
     "output_type": "stream",
     "text": [
      "Voltage set -1e+00 V\n",
      "Voltage set -1e+00 V\n",
      "Voltage set -1e+00 V\n"
     ]
    }
   ],
   "source": [
    "ramp_3_sourses(-1,-1,-1, src_list, t_id, c_id)"
   ]
  },
  {
   "cell_type": "code",
   "execution_count": 749,
   "metadata": {},
   "outputs": [
    {
     "name": "stdout",
     "output_type": "stream",
     "text": [
      "Voltage set 1e+01 V\n",
      "Voltage set 1e+01 V\n",
      "Voltage set 1e+01 V\n"
     ]
    }
   ],
   "source": [
    "ramp_3_sourses(10,10,10, src_list, t_id, c_id)"
   ]
  },
  {
   "cell_type": "code",
   "execution_count": 750,
   "metadata": {},
   "outputs": [
    {
     "name": "stdout",
     "output_type": "stream",
     "text": [
      "Voltage set 0e+00 V\n"
     ]
    }
   ],
   "source": [
    "ramp_3_sourses(10,10,0, src_list, t_id, c_id)"
   ]
  },
  {
   "cell_type": "code",
   "execution_count": 267,
   "metadata": {},
   "outputs": [
    {
     "name": "stdout",
     "output_type": "stream",
     "text": [
      "Voltage set 0e+00 V\n",
      "Voltage set 0e+00 V\n"
     ]
    }
   ],
   "source": [
    "ramp_3_sourses(0,0,0, src_list, t_id, c_id)"
   ]
  },
  {
   "cell_type": "markdown",
   "metadata": {},
   "source": [
    "# Initializing the Lock-In"
   ]
  },
  {
   "cell_type": "code",
   "execution_count": 15,
   "metadata": {},
   "outputs": [],
   "source": [
    "Lock_In = NF_LI5650('Lock_In', address='LockIn_26')"
   ]
  },
  {
   "cell_type": "code",
   "execution_count": 16,
   "metadata": {},
   "outputs": [
    {
     "name": "stdout",
     "output_type": "stream",
     "text": [
      "connection to Lock_In\n",
      "*IDN?  NF Corporation,LI5650,9235143,Ver1.40\n",
      "\n"
     ]
    }
   ],
   "source": [
    "Lock_In.make_connection()"
   ]
  },
  {
   "cell_type": "code",
   "execution_count": 437,
   "metadata": {},
   "outputs": [
    {
     "data": {
      "text/plain": [
       "[-3.024377e-11, 3.253388e-11]"
      ]
     },
     "execution_count": 437,
     "metadata": {},
     "output_type": "execute_result"
    }
   ],
   "source": [
    "Lock_In.read_outp_in_ascii()"
   ]
  },
  {
   "cell_type": "code",
   "execution_count": 457,
   "metadata": {},
   "outputs": [
    {
     "data": {
      "text/plain": [
       "[10003.3]"
      ]
     },
     "execution_count": 457,
     "metadata": {},
     "output_type": "execute_result"
    }
   ],
   "source": [
    "Lock_In.ask_IntOsc_frequency()"
   ]
  },
  {
   "cell_type": "code",
   "execution_count": 456,
   "metadata": {},
   "outputs": [],
   "source": [
    "Lock_In.set_IntOsc_frequency(10003.3, 'Hz')"
   ]
  },
  {
   "cell_type": "code",
   "execution_count": 126,
   "metadata": {},
   "outputs": [
    {
     "data": {
      "text/plain": [
       "[0.04]"
      ]
     },
     "execution_count": 126,
     "metadata": {},
     "output_type": "execute_result"
    }
   ],
   "source": [
    "Lock_In.ask_IntOsc_amp()"
   ]
  },
  {
   "cell_type": "code",
   "execution_count": null,
   "metadata": {},
   "outputs": [],
   "source": [
    "Lock_In.set_IntOsc_amp(0.04)       # in [Volts]"
   ]
  },
  {
   "cell_type": "markdown",
   "metadata": {},
   "source": [
    "# Initialization of the American Magnets Model 430"
   ]
  },
  {
   "cell_type": "code",
   "execution_count": 31,
   "metadata": {},
   "outputs": [
    {
     "name": "stdout",
     "output_type": "stream",
     "text": [
      "Units are T/sec\n"
     ]
    }
   ],
   "source": [
    "magnet = American_Magnetics_430('magnet', address = 'Magnet')"
   ]
  },
  {
   "cell_type": "code",
   "execution_count": 32,
   "metadata": {},
   "outputs": [
    {
     "name": "stdout",
     "output_type": "stream",
     "text": [
      "Magnet model:  AMERICAN MAGNETICS INC.,MODEL 430,1.62\n",
      "No quench\n",
      "Current limit:  84.0 A\n",
      "Voltage limit:  2.0 V\n",
      "Field limit:  8.9964 T\n",
      "Current Field:  1e-05 T\n",
      "Target Field:  0.0 T\n",
      "Current Current:  -0.0004 A\n",
      "Target Current:  0.0 A\n",
      "Ramp Rate:  0.0005 T/sec\n",
      "Status:\n",
      "HOLDING at the target field/current\n"
     ]
    }
   ],
   "source": [
    "print('Magnet model: ' ,magnet.get_id())\n",
    "if magnet.canstartramp():\n",
    "    print('No quench')\n",
    "print('Current limit: ' , magnet.get_currentlimit(), 'A') \n",
    "print('Voltage limit: ' , magnet.get_voltagelimit(), 'V') \n",
    "print('Field limit: ' , magnet.get_fieldlim(), 'T') \n",
    "\n",
    "print('Current Field: ' , magnet.get_field(), 'T') \n",
    "print('Target Field: ' , magnet.get_fieldsetpoint(), 'T') \n",
    "\n",
    "print('Current Current: ' , magnet.get_current(), 'A') \n",
    "print('Target Current: ' , magnet.get_currentsetpoint(), 'A') \n",
    "\n",
    "print('Ramp Rate: ' , magnet.get_ramprate(), 'T/sec') \n",
    "print('Status:')\n",
    "status()"
   ]
  },
  {
   "cell_type": "code",
   "execution_count": 33,
   "metadata": {},
   "outputs": [],
   "source": [
    "magnet.set_ramprate(0.0005)  # in T/sec"
   ]
  },
  {
   "cell_type": "code",
   "execution_count": 520,
   "metadata": {},
   "outputs": [],
   "source": [
    "magnet.ramp_field(0.0)\n",
    "zero_sound()\n",
    "telegram_notification('Magnetic field is Zero', t_id, c_id)"
   ]
  },
  {
   "cell_type": "code",
   "execution_count": 514,
   "metadata": {},
   "outputs": [
    {
     "data": {
      "text/plain": [
       "0.21398"
      ]
     },
     "execution_count": 514,
     "metadata": {},
     "output_type": "execute_result"
    }
   ],
   "source": [
    "magnet.get_field()"
   ]
  },
  {
   "cell_type": "code",
   "execution_count": 515,
   "metadata": {},
   "outputs": [
    {
     "data": {
      "text/plain": [
       "5.992"
      ]
     },
     "execution_count": 515,
     "metadata": {},
     "output_type": "execute_result"
    }
   ],
   "source": [
    "field_to_freq(magnet.get_field())"
   ]
  },
  {
   "cell_type": "code",
   "execution_count": 516,
   "metadata": {},
   "outputs": [
    {
     "data": {
      "text/plain": [
       "0.23214285714285715"
      ]
     },
     "execution_count": 516,
     "metadata": {},
     "output_type": "execute_result"
    }
   ],
   "source": [
    "freq_to_field(6.5)"
   ]
  },
  {
   "cell_type": "markdown",
   "metadata": {},
   "source": [
    "# Plotting Lockin data vs Magnetic field"
   ]
  },
  {
   "cell_type": "code",
   "execution_count": 461,
   "metadata": {},
   "outputs": [],
   "source": [
    "time_constant = 5"
   ]
  },
  {
   "cell_type": "code",
   "execution_count": 524,
   "metadata": {
    "scrolled": false
   },
   "outputs": [
    {
     "data": {
      "image/png": "[encoded data removed]",
      "text/plain": [
       "<Figure size 720x576 with 2 Axes>"
      ]
     },
     "metadata": {},
     "output_type": "display_data"
    },
    {
     "data": {
      "image/png": "[encoded data removed]",
      "text/plain": [
       "<Figure size 720x576 with 2 Axes>"
      ]
     },
     "metadata": {
      "needs_background": "light"
     },
     "output_type": "display_data"
    }
   ],
   "source": [
    "X = []\n",
    "Y = []\n",
    "Field = []\n",
    "\n",
    "name = \"experimental data/Ramping Magnetic field from 0.0T to 0.214T. BC=BM=10V, BO=0V. Osc_freq = 10003.3Hz\"+datetime.datetime.now().strftime(\"%Y%m%d%H%M%S.txt\")\n",
    "file = open(name,\"w\")\n",
    "\n",
    "fig, ax = plt.subplots(2,1, figsize=(10,8))\n",
    "hfig = display(fig, display_id=True)\n",
    "\n",
    "plt.setp(ax[0].get_xticklabels(), visible=False)\n",
    "\n",
    "final_field = 0.214                   # in [Tesla]\n",
    "STEP = 0.01                        # in [Tesla]\n",
    "field_steps = np.linspace(magnet.get_field(), final_field, int(abs(final_field-magnet.get_field())/STEP+1))\n",
    "\n",
    "for i in field_steps:\n",
    "    magnet.ramp_field(i)\n",
    "    sleep(time_constant)\n",
    "    \n",
    "    voltageXY = Lock_In.read_outp_in_string()\n",
    "    \n",
    "    filecontent = str(i) + ',' + voltageXY\n",
    "    file.write(filecontent)\n",
    "    \n",
    "    res = Lock_In.read_outp_in_ascii()\n",
    "    X.append(float(res[0])*1e9)\n",
    "    Y.append(float(res[1])*1e9)\n",
    "    Field.append(i)\n",
    "    \n",
    "    # dynamic plot\n",
    "    ax[0].cla()\n",
    "    ax[1].cla()\n",
    "    ax[0].set_title('Lock-In Data')\n",
    "    ax[0].set_ylabel('X [nA]', fontsize=16, **hfont)\n",
    "    ax[1].set_xlabel('Magnetic field $B_z$ [T]', fontsize=16, **hfont)\n",
    "    ax[1].set_ylabel('Y [nA]', fontsize=16, **hfont)\n",
    "    \n",
    "    ax[0].plot(Field, X, 'g')\n",
    "    ax[1].plot(Field, Y, 'b')\n",
    "    \n",
    "    hfig.update(fig)\n",
    "    plt.pause(0.1)\n",
    "    \n",
    "file.close()\n",
    "complete_sound()\n",
    "telegram_notification('The measurement is complite', t_id, c_id)"
   ]
  },
  {
   "cell_type": "markdown",
   "metadata": {},
   "source": [
    "# Plotting Sommer-Tanner diagram"
   ]
  },
  {
   "cell_type": "code",
   "execution_count": 525,
   "metadata": {},
   "outputs": [],
   "source": [
    "xx = []\n",
    "yy = []\n",
    "\n",
    "for i in X:\n",
    "    xx.append(i*1e9)\n",
    "for i in Y:\n",
    "    yy.append(i*1e9)"
   ]
  },
  {
   "cell_type": "code",
   "execution_count": 526,
   "metadata": {},
   "outputs": [
    {
     "data": {
      "image/png": "[encoded data removed]",
      "text/plain": [
       "<Figure size 720x720 with 1 Axes>"
      ]
     },
     "metadata": {
      "needs_background": "light"
     },
     "output_type": "display_data"
    },
    {
     "data": {
      "text/plain": [
       "Text(0.5, 1.0, 'Sommer-Tanner diagramm. $B_z$ from 0.0T to 0.214T')"
      ]
     },
     "execution_count": 526,
     "metadata": {},
     "output_type": "execute_result"
    }
   ],
   "source": [
    "fig, axes = plt.subplots(1,1,figsize=(10, 10))\n",
    "\n",
    "p = axes.plot(xx, yy, linewidth=2.0, c = 'r')\n",
    "\n",
    "#axes.axis('tight')\n",
    "axes.set_xlabel(r'X ($n$A)', fontsize=32, **hfont)\n",
    "axes.set_ylabel(r'Y ($n$A)', fontsize=32, **hfont)\n",
    "\n",
    "for index, i_x, i_y, i_f in zip(np.arange(0,np.size(xx)), xx, yy, Field):\n",
    "    if (index%5 ==0): \n",
    "        plt.text(i_x, i_y, '({}) T'.format(round(i_f,3)), fontsize=18, **hfont)\n",
    "\n",
    "plt.show()\n",
    "\n",
    "axes.set_title('Sommer-Tanner diagramm. $B_z$ from 0.0T to 0.214T', fontsize=24, **hfont)"
   ]
  },
  {
   "cell_type": "markdown",
   "metadata": {},
   "source": [
    "# Plotting Lockin vs Voltage"
   ]
  },
  {
   "cell_type": "code",
   "execution_count": 38,
   "metadata": {
    "scrolled": true
   },
   "outputs": [
    {
     "data": {
      "image/png": "[encoded data removed]",
      "text/plain": [
       "<Figure size 720x576 with 2 Axes>"
      ]
     },
     "metadata": {},
     "output_type": "display_data"
    },
    {
     "name": "stdout",
     "output_type": "stream",
     "text": [
      "Voltage set 1e+01 V\n"
     ]
    },
    {
     "data": {
      "image/png": "[encoded data removed]",
      "text/plain": [
       "<Figure size 720x576 with 2 Axes>"
      ]
     },
     "metadata": {
      "needs_background": "light"
     },
     "output_type": "display_data"
    },
    {
     "name": "stdout",
     "output_type": "stream",
     "text": [
      "Voltage set 9.99e+00 V\n",
      "Voltage set 9.98e+00 V\n",
      "Voltage set 9.97e+00 V\n",
      "Voltage set 9.96e+00 V\n",
      "Voltage set 9.95e+00 V\n",
      "Voltage set 9.94e+00 V\n",
      "Voltage set 9.93e+00 V\n",
      "Voltage set 9.92e+00 V\n",
      "Voltage set 9.91e+00 V\n",
      "Voltage set 9.9e+00 V\n",
      "Voltage set 9.89e+00 V\n",
      "Voltage set 9.88e+00 V\n",
      "Voltage set 9.87e+00 V\n",
      "Voltage set 9.86e+00 V\n",
      "Voltage set 9.85e+00 V\n",
      "Voltage set 9.84e+00 V\n",
      "Voltage set 9.83e+00 V\n",
      "Voltage set 9.82e+00 V\n",
      "Voltage set 9.81e+00 V\n",
      "Voltage set 9.8e+00 V\n",
      "Voltage set 9.79e+00 V\n",
      "Voltage set 9.78e+00 V\n",
      "Voltage set 9.77e+00 V\n",
      "Voltage set 9.76e+00 V\n",
      "Voltage set 9.75e+00 V\n",
      "Voltage set 9.74e+00 V\n",
      "Voltage set 9.73e+00 V\n",
      "Voltage set 9.72e+00 V\n",
      "Voltage set 9.71e+00 V\n",
      "Voltage set 9.7e+00 V\n",
      "Voltage set 9.69e+00 V\n",
      "Voltage set 9.68e+00 V\n",
      "Voltage set 9.67e+00 V\n",
      "Voltage set 9.66e+00 V\n",
      "Voltage set 9.65e+00 V\n",
      "Voltage set 9.64e+00 V\n",
      "Voltage set 9.63e+00 V\n",
      "Voltage set 9.62e+00 V\n",
      "Voltage set 9.61e+00 V\n",
      "Voltage set 9.6e+00 V\n",
      "Voltage set 9.59e+00 V\n",
      "Voltage set 9.58e+00 V\n",
      "Voltage set 9.57e+00 V\n",
      "Voltage set 9.56e+00 V\n",
      "Voltage set 9.55e+00 V\n",
      "Voltage set 9.54e+00 V\n",
      "Voltage set 9.53e+00 V\n",
      "Voltage set 9.52e+00 V\n",
      "Voltage set 9.51e+00 V\n",
      "Voltage set 9.5e+00 V\n",
      "Voltage set 9.49e+00 V\n",
      "Voltage set 9.48e+00 V\n",
      "Voltage set 9.47e+00 V\n",
      "Voltage set 9.46e+00 V\n",
      "Voltage set 9.45e+00 V\n",
      "Voltage set 9.44e+00 V\n",
      "Voltage set 9.43e+00 V\n",
      "Voltage set 9.42e+00 V\n",
      "Voltage set 9.41e+00 V\n",
      "Voltage set 9.4e+00 V\n",
      "Voltage set 9.39e+00 V\n",
      "Voltage set 9.38e+00 V\n",
      "Voltage set 9.37e+00 V\n",
      "Voltage set 9.36e+00 V\n",
      "Voltage set 9.35e+00 V\n",
      "Voltage set 9.34e+00 V\n",
      "Voltage set 9.33e+00 V\n",
      "Voltage set 9.32e+00 V\n",
      "Voltage set 9.31e+00 V\n",
      "Voltage set 9.3e+00 V\n",
      "Voltage set 9.29e+00 V\n",
      "Voltage set 9.28e+00 V\n",
      "Voltage set 9.27e+00 V\n",
      "Voltage set 9.26e+00 V\n",
      "Voltage set 9.25e+00 V\n",
      "Voltage set 9.24e+00 V\n",
      "Voltage set 9.23e+00 V\n",
      "Voltage set 9.22e+00 V\n",
      "Voltage set 9.21e+00 V\n",
      "Voltage set 9.2e+00 V\n",
      "Voltage set 9.19e+00 V\n",
      "Voltage set 9.18e+00 V\n",
      "Voltage set 9.17e+00 V\n",
      "Voltage set 9.16e+00 V\n",
      "Voltage set 9.15e+00 V\n",
      "Voltage set 9.14e+00 V\n",
      "Voltage set 9.13e+00 V\n",
      "Voltage set 9.12e+00 V\n",
      "Voltage set 9.11e+00 V\n",
      "Voltage set 9.1e+00 V\n",
      "Voltage set 9.09e+00 V\n",
      "Voltage set 9.08e+00 V\n",
      "Voltage set 9.07e+00 V\n",
      "Voltage set 9.06e+00 V\n",
      "Voltage set 9.05e+00 V\n",
      "Voltage set 9.04e+00 V\n",
      "Voltage set 9.03e+00 V\n",
      "Voltage set 9.02e+00 V\n",
      "Voltage set 9.01e+00 V\n",
      "Voltage set 9e+00 V\n",
      "Voltage set 8.99e+00 V\n",
      "Voltage set 8.98e+00 V\n",
      "Voltage set 8.97e+00 V\n",
      "Voltage set 8.96e+00 V\n",
      "Voltage set 8.95e+00 V\n",
      "Voltage set 8.94e+00 V\n",
      "Voltage set 8.93e+00 V\n",
      "Voltage set 8.92e+00 V\n",
      "Voltage set 8.91e+00 V\n",
      "Voltage set 8.9e+00 V\n",
      "Voltage set 8.89e+00 V\n",
      "Voltage set 8.88e+00 V\n",
      "Voltage set 8.87e+00 V\n",
      "Voltage set 8.86e+00 V\n",
      "Voltage set 8.85e+00 V\n",
      "Voltage set 8.84e+00 V\n",
      "Voltage set 8.83e+00 V\n",
      "Voltage set 8.82e+00 V\n",
      "Voltage set 8.81e+00 V\n",
      "Voltage set 8.8e+00 V\n",
      "Voltage set 8.79e+00 V\n",
      "Voltage set 8.78e+00 V\n",
      "Voltage set 8.77e+00 V\n",
      "Voltage set 8.76e+00 V\n",
      "Voltage set 8.75e+00 V\n",
      "Voltage set 8.74e+00 V\n",
      "Voltage set 8.73e+00 V\n",
      "Voltage set 8.72e+00 V\n",
      "Voltage set 8.71e+00 V\n",
      "Voltage set 8.7e+00 V\n",
      "Voltage set 8.69e+00 V\n",
      "Voltage set 8.68e+00 V\n",
      "Voltage set 8.67e+00 V\n",
      "Voltage set 8.66e+00 V\n",
      "Voltage set 8.65e+00 V\n",
      "Voltage set 8.64e+00 V\n",
      "Voltage set 8.63e+00 V\n",
      "Voltage set 8.62e+00 V\n",
      "Voltage set 8.61e+00 V\n",
      "Voltage set 8.6e+00 V\n",
      "Voltage set 8.59e+00 V\n",
      "Voltage set 8.58e+00 V\n",
      "Voltage set 8.57e+00 V\n",
      "Voltage set 8.56e+00 V\n",
      "Voltage set 8.55e+00 V\n",
      "Voltage set 8.54e+00 V\n",
      "Voltage set 8.53e+00 V\n",
      "Voltage set 8.52e+00 V\n",
      "Voltage set 8.51e+00 V\n",
      "Voltage set 8.5e+00 V\n",
      "Voltage set 8.49e+00 V\n",
      "Voltage set 8.48e+00 V\n",
      "Voltage set 8.47e+00 V\n",
      "Voltage set 8.46e+00 V\n",
      "Voltage set 8.45e+00 V\n",
      "Voltage set 8.44e+00 V\n",
      "Voltage set 8.43e+00 V\n",
      "Voltage set 8.42e+00 V\n",
      "Voltage set 8.41e+00 V\n",
      "Voltage set 8.4e+00 V\n",
      "Voltage set 8.39e+00 V\n",
      "Voltage set 8.38e+00 V\n",
      "Voltage set 8.37e+00 V\n",
      "Voltage set 8.36e+00 V\n",
      "Voltage set 8.35e+00 V\n",
      "Voltage set 8.34e+00 V\n",
      "Voltage set 8.33e+00 V\n",
      "Voltage set 8.32e+00 V\n",
      "Voltage set 8.31e+00 V\n",
      "Voltage set 8.3e+00 V\n",
      "Voltage set 8.29e+00 V\n",
      "Voltage set 8.28e+00 V\n",
      "Voltage set 8.27e+00 V\n",
      "Voltage set 8.26e+00 V\n",
      "Voltage set 8.25e+00 V\n",
      "Voltage set 8.24e+00 V\n",
      "Voltage set 8.23e+00 V\n",
      "Voltage set 8.22e+00 V\n",
      "Voltage set 8.21e+00 V\n",
      "Voltage set 8.2e+00 V\n",
      "Voltage set 8.19e+00 V\n",
      "Voltage set 8.18e+00 V\n",
      "Voltage set 8.17e+00 V\n",
      "Voltage set 8.16e+00 V\n",
      "Voltage set 8.15e+00 V\n",
      "Voltage set 8.14e+00 V\n",
      "Voltage set 8.13e+00 V\n",
      "Voltage set 8.12e+00 V\n",
      "Voltage set 8.11e+00 V\n",
      "Voltage set 8.1e+00 V\n",
      "Voltage set 8.09e+00 V\n",
      "Voltage set 8.08e+00 V\n",
      "Voltage set 8.07e+00 V\n",
      "Voltage set 8.06e+00 V\n",
      "Voltage set 8.05e+00 V\n",
      "Voltage set 8.04e+00 V\n",
      "Voltage set 8.03e+00 V\n",
      "Voltage set 8.02e+00 V\n",
      "Voltage set 8.01e+00 V\n",
      "Voltage set 8e+00 V\n",
      "Voltage set 7.99e+00 V\n",
      "Voltage set 7.98e+00 V\n",
      "Voltage set 7.97e+00 V\n",
      "Voltage set 7.96e+00 V\n",
      "Voltage set 7.95e+00 V\n",
      "Voltage set 7.94e+00 V\n",
      "Voltage set 7.93e+00 V\n",
      "Voltage set 7.92e+00 V\n",
      "Voltage set 7.91e+00 V\n",
      "Voltage set 7.9e+00 V\n",
      "Voltage set 7.89e+00 V\n",
      "Voltage set 7.88e+00 V\n",
      "Voltage set 7.87e+00 V\n",
      "Voltage set 7.86e+00 V\n",
      "Voltage set 7.85e+00 V\n",
      "Voltage set 7.84e+00 V\n",
      "Voltage set 7.83e+00 V\n",
      "Voltage set 7.82e+00 V\n",
      "Voltage set 7.81e+00 V\n",
      "Voltage set 7.8e+00 V\n",
      "Voltage set 7.79e+00 V\n",
      "Voltage set 7.78e+00 V\n",
      "Voltage set 7.77e+00 V\n",
      "Voltage set 7.76e+00 V\n",
      "Voltage set 7.75e+00 V\n",
      "Voltage set 7.74e+00 V\n",
      "Voltage set 7.73e+00 V\n",
      "Voltage set 7.72e+00 V\n",
      "Voltage set 7.71e+00 V\n",
      "Voltage set 7.7e+00 V\n",
      "Voltage set 7.69e+00 V\n",
      "Voltage set 7.68e+00 V\n",
      "Voltage set 7.67e+00 V\n",
      "Voltage set 7.66e+00 V\n",
      "Voltage set 7.65e+00 V\n",
      "Voltage set 7.64e+00 V\n",
      "Voltage set 7.63e+00 V\n",
      "Voltage set 7.62e+00 V\n",
      "Voltage set 7.61e+00 V\n",
      "Voltage set 7.6e+00 V\n",
      "Voltage set 7.59e+00 V\n",
      "Voltage set 7.58e+00 V\n",
      "Voltage set 7.57e+00 V\n",
      "Voltage set 7.56e+00 V\n",
      "Voltage set 7.55e+00 V\n",
      "Voltage set 7.54e+00 V\n",
      "Voltage set 7.53e+00 V\n",
      "Voltage set 7.52e+00 V\n",
      "Voltage set 7.51e+00 V\n",
      "Voltage set 7.5e+00 V\n",
      "Voltage set 7.49e+00 V\n",
      "Voltage set 7.48e+00 V\n",
      "Voltage set 7.47e+00 V\n",
      "Voltage set 7.46e+00 V\n",
      "Voltage set 7.45e+00 V\n",
      "Voltage set 7.44e+00 V\n",
      "Voltage set 7.43e+00 V\n",
      "Voltage set 7.42e+00 V\n",
      "Voltage set 7.41e+00 V\n",
      "Voltage set 7.4e+00 V\n",
      "Voltage set 7.39e+00 V\n",
      "Voltage set 7.38e+00 V\n",
      "Voltage set 7.37e+00 V\n",
      "Voltage set 7.36e+00 V\n",
      "Voltage set 7.35e+00 V\n",
      "Voltage set 7.34e+00 V\n",
      "Voltage set 7.33e+00 V\n",
      "Voltage set 7.32e+00 V\n",
      "Voltage set 7.31e+00 V\n",
      "Voltage set 7.3e+00 V\n",
      "Voltage set 7.29e+00 V\n",
      "Voltage set 7.28e+00 V\n",
      "Voltage set 7.27e+00 V\n",
      "Voltage set 7.26e+00 V\n",
      "Voltage set 7.25e+00 V\n",
      "Voltage set 7.24e+00 V\n",
      "Voltage set 7.23e+00 V\n",
      "Voltage set 7.22e+00 V\n",
      "Voltage set 7.21e+00 V\n",
      "Voltage set 7.2e+00 V\n",
      "Voltage set 7.19e+00 V\n",
      "Voltage set 7.18e+00 V\n",
      "Voltage set 7.17e+00 V\n",
      "Voltage set 7.16e+00 V\n",
      "Voltage set 7.15e+00 V\n",
      "Voltage set 7.14e+00 V\n",
      "Voltage set 7.13e+00 V\n",
      "Voltage set 7.12e+00 V\n",
      "Voltage set 7.11e+00 V\n",
      "Voltage set 7.1e+00 V\n",
      "Voltage set 7.09e+00 V\n",
      "Voltage set 7.08e+00 V\n",
      "Voltage set 7.07e+00 V\n",
      "Voltage set 7.06e+00 V\n",
      "Voltage set 7.05e+00 V\n",
      "Voltage set 7.04e+00 V\n",
      "Voltage set 7.03e+00 V\n",
      "Voltage set 7.02e+00 V\n",
      "Voltage set 7.01e+00 V\n",
      "Voltage set 7e+00 V\n",
      "Voltage set 6.99e+00 V\n",
      "Voltage set 6.98e+00 V\n",
      "Voltage set 6.97e+00 V\n",
      "Voltage set 6.96e+00 V\n",
      "Voltage set 6.95e+00 V\n",
      "Voltage set 6.94e+00 V\n",
      "Voltage set 6.93e+00 V\n",
      "Voltage set 6.92e+00 V\n",
      "Voltage set 6.91e+00 V\n",
      "Voltage set 6.9e+00 V\n",
      "Voltage set 6.89e+00 V\n",
      "Voltage set 6.88e+00 V\n",
      "Voltage set 6.87e+00 V\n",
      "Voltage set 6.86e+00 V\n",
      "Voltage set 6.85e+00 V\n",
      "Voltage set 6.84e+00 V\n",
      "Voltage set 6.83e+00 V\n",
      "Voltage set 6.82e+00 V\n",
      "Voltage set 6.81e+00 V\n",
      "Voltage set 6.8e+00 V\n",
      "Voltage set 6.79e+00 V\n",
      "Voltage set 6.78e+00 V\n",
      "Voltage set 6.77e+00 V\n",
      "Voltage set 6.76e+00 V\n",
      "Voltage set 6.75e+00 V\n",
      "Voltage set 6.74e+00 V\n",
      "Voltage set 6.73e+00 V\n",
      "Voltage set 6.72e+00 V\n",
      "Voltage set 6.71e+00 V\n",
      "Voltage set 6.7e+00 V\n",
      "Voltage set 6.69e+00 V\n",
      "Voltage set 6.68e+00 V\n",
      "Voltage set 6.67e+00 V\n",
      "Voltage set 6.66e+00 V\n",
      "Voltage set 6.65e+00 V\n",
      "Voltage set 6.64e+00 V\n",
      "Voltage set 6.63e+00 V\n",
      "Voltage set 6.62e+00 V\n",
      "Voltage set 6.61e+00 V\n",
      "Voltage set 6.6e+00 V\n",
      "Voltage set 6.59e+00 V\n",
      "Voltage set 6.58e+00 V\n",
      "Voltage set 6.57e+00 V\n",
      "Voltage set 6.56e+00 V\n",
      "Voltage set 6.55e+00 V\n",
      "Voltage set 6.54e+00 V\n",
      "Voltage set 6.53e+00 V\n",
      "Voltage set 6.52e+00 V\n",
      "Voltage set 6.51e+00 V\n",
      "Voltage set 6.5e+00 V\n",
      "Voltage set 6.49e+00 V\n",
      "Voltage set 6.48e+00 V\n",
      "Voltage set 6.47e+00 V\n",
      "Voltage set 6.46e+00 V\n",
      "Voltage set 6.45e+00 V\n",
      "Voltage set 6.44e+00 V\n",
      "Voltage set 6.43e+00 V\n",
      "Voltage set 6.42e+00 V\n"
     ]
    },
    {
     "name": "stdout",
     "output_type": "stream",
     "text": [
      "Voltage set 6.41e+00 V\n",
      "Voltage set 6.4e+00 V\n",
      "Voltage set 6.39e+00 V\n",
      "Voltage set 6.38e+00 V\n",
      "Voltage set 6.37e+00 V\n",
      "Voltage set 6.36e+00 V\n",
      "Voltage set 6.35e+00 V\n",
      "Voltage set 6.34e+00 V\n",
      "Voltage set 6.33e+00 V\n",
      "Voltage set 6.32e+00 V\n",
      "Voltage set 6.31e+00 V\n",
      "Voltage set 6.3e+00 V\n",
      "Voltage set 6.29e+00 V\n",
      "Voltage set 6.28e+00 V\n",
      "Voltage set 6.27e+00 V\n",
      "Voltage set 6.26e+00 V\n",
      "Voltage set 6.25e+00 V\n",
      "Voltage set 6.24e+00 V\n",
      "Voltage set 6.23e+00 V\n",
      "Voltage set 6.22e+00 V\n",
      "Voltage set 6.21e+00 V\n",
      "Voltage set 6.2e+00 V\n",
      "Voltage set 6.19e+00 V\n",
      "Voltage set 6.18e+00 V\n",
      "Voltage set 6.17e+00 V\n",
      "Voltage set 6.16e+00 V\n",
      "Voltage set 6.15e+00 V\n",
      "Voltage set 6.14e+00 V\n",
      "Voltage set 6.13e+00 V\n",
      "Voltage set 6.12e+00 V\n",
      "Voltage set 6.11e+00 V\n",
      "Voltage set 6.1e+00 V\n",
      "Voltage set 6.09e+00 V\n",
      "Voltage set 6.08e+00 V\n",
      "Voltage set 6.07e+00 V\n",
      "Voltage set 6.06e+00 V\n",
      "Voltage set 6.05e+00 V\n",
      "Voltage set 6.04e+00 V\n",
      "Voltage set 6.03e+00 V\n",
      "Voltage set 6.02e+00 V\n",
      "Voltage set 6.01e+00 V\n",
      "Voltage set 6e+00 V\n",
      "Voltage set 5.99e+00 V\n",
      "Voltage set 5.98e+00 V\n",
      "Voltage set 5.97e+00 V\n",
      "Voltage set 5.96e+00 V\n",
      "Voltage set 5.95e+00 V\n",
      "Voltage set 5.94e+00 V\n",
      "Voltage set 5.93e+00 V\n",
      "Voltage set 5.92e+00 V\n",
      "Voltage set 5.91e+00 V\n",
      "Voltage set 5.9e+00 V\n",
      "Voltage set 5.89e+00 V\n",
      "Voltage set 5.88e+00 V\n",
      "Voltage set 5.87e+00 V\n",
      "Voltage set 5.86e+00 V\n",
      "Voltage set 5.85e+00 V\n",
      "Voltage set 5.84e+00 V\n",
      "Voltage set 5.83e+00 V\n",
      "Voltage set 5.82e+00 V\n",
      "Voltage set 5.81e+00 V\n",
      "Voltage set 5.8e+00 V\n",
      "Voltage set 5.79e+00 V\n",
      "Voltage set 5.78e+00 V\n",
      "Voltage set 5.77e+00 V\n",
      "Voltage set 5.76e+00 V\n",
      "Voltage set 5.75e+00 V\n",
      "Voltage set 5.74e+00 V\n",
      "Voltage set 5.73e+00 V\n",
      "Voltage set 5.72e+00 V\n",
      "Voltage set 5.71e+00 V\n",
      "Voltage set 5.7e+00 V\n",
      "Voltage set 5.69e+00 V\n",
      "Voltage set 5.68e+00 V\n",
      "Voltage set 5.67e+00 V\n",
      "Voltage set 5.66e+00 V\n",
      "Voltage set 5.65e+00 V\n",
      "Voltage set 5.64e+00 V\n",
      "Voltage set 5.63e+00 V\n",
      "Voltage set 5.62e+00 V\n",
      "Voltage set 5.61e+00 V\n",
      "Voltage set 5.6e+00 V\n",
      "Voltage set 5.59e+00 V\n",
      "Voltage set 5.58e+00 V\n",
      "Voltage set 5.57e+00 V\n",
      "Voltage set 5.56e+00 V\n",
      "Voltage set 5.55e+00 V\n",
      "Voltage set 5.54e+00 V\n",
      "Voltage set 5.53e+00 V\n",
      "Voltage set 5.52e+00 V\n",
      "Voltage set 5.51e+00 V\n",
      "Voltage set 5.5e+00 V\n",
      "Voltage set 5.49e+00 V\n",
      "Voltage set 5.48e+00 V\n",
      "Voltage set 5.47e+00 V\n",
      "Voltage set 5.46e+00 V\n",
      "Voltage set 5.45e+00 V\n",
      "Voltage set 5.44e+00 V\n",
      "Voltage set 5.43e+00 V\n",
      "Voltage set 5.42e+00 V\n",
      "Voltage set 5.41e+00 V\n",
      "Voltage set 5.4e+00 V\n",
      "Voltage set 5.39e+00 V\n",
      "Voltage set 5.38e+00 V\n",
      "Voltage set 5.37e+00 V\n",
      "Voltage set 5.36e+00 V\n",
      "Voltage set 5.35e+00 V\n",
      "Voltage set 5.34e+00 V\n",
      "Voltage set 5.33e+00 V\n",
      "Voltage set 5.32e+00 V\n",
      "Voltage set 5.31e+00 V\n",
      "Voltage set 5.3e+00 V\n",
      "Voltage set 5.29e+00 V\n",
      "Voltage set 5.28e+00 V\n",
      "Voltage set 5.27e+00 V\n",
      "Voltage set 5.26e+00 V\n",
      "Voltage set 5.25e+00 V\n",
      "Voltage set 5.24e+00 V\n",
      "Voltage set 5.23e+00 V\n",
      "Voltage set 5.22e+00 V\n",
      "Voltage set 5.21e+00 V\n",
      "Voltage set 5.2e+00 V\n",
      "Voltage set 5.19e+00 V\n",
      "Voltage set 5.18e+00 V\n",
      "Voltage set 5.17e+00 V\n",
      "Voltage set 5.16e+00 V\n",
      "Voltage set 5.15e+00 V\n",
      "Voltage set 5.14e+00 V\n",
      "Voltage set 5.13e+00 V\n",
      "Voltage set 5.12e+00 V\n",
      "Voltage set 5.11e+00 V\n",
      "Voltage set 5.1e+00 V\n",
      "Voltage set 5.09e+00 V\n",
      "Voltage set 5.08e+00 V\n",
      "Voltage set 5.07e+00 V\n",
      "Voltage set 5.06e+00 V\n",
      "Voltage set 5.05e+00 V\n",
      "Voltage set 5.04e+00 V\n",
      "Voltage set 5.03e+00 V\n",
      "Voltage set 5.02e+00 V\n",
      "Voltage set 5.01e+00 V\n",
      "Voltage set 5e+00 V\n",
      "Voltage set 4.99e+00 V\n",
      "Voltage set 4.98e+00 V\n",
      "Voltage set 4.97e+00 V\n",
      "Voltage set 4.96e+00 V\n",
      "Voltage set 4.95e+00 V\n",
      "Voltage set 4.94e+00 V\n",
      "Voltage set 4.93e+00 V\n",
      "Voltage set 4.92e+00 V\n",
      "Voltage set 4.91e+00 V\n",
      "Voltage set 4.9e+00 V\n",
      "Voltage set 4.89e+00 V\n",
      "Voltage set 4.88e+00 V\n",
      "Voltage set 4.87e+00 V\n",
      "Voltage set 4.86e+00 V\n",
      "Voltage set 4.85e+00 V\n",
      "Voltage set 4.84e+00 V\n",
      "Voltage set 4.83e+00 V\n",
      "Voltage set 4.82e+00 V\n",
      "Voltage set 4.81e+00 V\n",
      "Voltage set 4.8e+00 V\n",
      "Voltage set 4.79e+00 V\n",
      "Voltage set 4.78e+00 V\n",
      "Voltage set 4.77e+00 V\n",
      "Voltage set 4.76e+00 V\n",
      "Voltage set 4.75e+00 V\n",
      "Voltage set 4.74e+00 V\n",
      "Voltage set 4.73e+00 V\n",
      "Voltage set 4.72e+00 V\n",
      "Voltage set 4.71e+00 V\n",
      "Voltage set 4.7e+00 V\n",
      "Voltage set 4.69e+00 V\n",
      "Voltage set 4.68e+00 V\n",
      "Voltage set 4.67e+00 V\n",
      "Voltage set 4.66e+00 V\n",
      "Voltage set 4.65e+00 V\n",
      "Voltage set 4.64e+00 V\n",
      "Voltage set 4.63e+00 V\n",
      "Voltage set 4.62e+00 V\n",
      "Voltage set 4.61e+00 V\n",
      "Voltage set 4.6e+00 V\n",
      "Voltage set 4.59e+00 V\n",
      "Voltage set 4.58e+00 V\n",
      "Voltage set 4.57e+00 V\n",
      "Voltage set 4.56e+00 V\n",
      "Voltage set 4.55e+00 V\n",
      "Voltage set 4.54e+00 V\n",
      "Voltage set 4.53e+00 V\n",
      "Voltage set 4.52e+00 V\n",
      "Voltage set 4.51e+00 V\n",
      "Voltage set 4.5e+00 V\n",
      "Voltage set 4.49e+00 V\n",
      "Voltage set 4.48e+00 V\n",
      "Voltage set 4.47e+00 V\n",
      "Voltage set 4.46e+00 V\n",
      "Voltage set 4.45e+00 V\n",
      "Voltage set 4.44e+00 V\n",
      "Voltage set 4.43e+00 V\n",
      "Voltage set 4.42e+00 V\n",
      "Voltage set 4.41e+00 V\n",
      "Voltage set 4.4e+00 V\n",
      "Voltage set 4.39e+00 V\n",
      "Voltage set 4.38e+00 V\n",
      "Voltage set 4.37e+00 V\n",
      "Voltage set 4.36e+00 V\n",
      "Voltage set 4.35e+00 V\n",
      "Voltage set 4.34e+00 V\n",
      "Voltage set 4.33e+00 V\n",
      "Voltage set 4.32e+00 V\n",
      "Voltage set 4.31e+00 V\n",
      "Voltage set 4.3e+00 V\n",
      "Voltage set 4.29e+00 V\n",
      "Voltage set 4.28e+00 V\n",
      "Voltage set 4.27e+00 V\n",
      "Voltage set 4.26e+00 V\n",
      "Voltage set 4.25e+00 V\n",
      "Voltage set 4.24e+00 V\n",
      "Voltage set 4.23e+00 V\n",
      "Voltage set 4.22e+00 V\n",
      "Voltage set 4.21e+00 V\n",
      "Voltage set 4.2e+00 V\n",
      "Voltage set 4.19e+00 V\n",
      "Voltage set 4.18e+00 V\n",
      "Voltage set 4.17e+00 V\n",
      "Voltage set 4.16e+00 V\n",
      "Voltage set 4.15e+00 V\n",
      "Voltage set 4.14e+00 V\n",
      "Voltage set 4.13e+00 V\n",
      "Voltage set 4.12e+00 V\n",
      "Voltage set 4.11e+00 V\n",
      "Voltage set 4.1e+00 V\n",
      "Voltage set 4.09e+00 V\n",
      "Voltage set 4.08e+00 V\n",
      "Voltage set 4.07e+00 V\n",
      "Voltage set 4.06e+00 V\n",
      "Voltage set 4.05e+00 V\n",
      "Voltage set 4.04e+00 V\n",
      "Voltage set 4.03e+00 V\n",
      "Voltage set 4.02e+00 V\n",
      "Voltage set 4.01e+00 V\n",
      "Voltage set 4e+00 V\n",
      "Voltage set 3.99e+00 V\n",
      "Voltage set 3.98e+00 V\n",
      "Voltage set 3.97e+00 V\n",
      "Voltage set 3.96e+00 V\n",
      "Voltage set 3.95e+00 V\n",
      "Voltage set 3.94e+00 V\n",
      "Voltage set 3.93e+00 V\n",
      "Voltage set 3.92e+00 V\n",
      "Voltage set 3.91e+00 V\n",
      "Voltage set 3.9e+00 V\n",
      "Voltage set 3.89e+00 V\n",
      "Voltage set 3.88e+00 V\n",
      "Voltage set 3.87e+00 V\n",
      "Voltage set 3.86e+00 V\n",
      "Voltage set 3.85e+00 V\n",
      "Voltage set 3.84e+00 V\n",
      "Voltage set 3.83e+00 V\n",
      "Voltage set 3.82e+00 V\n",
      "Voltage set 3.81e+00 V\n",
      "Voltage set 3.8e+00 V\n",
      "Voltage set 3.79e+00 V\n",
      "Voltage set 3.78e+00 V\n",
      "Voltage set 3.77e+00 V\n",
      "Voltage set 3.76e+00 V\n",
      "Voltage set 3.75e+00 V\n",
      "Voltage set 3.74e+00 V\n",
      "Voltage set 3.73e+00 V\n",
      "Voltage set 3.72e+00 V\n",
      "Voltage set 3.71e+00 V\n",
      "Voltage set 3.7e+00 V\n",
      "Voltage set 3.69e+00 V\n",
      "Voltage set 3.68e+00 V\n",
      "Voltage set 3.67e+00 V\n",
      "Voltage set 3.66e+00 V\n",
      "Voltage set 3.65e+00 V\n",
      "Voltage set 3.64e+00 V\n",
      "Voltage set 3.63e+00 V\n",
      "Voltage set 3.62e+00 V\n",
      "Voltage set 3.61e+00 V\n",
      "Voltage set 3.6e+00 V\n",
      "Voltage set 3.59e+00 V\n",
      "Voltage set 3.58e+00 V\n",
      "Voltage set 3.57e+00 V\n",
      "Voltage set 3.56e+00 V\n",
      "Voltage set 3.55e+00 V\n",
      "Voltage set 3.54e+00 V\n",
      "Voltage set 3.53e+00 V\n",
      "Voltage set 3.52e+00 V\n",
      "Voltage set 3.51e+00 V\n",
      "Voltage set 3.5e+00 V\n",
      "Voltage set 3.49e+00 V\n",
      "Voltage set 3.48e+00 V\n",
      "Voltage set 3.47e+00 V\n",
      "Voltage set 3.46e+00 V\n",
      "Voltage set 3.45e+00 V\n",
      "Voltage set 3.44e+00 V\n",
      "Voltage set 3.43e+00 V\n",
      "Voltage set 3.42e+00 V\n",
      "Voltage set 3.41e+00 V\n",
      "Voltage set 3.4e+00 V\n",
      "Voltage set 3.39e+00 V\n",
      "Voltage set 3.38e+00 V\n",
      "Voltage set 3.37e+00 V\n",
      "Voltage set 3.36e+00 V\n",
      "Voltage set 3.35e+00 V\n",
      "Voltage set 3.34e+00 V\n",
      "Voltage set 3.33e+00 V\n",
      "Voltage set 3.32e+00 V\n",
      "Voltage set 3.31e+00 V\n",
      "Voltage set 3.3e+00 V\n",
      "Voltage set 3.29e+00 V\n",
      "Voltage set 3.28e+00 V\n",
      "Voltage set 3.27e+00 V\n",
      "Voltage set 3.26e+00 V\n",
      "Voltage set 3.25e+00 V\n",
      "Voltage set 3.24e+00 V\n",
      "Voltage set 3.23e+00 V\n",
      "Voltage set 3.22e+00 V\n",
      "Voltage set 3.21e+00 V\n",
      "Voltage set 3.2e+00 V\n",
      "Voltage set 3.19e+00 V\n",
      "Voltage set 3.18e+00 V\n",
      "Voltage set 3.17e+00 V\n",
      "Voltage set 3.16e+00 V\n",
      "Voltage set 3.15e+00 V\n",
      "Voltage set 3.14e+00 V\n",
      "Voltage set 3.13e+00 V\n",
      "Voltage set 3.12e+00 V\n",
      "Voltage set 3.11e+00 V\n",
      "Voltage set 3.1e+00 V\n",
      "Voltage set 3.09e+00 V\n",
      "Voltage set 3.08e+00 V\n",
      "Voltage set 3.07e+00 V\n",
      "Voltage set 3.06e+00 V\n",
      "Voltage set 3.05e+00 V\n",
      "Voltage set 3.04e+00 V\n",
      "Voltage set 3.03e+00 V\n",
      "Voltage set 3.02e+00 V\n",
      "Voltage set 3.01e+00 V\n",
      "Voltage set 3e+00 V\n",
      "Voltage set 2.99e+00 V\n",
      "Voltage set 2.98e+00 V\n",
      "Voltage set 2.97e+00 V\n",
      "Voltage set 2.96e+00 V\n",
      "Voltage set 2.95e+00 V\n",
      "Voltage set 2.94e+00 V\n",
      "Voltage set 2.93e+00 V\n",
      "Voltage set 2.92e+00 V\n",
      "Voltage set 2.91e+00 V\n",
      "Voltage set 2.9e+00 V\n",
      "Voltage set 2.89e+00 V\n",
      "Voltage set 2.88e+00 V\n",
      "Voltage set 2.87e+00 V\n",
      "Voltage set 2.86e+00 V\n",
      "Voltage set 2.85e+00 V\n",
      "Voltage set 2.84e+00 V\n",
      "Voltage set 2.83e+00 V\n"
     ]
    },
    {
     "name": "stdout",
     "output_type": "stream",
     "text": [
      "Voltage set 2.82e+00 V\n",
      "Voltage set 2.81e+00 V\n",
      "Voltage set 2.8e+00 V\n",
      "Voltage set 2.79e+00 V\n",
      "Voltage set 2.78e+00 V\n",
      "Voltage set 2.77e+00 V\n",
      "Voltage set 2.76e+00 V\n",
      "Voltage set 2.75e+00 V\n",
      "Voltage set 2.74e+00 V\n",
      "Voltage set 2.73e+00 V\n",
      "Voltage set 2.72e+00 V\n",
      "Voltage set 2.71e+00 V\n",
      "Voltage set 2.7e+00 V\n",
      "Voltage set 2.69e+00 V\n",
      "Voltage set 2.68e+00 V\n",
      "Voltage set 2.67e+00 V\n",
      "Voltage set 2.66e+00 V\n",
      "Voltage set 2.65e+00 V\n",
      "Voltage set 2.64e+00 V\n",
      "Voltage set 2.63e+00 V\n",
      "Voltage set 2.62e+00 V\n",
      "Voltage set 2.61e+00 V\n",
      "Voltage set 2.6e+00 V\n",
      "Voltage set 2.59e+00 V\n",
      "Voltage set 2.58e+00 V\n",
      "Voltage set 2.57e+00 V\n",
      "Voltage set 2.56e+00 V\n",
      "Voltage set 2.55e+00 V\n",
      "Voltage set 2.54e+00 V\n",
      "Voltage set 2.53e+00 V\n",
      "Voltage set 2.52e+00 V\n",
      "Voltage set 2.51e+00 V\n",
      "Voltage set 2.5e+00 V\n",
      "Voltage set 2.49e+00 V\n",
      "Voltage set 2.48e+00 V\n",
      "Voltage set 2.47e+00 V\n",
      "Voltage set 2.46e+00 V\n",
      "Voltage set 2.45e+00 V\n",
      "Voltage set 2.44e+00 V\n",
      "Voltage set 2.43e+00 V\n",
      "Voltage set 2.42e+00 V\n",
      "Voltage set 2.41e+00 V\n",
      "Voltage set 2.4e+00 V\n",
      "Voltage set 2.39e+00 V\n",
      "Voltage set 2.38e+00 V\n",
      "Voltage set 2.37e+00 V\n",
      "Voltage set 2.36e+00 V\n",
      "Voltage set 2.35e+00 V\n",
      "Voltage set 2.34e+00 V\n",
      "Voltage set 2.33e+00 V\n",
      "Voltage set 2.32e+00 V\n",
      "Voltage set 2.31e+00 V\n",
      "Voltage set 2.3e+00 V\n",
      "Voltage set 2.29e+00 V\n",
      "Voltage set 2.28e+00 V\n",
      "Voltage set 2.27e+00 V\n",
      "Voltage set 2.26e+00 V\n",
      "Voltage set 2.25e+00 V\n",
      "Voltage set 2.24e+00 V\n",
      "Voltage set 2.23e+00 V\n",
      "Voltage set 2.22e+00 V\n",
      "Voltage set 2.21e+00 V\n",
      "Voltage set 2.2e+00 V\n",
      "Voltage set 2.19e+00 V\n",
      "Voltage set 2.18e+00 V\n",
      "Voltage set 2.17e+00 V\n",
      "Voltage set 2.16e+00 V\n",
      "Voltage set 2.15e+00 V\n",
      "Voltage set 2.14e+00 V\n",
      "Voltage set 2.13e+00 V\n",
      "Voltage set 2.12e+00 V\n",
      "Voltage set 2.11e+00 V\n",
      "Voltage set 2.1e+00 V\n",
      "Voltage set 2.09e+00 V\n",
      "Voltage set 2.08e+00 V\n",
      "Voltage set 2.07e+00 V\n",
      "Voltage set 2.06e+00 V\n",
      "Voltage set 2.05e+00 V\n",
      "Voltage set 2.04e+00 V\n",
      "Voltage set 2.03e+00 V\n",
      "Voltage set 2.02e+00 V\n",
      "Voltage set 2.01e+00 V\n",
      "Voltage set 2e+00 V\n",
      "Voltage set 1.99e+00 V\n",
      "Voltage set 1.98e+00 V\n",
      "Voltage set 1.97e+00 V\n",
      "Voltage set 1.96e+00 V\n",
      "Voltage set 1.95e+00 V\n",
      "Voltage set 1.94e+00 V\n",
      "Voltage set 1.93e+00 V\n",
      "Voltage set 1.92e+00 V\n",
      "Voltage set 1.91e+00 V\n",
      "Voltage set 1.9e+00 V\n",
      "Voltage set 1.89e+00 V\n",
      "Voltage set 1.88e+00 V\n",
      "Voltage set 1.87e+00 V\n",
      "Voltage set 1.86e+00 V\n",
      "Voltage set 1.85e+00 V\n",
      "Voltage set 1.84e+00 V\n",
      "Voltage set 1.83e+00 V\n",
      "Voltage set 1.82e+00 V\n",
      "Voltage set 1.81e+00 V\n",
      "Voltage set 1.8e+00 V\n",
      "Voltage set 1.79e+00 V\n",
      "Voltage set 1.78e+00 V\n",
      "Voltage set 1.77e+00 V\n",
      "Voltage set 1.76e+00 V\n",
      "Voltage set 1.75e+00 V\n",
      "Voltage set 1.74e+00 V\n",
      "Voltage set 1.73e+00 V\n",
      "Voltage set 1.72e+00 V\n",
      "Voltage set 1.71e+00 V\n",
      "Voltage set 1.7e+00 V\n",
      "Voltage set 1.69e+00 V\n",
      "Voltage set 1.68e+00 V\n",
      "Voltage set 1.67e+00 V\n",
      "Voltage set 1.66e+00 V\n",
      "Voltage set 1.65e+00 V\n",
      "Voltage set 1.64e+00 V\n",
      "Voltage set 1.63e+00 V\n",
      "Voltage set 1.62e+00 V\n",
      "Voltage set 1.61e+00 V\n",
      "Voltage set 1.6e+00 V\n",
      "Voltage set 1.59e+00 V\n",
      "Voltage set 1.58e+00 V\n",
      "Voltage set 1.57e+00 V\n",
      "Voltage set 1.56e+00 V\n",
      "Voltage set 1.55e+00 V\n",
      "Voltage set 1.54e+00 V\n",
      "Voltage set 1.53e+00 V\n",
      "Voltage set 1.52e+00 V\n",
      "Voltage set 1.51e+00 V\n",
      "Voltage set 1.5e+00 V\n",
      "Voltage set 1.49e+00 V\n",
      "Voltage set 1.48e+00 V\n",
      "Voltage set 1.47e+00 V\n",
      "Voltage set 1.46e+00 V\n",
      "Voltage set 1.45e+00 V\n",
      "Voltage set 1.44e+00 V\n",
      "Voltage set 1.43e+00 V\n",
      "Voltage set 1.42e+00 V\n",
      "Voltage set 1.41e+00 V\n",
      "Voltage set 1.4e+00 V\n",
      "Voltage set 1.39e+00 V\n",
      "Voltage set 1.38e+00 V\n",
      "Voltage set 1.37e+00 V\n",
      "Voltage set 1.36e+00 V\n",
      "Voltage set 1.35e+00 V\n",
      "Voltage set 1.34e+00 V\n",
      "Voltage set 1.33e+00 V\n",
      "Voltage set 1.32e+00 V\n",
      "Voltage set 1.31e+00 V\n",
      "Voltage set 1.3e+00 V\n",
      "Voltage set 1.29e+00 V\n",
      "Voltage set 1.28e+00 V\n",
      "Voltage set 1.27e+00 V\n",
      "Voltage set 1.26e+00 V\n",
      "Voltage set 1.25e+00 V\n",
      "Voltage set 1.24e+00 V\n",
      "Voltage set 1.23e+00 V\n",
      "Voltage set 1.22e+00 V\n",
      "Voltage set 1.21e+00 V\n",
      "Voltage set 1.2e+00 V\n",
      "Voltage set 1.19e+00 V\n",
      "Voltage set 1.18e+00 V\n",
      "Voltage set 1.17e+00 V\n",
      "Voltage set 1.16e+00 V\n",
      "Voltage set 1.15e+00 V\n",
      "Voltage set 1.14e+00 V\n",
      "Voltage set 1.13e+00 V\n",
      "Voltage set 1.12e+00 V\n",
      "Voltage set 1.11e+00 V\n",
      "Voltage set 1.1e+00 V\n",
      "Voltage set 1.09e+00 V\n",
      "Voltage set 1.08e+00 V\n",
      "Voltage set 1.07e+00 V\n",
      "Voltage set 1.06e+00 V\n",
      "Voltage set 1.05e+00 V\n",
      "Voltage set 1.04e+00 V\n",
      "Voltage set 1.03e+00 V\n",
      "Voltage set 1.02e+00 V\n",
      "Voltage set 1.01e+00 V\n",
      "Voltage set 1e+00 V\n",
      "Voltage set 9.9e-01 V\n",
      "Voltage set 9.8e-01 V\n",
      "Voltage set 9.7e-01 V\n",
      "Voltage set 9.6e-01 V\n",
      "Voltage set 9.5e-01 V\n",
      "Voltage set 9.4e-01 V\n",
      "Voltage set 9.3e-01 V\n",
      "Voltage set 9.2e-01 V\n",
      "Voltage set 9.1e-01 V\n",
      "Voltage set 9e-01 V\n",
      "Voltage set 8.9e-01 V\n",
      "Voltage set 8.8e-01 V\n",
      "Voltage set 8.7e-01 V\n",
      "Voltage set 8.6e-01 V\n",
      "Voltage set 8.5e-01 V\n",
      "Voltage set 8.4e-01 V\n",
      "Voltage set 8.3e-01 V\n",
      "Voltage set 8.2e-01 V\n",
      "Voltage set 8.1e-01 V\n",
      "Voltage set 8e-01 V\n",
      "Voltage set 7.9e-01 V\n",
      "Voltage set 7.8e-01 V\n",
      "Voltage set 7.7e-01 V\n",
      "Voltage set 7.6e-01 V\n",
      "Voltage set 7.5e-01 V\n",
      "Voltage set 7.4e-01 V\n",
      "Voltage set 7.3e-01 V\n",
      "Voltage set 7.2e-01 V\n",
      "Voltage set 7.1e-01 V\n",
      "Voltage set 7e-01 V\n",
      "Voltage set 6.9e-01 V\n",
      "Voltage set 6.8e-01 V\n",
      "Voltage set 6.7e-01 V\n",
      "Voltage set 6.6e-01 V\n",
      "Voltage set 6.5e-01 V\n",
      "Voltage set 6.4e-01 V\n",
      "Voltage set 6.3e-01 V\n",
      "Voltage set 6.2e-01 V\n",
      "Voltage set 6.1e-01 V\n",
      "Voltage set 6e-01 V\n",
      "Voltage set 5.9e-01 V\n",
      "Voltage set 5.8e-01 V\n",
      "Voltage set 5.7e-01 V\n",
      "Voltage set 5.6e-01 V\n",
      "Voltage set 5.5e-01 V\n",
      "Voltage set 5.4e-01 V\n",
      "Voltage set 5.3e-01 V\n",
      "Voltage set 5.2e-01 V\n",
      "Voltage set 5.1e-01 V\n",
      "Voltage set 5e-01 V\n",
      "Voltage set 4.9e-01 V\n",
      "Voltage set 4.8e-01 V\n",
      "Voltage set 4.7e-01 V\n",
      "Voltage set 4.6e-01 V\n",
      "Voltage set 4.5e-01 V\n",
      "Voltage set 4.4e-01 V\n",
      "Voltage set 4.3e-01 V\n",
      "Voltage set 4.2e-01 V\n",
      "Voltage set 4.1e-01 V\n",
      "Voltage set 4e-01 V\n",
      "Voltage set 3.9e-01 V\n",
      "Voltage set 3.8e-01 V\n",
      "Voltage set 3.7e-01 V\n",
      "Voltage set 3.6e-01 V\n",
      "Voltage set 3.5e-01 V\n",
      "Voltage set 3.4e-01 V\n",
      "Voltage set 3.3e-01 V\n",
      "Voltage set 3.2e-01 V\n",
      "Voltage set 3.1e-01 V\n",
      "Voltage set 3e-01 V\n",
      "Voltage set 2.9e-01 V\n",
      "Voltage set 2.8e-01 V\n",
      "Voltage set 2.7e-01 V\n",
      "Voltage set 2.6e-01 V\n",
      "Voltage set 2.5e-01 V\n",
      "Voltage set 2.4e-01 V\n",
      "Voltage set 2.3e-01 V\n",
      "Voltage set 2.2e-01 V\n",
      "Voltage set 2.1e-01 V\n",
      "Voltage set 2e-01 V\n",
      "Voltage set 1.9e-01 V\n",
      "Voltage set 1.8e-01 V\n",
      "Voltage set 1.7e-01 V\n",
      "Voltage set 1.6e-01 V\n",
      "Voltage set 1.5e-01 V\n",
      "Voltage set 1.4e-01 V\n",
      "Voltage set 1.3e-01 V\n",
      "Voltage set 1.2e-01 V\n",
      "Voltage set 1.1e-01 V\n",
      "Voltage set 1e-01 V\n",
      "Voltage set 9e-02 V\n",
      "Voltage set 8e-02 V\n",
      "Voltage set 7e-02 V\n",
      "Voltage set 6e-02 V\n",
      "Voltage set 5e-02 V\n",
      "Voltage set 4e-02 V\n",
      "Voltage set 3e-02 V\n",
      "Voltage set 2e-02 V\n",
      "Voltage set 1e-02 V\n",
      "Voltage set 0e+00 V\n"
     ]
    }
   ],
   "source": [
    "X = []\n",
    "Y = []\n",
    "Vlt = []\n",
    "\n",
    "name = \"Ramping BO from 10 to 0. BC=BM=10V. NoField.\"+datetime.datetime.now().strftime(\"%Y%m%d%H%M%S.txt\")\n",
    "file = open(name,\"w\")\n",
    "\n",
    "fig, ax = plt.subplots(2,1, figsize=(10,8))\n",
    "hfig = display(fig, display_id=True)\n",
    "\n",
    "\n",
    "plt.setp(ax[0].get_xticklabels(), visible=False)\n",
    "\n",
    "final_voltage = 0.0\n",
    "voltage_steps = np.linspace(current_src_BO.get_voltage(), final_voltage, int(abs(final_voltage-current_src_BO.get_voltage())/0.01+1))\n",
    "\n",
    "for i in voltage_steps:\n",
    "    #clear_output(wait=True)\n",
    "    current_src_BO.set_voltage(i)\n",
    "    sleep(0.5)\n",
    "    \n",
    "    voltageXY = Lock_In.read_outp_in_string()\n",
    "    \n",
    "    filecontent = str(i) + ',' + voltageXY\n",
    "    file.write(filecontent)\n",
    "    \n",
    "    res = Lock_In.read_outp_in_ascii()\n",
    "    X.append(float(res[0]))\n",
    "    Y.append(float(res[1]))\n",
    "    Vlt.append(i)\n",
    "    \n",
    "    # dynamic plot\n",
    "    ax[0].cla()\n",
    "    ax[1].cla()\n",
    "    ax[0].set_title('Lock-In Data')\n",
    "    ax[0].set_ylabel('X [V]', fontsize=16, **hfont)\n",
    "    ax[1].set_xlabel('voltage BO [V]', fontsize=16, **hfont)\n",
    "    ax[1].set_ylabel('Y [V]', fontsize=16, **hfont)\n",
    "    \n",
    "    ax[0].plot(Vlt, X, 'g')\n",
    "    ax[1].plot(Vlt, Y, 'b')\n",
    "    \n",
    "    hfig.update(fig)\n",
    "    plt.pause(0.1)\n",
    "    \n",
    "file.close()\n",
    "lockin_complete_sound()\n",
    "telegram_notification('The Lock-in measurement is complite', t_id, c_id)"
   ]
  },
  {
   "cell_type": "code",
   "execution_count": null,
   "metadata": {},
   "outputs": [],
   "source": []
  },
  {
   "cell_type": "code",
   "execution_count": 477,
   "metadata": {},
   "outputs": [
    {
     "data": {
      "text/plain": [
       "[1.751256e-11, -4.034406e-11]"
      ]
     },
     "execution_count": 477,
     "metadata": {},
     "output_type": "execute_result"
    }
   ],
   "source": [
    "Lock_In.read_outp_in_ascii()"
   ]
  },
  {
   "cell_type": "markdown",
   "metadata": {},
   "source": [
    "# Keysight E5071CA Vector network Analyzer"
   ]
  },
  {
   "cell_type": "code",
   "execution_count": 527,
   "metadata": {},
   "outputs": [],
   "source": [
    "vna = Keysight_E5071C('vna', address = 'VNA')"
   ]
  },
  {
   "cell_type": "code",
   "execution_count": 13,
   "metadata": {},
   "outputs": [
    {
     "data": {
      "text/plain": [
       "True"
      ]
     },
     "execution_count": 13,
     "metadata": {},
     "output_type": "execute_result"
    }
   ],
   "source": [
    "vna.set_sweep_mode(\"LIN\")"
   ]
  },
  {
   "cell_type": "code",
   "execution_count": 534,
   "metadata": {},
   "outputs": [
    {
     "data": {
      "text/plain": [
       "True"
      ]
     },
     "execution_count": 534,
     "metadata": {},
     "output_type": "execute_result"
    }
   ],
   "source": [
    "vna.set_xlim(5.7e9,6.3e9)\n",
    "vna.set_nop(2001)\n",
    "vna.set_average(1)\n",
    "vna.set_averages(2)\n",
    "vna.set_bandwidth(10)\n",
    "vna.set_power(-50)"
   ]
  },
  {
   "cell_type": "code",
   "execution_count": 535,
   "metadata": {},
   "outputs": [],
   "source": [
    "x,y = vna.get_tracedata(format = 'AMPPHA')\n",
    "#x,y = vna.get_tracedata(format = 'REALIMAG')"
   ]
  },
  {
   "cell_type": "code",
   "execution_count": 536,
   "metadata": {},
   "outputs": [
    {
     "data": {
      "text/plain": [
       "192177.298497"
      ]
     },
     "execution_count": 536,
     "metadata": {},
     "output_type": "execute_result"
    }
   ],
   "source": [
    "vna.get_sweep_time()"
   ]
  },
  {
   "cell_type": "code",
   "execution_count": 531,
   "metadata": {},
   "outputs": [],
   "source": [
    "freqs = vna.get_freqpoints()/1e9"
   ]
  },
  {
   "cell_type": "code",
   "execution_count": 503,
   "metadata": {},
   "outputs": [],
   "source": [
    "def unwrap_phase(datapha):\n",
    "    for i in range(0, len(datapha)-1):\n",
    "        if datapha[i+1]-datapha[i] >= numpy.pi:\n",
    "            datapha[i+1] = datapha[i+1] - 2.*numpy.pi\n",
    "        elif datapha[i+1]-datapha[i] <= -numpy.pi:\n",
    "            datapha[i+1] = datapha[i+1] + 2.*numpy.pi\n",
    "    return datapha"
   ]
  },
  {
   "cell_type": "code",
   "execution_count": 532,
   "metadata": {},
   "outputs": [
    {
     "data": {
      "text/plain": [
       "<matplotlib.legend.Legend at 0x216cea70a30>"
      ]
     },
     "execution_count": 532,
     "metadata": {},
     "output_type": "execute_result"
    },
    {
     "data": {
      "image/png": "[encoded data removed]",
      "text/plain": [
       "<Figure size 720x576 with 2 Axes>"
      ]
     },
     "metadata": {
      "needs_background": "light"
     },
     "output_type": "display_data"
    }
   ],
   "source": [
    "fig, axes = plt.subplots(2,1,figsize=(10, 8))\n",
    "\n",
    "p = axes[0].plot(freqs, 10*np.log(x), linewidth=1.0, c = 'r', label='Amplitude')\n",
    "p = axes[1].plot(freqs, y, linewidth=1.0, c = 'b', label='Phase')\n",
    "\n",
    "#axes.axis('tight')\n",
    "axes[1].set_xlabel(r'$\\mu$-wave frequency (GHz)', fontsize=16, **hfont)\n",
    "\n",
    "axes[0].set_ylabel(r'transmission (dBm)', fontsize=16, **hfont)\n",
    "axes[1].set_ylabel(r'phase (rad)', fontsize=16, **hfont)\n",
    "\n",
    "axes[0].legend()\n",
    "axes[1].legend()"
   ]
  },
  {
   "cell_type": "code",
   "execution_count": 246,
   "metadata": {},
   "outputs": [
    {
     "data": {
      "text/plain": [
       "True"
      ]
     },
     "execution_count": 246,
     "metadata": {},
     "output_type": "execute_result"
    }
   ],
   "source": [
    "vna.set_power(-15)"
   ]
  },
  {
   "cell_type": "code",
   "execution_count": 248,
   "metadata": {},
   "outputs": [],
   "source": [
    "x1,y1 = vna.get_tracedata(format = 'AMPPHA')"
   ]
  },
  {
   "cell_type": "code",
   "execution_count": 255,
   "metadata": {},
   "outputs": [
    {
     "data": {
      "text/plain": [
       "<matplotlib.legend.Legend at 0x216e327f250>"
      ]
     },
     "execution_count": 255,
     "metadata": {},
     "output_type": "execute_result"
    },
    {
     "data": {
      "image/png": "[encoded data removed]",
      "text/plain": [
       "<Figure size 1440x576 with 1 Axes>"
      ]
     },
     "metadata": {
      "needs_background": "light"
     },
     "output_type": "display_data"
    }
   ],
   "source": [
    "fig, axes = plt.subplots(1,1,figsize=(20, 8))\n",
    "\n",
    "p = axes.plot(freqs, 10*np.log(x), linewidth=2.0, c = 'r', label='-40dBm')\n",
    "p = axes.plot(freqs, 10*np.log(x1), linewidth=2.0, c = 'b', label='-15dBm')\n",
    "\n",
    "#axes.axis('tight')\n",
    "axes.set_xlabel(r'$\\mu$-wave frequency (GHz)', fontsize=30, **hfont)\n",
    "axes.tick_params(axis='x', labelsize=20)\n",
    "axes.tick_params(axis='y', labelsize=20)\n",
    "\n",
    "axes.set_ylabel(r'transmission (dBm)', fontsize=30, **hfont)\n",
    "axes.legend()\n"
   ]
  },
  {
   "cell_type": "markdown",
   "metadata": {},
   "source": [
    "# Plotting VNA data vs $\\mu$-wave power"
   ]
  },
  {
   "cell_type": "code",
   "execution_count": 537,
   "metadata": {},
   "outputs": [
    {
     "data": {
      "text/plain": [
       "0.21398"
      ]
     },
     "execution_count": 537,
     "metadata": {},
     "output_type": "execute_result"
    }
   ],
   "source": [
    "magnet.get_field()"
   ]
  },
  {
   "cell_type": "code",
   "execution_count": 721,
   "metadata": {},
   "outputs": [
    {
     "name": "stdout",
     "output_type": "stream",
     "text": [
      "Current Field:  0.21398 T\n",
      "Landau frequency:  5.992559999999999 GHz\n"
     ]
    }
   ],
   "source": [
    "magnet.ramp_field(0.214)\n",
    "magnetic_stable_sound()\n",
    "print('Current Field: ' , magnet.get_field(), 'T') \n",
    "print('Landau frequency: ' , field_to_freq(magnet.get_field()), 'GHz') "
   ]
  },
  {
   "cell_type": "code",
   "execution_count": 722,
   "metadata": {},
   "outputs": [],
   "source": [
    "vna.set_xlim(5.7e9,6.3e9)\n",
    "vna.set_nop(2001)\n",
    "vna.set_average(1)\n",
    "vna.set_averages(2)\n",
    "vna.set_bandwidth(10)\n",
    "vna.set_power(-50)\n",
    "sleep_time = vna.get_sweep_time()/1000"
   ]
  },
  {
   "cell_type": "code",
   "execution_count": 723,
   "metadata": {},
   "outputs": [],
   "source": [
    "x,y = vna.get_tracedata(format = 'AMPPHA')"
   ]
  },
  {
   "cell_type": "code",
   "execution_count": 724,
   "metadata": {},
   "outputs": [],
   "source": [
    "freq_steps = vna.get_nop()\n",
    "freq=np.linspace(vna.get_startfreq()/1e9,vna.get_stopfreq()/1e9, freq_steps)       \n",
    "\n",
    "power_steps = 100\n",
    "power = np.linspace(vna.get_power(), -15, power_steps)"
   ]
  },
  {
   "cell_type": "code",
   "execution_count": 725,
   "metadata": {},
   "outputs": [],
   "source": [
    "Transmission = np.zeros((power_steps,freq_steps), dtype=float)\n",
    "Phase = np.zeros((power_steps,freq_steps), dtype=float)"
   ]
  },
  {
   "cell_type": "code",
   "execution_count": 726,
   "metadata": {
    "scrolled": true
   },
   "outputs": [
    {
     "data": {
      "image/png": "[encoded data removed]",
      "text/plain": [
       "<Figure size 576x1152 with 2 Axes>"
      ]
     },
     "metadata": {},
     "output_type": "display_data"
    },
    {
     "name": "stdout",
     "output_type": "stream",
     "text": [
      "Power:  -50.0 [dBm]\n"
     ]
    },
    {
     "ename": "KeyboardInterrupt",
     "evalue": "",
     "output_type": "error",
     "traceback": [
      "\u001b[1;31m---------------------------------------------------------------------------\u001b[0m",
      "\u001b[1;31mKeyboardInterrupt\u001b[0m                         Traceback (most recent call last)",
      "\u001b[1;32m<ipython-input-726-46ffc1c24e00>\u001b[0m in \u001b[0;36m<module>\u001b[1;34m\u001b[0m\n\u001b[0;32m     12\u001b[0m \u001b[1;33m\u001b[0m\u001b[0m\n\u001b[0;32m     13\u001b[0m     \u001b[0mx\u001b[0m\u001b[1;33m,\u001b[0m\u001b[0my\u001b[0m \u001b[1;33m=\u001b[0m \u001b[0mvna\u001b[0m\u001b[1;33m.\u001b[0m\u001b[0mget_tracedata\u001b[0m\u001b[1;33m(\u001b[0m\u001b[0mformat\u001b[0m \u001b[1;33m=\u001b[0m \u001b[1;34m'AMPPHA'\u001b[0m\u001b[1;33m)\u001b[0m\u001b[1;33m\u001b[0m\u001b[1;33m\u001b[0m\u001b[0m\n\u001b[1;32m---> 14\u001b[1;33m     \u001b[0msleep\u001b[0m\u001b[1;33m(\u001b[0m\u001b[0msleep_time\u001b[0m\u001b[1;33m)\u001b[0m\u001b[1;33m\u001b[0m\u001b[1;33m\u001b[0m\u001b[0m\n\u001b[0m\u001b[0;32m     15\u001b[0m     \u001b[0msleep\u001b[0m\u001b[1;33m(\u001b[0m\u001b[1;36m0.2\u001b[0m\u001b[1;33m)\u001b[0m\u001b[1;33m\u001b[0m\u001b[1;33m\u001b[0m\u001b[0m\n\u001b[0;32m     16\u001b[0m \u001b[1;33m\u001b[0m\u001b[0m\n",
      "\u001b[1;31mKeyboardInterrupt\u001b[0m: "
     ]
    },
    {
     "data": {
      "image/png": "[encoded data removed]",
      "text/plain": [
       "<Figure size 576x1152 with 2 Axes>"
      ]
     },
     "metadata": {
      "needs_background": "light"
     },
     "output_type": "display_data"
    }
   ],
   "source": [
    "name = \"experimental data/vna 3Dscan,power sweep from -50dBm to -15dBm. transmission\"+datetime.datetime.now().strftime(\"%Y%m%d%H%M%S.txt\")\n",
    "file = open(name,\"w\")\n",
    "\n",
    "fig, axes = plt.subplots(2,1,figsize=(8, 16))\n",
    "hfig = display(fig, display_id=True)\n",
    "\n",
    "for power_id, power_value in enumerate(power):\n",
    "    print('Power: ', round(power_value,3), '[dBm]')\n",
    "    \n",
    "    vna.set_power(power_value)\n",
    "    sleep(0.3)\n",
    "    \n",
    "    x,y = vna.get_tracedata(format = 'AMPPHA')\n",
    "    sleep(sleep_time)\n",
    "    sleep(0.2)\n",
    "    \n",
    "    \n",
    "    #file.write(f\"{power_value}\\n\")\n",
    "    #for row in x:\n",
    "    #    file.write(row)\n",
    "    #for row in y:\n",
    "    #    file.write(row)\n",
    "    \n",
    "    file.write(f\"{power_value}\\n\")\n",
    "    file.write(f\"{x}\\n\")\n",
    "    file.write(f\"{y}\\n\")\n",
    "    \n",
    "    Transmission[power_id] = x \n",
    "    Phase[power_id] = y \n",
    "\n",
    "    # dynamic plot\n",
    "    axes[0].cla()\n",
    "    axes[1].cla()\n",
    "    axes[0].set_title('VNA vs $\\mu$-wave field')\n",
    "    axes[0].tick_params(axis='x', labelsize=20)\n",
    "    axes[0].tick_params(axis='y', labelsize=20)\n",
    "    axes[1].tick_params(axis='x', labelsize=20)\n",
    "    axes[1].tick_params(axis='y', labelsize=20)\n",
    "    axes[0].set_ylabel('$\\mu$-wave power [dBm]', fontsize=16, **hfont)\n",
    "    axes[1].set_xlabel('frequency (GHz)', fontsize=16, **hfont)\n",
    "    axes[1].set_ylabel('$\\mu$-wave power [dBm]', fontsize=16, **hfont)\n",
    "    \n",
    "    p = axes[0].pcolor(freq, power, 10*np.log(Transmission), cmap=cm.bwr)\n",
    "    #cb = fig.colorbar(p, ax=axes[0])\n",
    "    #cb.set_label(r'transmission (dBm)', labelpad=20, rotation=270, fontsize=24, **hfont)\n",
    "    #cb.ax.tick_params(labelsize=18)\n",
    "    \n",
    "    p = axes[1].pcolor(freq, power, Phase, cmap=cm.bwr)\n",
    "    #cb = fig.colorbar(p, ax=axes[1])\n",
    "    #cb.set_label(r'phase (rad)', labelpad=20, rotation=270, fontsize=24, **hfont)\n",
    "    #cb.ax.tick_params(labelsize=18)\n",
    "    \n",
    "    hfig.update(fig)\n",
    "    plt.pause(0.1)\n",
    "    \n",
    "file.close()\n",
    "complete_sound()\n",
    "telegram_notification('The measurement is complite', t_id, c_id)"
   ]
  },
  {
   "cell_type": "code",
   "execution_count": 492,
   "metadata": {},
   "outputs": [],
   "source": [
    "file.close()"
   ]
  },
  {
   "cell_type": "markdown",
   "metadata": {},
   "source": [
    "# substract the background"
   ]
  },
  {
   "cell_type": "code",
   "execution_count": 712,
   "metadata": {},
   "outputs": [
    {
     "name": "stderr",
     "output_type": "stream",
     "text": [
      "<ipython-input-712-8fa6ba2c53c2>:3: RuntimeWarning: invalid value encountered in log\n",
      "  Transmission_nobg[i_id]=10*np.log(Transmission[i_id])-10*np.log(Transmission[0])\n"
     ]
    }
   ],
   "source": [
    "Transmission_nobg = np.zeros((power_steps,freq_steps), dtype=float)\n",
    "for i_id,i_value in enumerate(Transmission_nobg):\n",
    "    Transmission_nobg[i_id]=10*np.log(Transmission[i_id])-10*np.log(Transmission[0])"
   ]
  },
  {
   "cell_type": "code",
   "execution_count": 713,
   "metadata": {
    "scrolled": false
   },
   "outputs": [
    {
     "name": "stderr",
     "output_type": "stream",
     "text": [
      "<ipython-input-713-1c9123f86e2b>:10: MatplotlibDeprecationWarning: shading='flat' when X and Y have the same dimensions as C is deprecated since 3.3.  Either specify the corners of the quadrilaterals with X and Y, or pass shading='auto', 'nearest' or 'gouraud', or set rcParams['pcolor.shading'].  This will become an error two minor releases later.\n",
      "  p = axes.pcolor(freq, power, Transmission_nobg, cmap=cm.bwr)\n"
     ]
    },
    {
     "data": {
      "image/png": "[encoded data removed]",
      "text/plain": [
       "<Figure size 720x576 with 2 Axes>"
      ]
     },
     "metadata": {
      "needs_background": "light"
     },
     "output_type": "display_data"
    }
   ],
   "source": [
    "fig, axes = plt.subplots(1,1,figsize=(10, 8))\n",
    "\n",
    "axes.set_title('VNA vs Field data')\n",
    "axes.tick_params(axis='x', labelsize=20)\n",
    "axes.tick_params(axis='y', labelsize=20)\n",
    "\n",
    "axes.set_ylabel('$\\mu$-wave power [dBm]', fontsize=16, **hfont)\n",
    "axes.set_xlabel('frequency (GHz)', fontsize=16, **hfont)\n",
    "\n",
    "p = axes.pcolor(freq, power, Transmission_nobg, cmap=cm.bwr)\n",
    "\n",
    "cb = fig.colorbar(p, ax=axes)\n",
    "cb.set_label(r'normalized transmission (dBm)', labelpad=20, rotation=270, fontsize=24, **hfont)\n",
    "cb.ax.tick_params(labelsize=18)"
   ]
  },
  {
   "cell_type": "markdown",
   "metadata": {},
   "source": [
    "# Plotting VNA data vs Magnetic field"
   ]
  },
  {
   "cell_type": "code",
   "execution_count": 751,
   "metadata": {},
   "outputs": [
    {
     "data": {
      "text/plain": [
       "1e-05"
      ]
     },
     "execution_count": 751,
     "metadata": {},
     "output_type": "execute_result"
    }
   ],
   "source": [
    "magnet.get_field()"
   ]
  },
  {
   "cell_type": "code",
   "execution_count": 752,
   "metadata": {},
   "outputs": [
    {
     "data": {
      "text/plain": [
       "array([0.17857143, 0.25      ])"
      ]
     },
     "execution_count": 752,
     "metadata": {},
     "output_type": "execute_result"
    }
   ],
   "source": [
    "freq_to_field(np.array([5.0,7.0]))"
   ]
  },
  {
   "cell_type": "code",
   "execution_count": 753,
   "metadata": {},
   "outputs": [
    {
     "name": "stdout",
     "output_type": "stream",
     "text": [
      "Current Field:  0.17848 T\n",
      "Landau frequency:  4.9977 GHz\n"
     ]
    }
   ],
   "source": [
    "magnet.ramp_field(0.1785)\n",
    "magnetic_stable_sound()\n",
    "telegram_notification('Magnetic field is stable')\n",
    "print('Current Field: ' , magnet.get_field(), 'T') \n",
    "print('Landau frequency: ' , round(field_to_freq(magnet.get_field()),4), 'GHz') "
   ]
  },
  {
   "cell_type": "code",
   "execution_count": 754,
   "metadata": {},
   "outputs": [],
   "source": [
    "vna.set_xlim(5.0e9,7.0e9)\n",
    "vna.set_nop(2001)\n",
    "vna.set_average(1)\n",
    "vna.set_averages(2)\n",
    "vna.set_bandwidth(100)\n",
    "vna.set_power(-40)\n",
    "sleep_time = vna.get_sweep_time()/1000"
   ]
  },
  {
   "cell_type": "code",
   "execution_count": 755,
   "metadata": {},
   "outputs": [],
   "source": [
    "x,y = vna.get_tracedata(format = 'AMPPHA')"
   ]
  },
  {
   "cell_type": "code",
   "execution_count": 756,
   "metadata": {},
   "outputs": [],
   "source": [
    "freq_steps = vna.get_nop()\n",
    "freq=np.linspace(vna.get_startfreq()/1e9,vna.get_stopfreq()/1e9, freq_steps)       \n",
    "\n",
    "field_steps = 1000\n",
    "field = np.linspace(magnet.get_field(), freq_to_field(6.10), field_steps)"
   ]
  },
  {
   "cell_type": "code",
   "execution_count": 757,
   "metadata": {},
   "outputs": [],
   "source": [
    "Transmission = np.zeros((field_steps,freq_steps), dtype=float)\n",
    "Phase = np.zeros((field_steps,freq_steps), dtype=float)"
   ]
  },
  {
   "cell_type": "code",
   "execution_count": 758,
   "metadata": {
    "scrolled": true
   },
   "outputs": [
    {
     "data": {
      "image/png": "[encoded data removed]",
      "text/plain": [
       "<Figure size 576x1152 with 2 Axes>"
      ]
     },
     "metadata": {},
     "output_type": "display_data"
    },
    {
     "name": "stdout",
     "output_type": "stream",
     "text": [
      "Field:  0.1785 [T]\n"
     ]
    },
    {
     "name": "stderr",
     "output_type": "stream",
     "text": [
      "<ipython-input-758-40587f6215da>:36: MatplotlibDeprecationWarning: shading='flat' when X and Y have the same dimensions as C is deprecated since 3.3.  Either specify the corners of the quadrilaterals with X and Y, or pass shading='auto', 'nearest' or 'gouraud', or set rcParams['pcolor.shading'].  This will become an error two minor releases later.\n",
      "  p = axes[0].pcolor(freq, field, Transmission, cmap=cm.bwr)\n",
      "<ipython-input-758-40587f6215da>:37: MatplotlibDeprecationWarning: shading='flat' when X and Y have the same dimensions as C is deprecated since 3.3.  Either specify the corners of the quadrilaterals with X and Y, or pass shading='auto', 'nearest' or 'gouraud', or set rcParams['pcolor.shading'].  This will become an error two minor releases later.\n",
      "  p = axes[1].pcolor(freq, field, Phase, cmap=cm.bwr)\n"
     ]
    },
    {
     "data": {
      "image/png": "[encoded data removed]",
      "text/plain": [
       "<Figure size 576x1152 with 2 Axes>"
      ]
     },
     "metadata": {
      "needs_background": "light"
     },
     "output_type": "display_data"
    },
    {
     "name": "stdout",
     "output_type": "stream",
     "text": [
      "Field:  0.1785 [T]\n",
      "Field:  0.1786 [T]\n",
      "Field:  0.1786 [T]\n",
      "Field:  0.1787 [T]\n",
      "Field:  0.1787 [T]\n",
      "Field:  0.1787 [T]\n",
      "Field:  0.1788 [T]\n",
      "Field:  0.1788 [T]\n",
      "Field:  0.1789 [T]\n",
      "Field:  0.1789 [T]\n",
      "Field:  0.1789 [T]\n",
      "Field:  0.179 [T]\n",
      "Field:  0.179 [T]\n",
      "Field:  0.1791 [T]\n",
      "Field:  0.1791 [T]\n",
      "Field:  0.1791 [T]\n",
      "Field:  0.1792 [T]\n",
      "Field:  0.1792 [T]\n",
      "Field:  0.1792 [T]\n",
      "Field:  0.1793 [T]\n",
      "Field:  0.1793 [T]\n",
      "Field:  0.1794 [T]\n",
      "Field:  0.1794 [T]\n",
      "Field:  0.1794 [T]\n",
      "Field:  0.1795 [T]\n",
      "Field:  0.1795 [T]\n",
      "Field:  0.1796 [T]\n",
      "Field:  0.1796 [T]\n",
      "Field:  0.1796 [T]\n",
      "Field:  0.1797 [T]\n",
      "Field:  0.1797 [T]\n",
      "Field:  0.1798 [T]\n",
      "Field:  0.1798 [T]\n",
      "Field:  0.1798 [T]\n",
      "Field:  0.1799 [T]\n",
      "Field:  0.1799 [T]\n",
      "Field:  0.18 [T]\n",
      "Field:  0.18 [T]\n",
      "Field:  0.18 [T]\n",
      "Field:  0.1801 [T]\n",
      "Field:  0.1801 [T]\n",
      "Field:  0.1802 [T]\n",
      "Field:  0.1802 [T]\n",
      "Field:  0.1802 [T]\n",
      "Field:  0.1803 [T]\n",
      "Field:  0.1803 [T]\n",
      "Field:  0.1804 [T]\n",
      "Field:  0.1804 [T]\n",
      "Field:  0.1804 [T]\n",
      "Field:  0.1805 [T]\n",
      "Field:  0.1805 [T]\n",
      "Field:  0.1805 [T]\n",
      "Field:  0.1806 [T]\n",
      "Field:  0.1806 [T]\n",
      "Field:  0.1807 [T]\n",
      "Field:  0.1807 [T]\n",
      "Field:  0.1807 [T]\n",
      "Field:  0.1808 [T]\n",
      "Field:  0.1808 [T]\n",
      "Field:  0.1809 [T]\n",
      "Field:  0.1809 [T]\n",
      "Field:  0.1809 [T]\n",
      "Field:  0.181 [T]\n",
      "Field:  0.181 [T]\n",
      "Field:  0.1811 [T]\n",
      "Field:  0.1811 [T]\n",
      "Field:  0.1811 [T]\n",
      "Field:  0.1812 [T]\n",
      "Field:  0.1812 [T]\n",
      "Field:  0.1813 [T]\n",
      "Field:  0.1813 [T]\n",
      "Field:  0.1813 [T]\n",
      "Field:  0.1814 [T]\n",
      "Field:  0.1814 [T]\n",
      "Field:  0.1815 [T]\n",
      "Field:  0.1815 [T]\n",
      "Field:  0.1815 [T]\n",
      "Field:  0.1816 [T]\n",
      "Field:  0.1816 [T]\n",
      "Field:  0.1817 [T]\n",
      "Field:  0.1817 [T]\n",
      "Field:  0.1817 [T]\n",
      "Field:  0.1818 [T]\n",
      "Field:  0.1818 [T]\n",
      "Field:  0.1818 [T]\n",
      "Field:  0.1819 [T]\n",
      "Field:  0.1819 [T]\n",
      "Field:  0.182 [T]\n",
      "Field:  0.182 [T]\n",
      "Field:  0.182 [T]\n",
      "Field:  0.1821 [T]\n",
      "Field:  0.1821 [T]\n",
      "Field:  0.1822 [T]\n",
      "Field:  0.1822 [T]\n",
      "Field:  0.1822 [T]\n",
      "Field:  0.1823 [T]\n",
      "Field:  0.1823 [T]\n",
      "Field:  0.1824 [T]\n",
      "Field:  0.1824 [T]\n",
      "Field:  0.1824 [T]\n",
      "Field:  0.1825 [T]\n",
      "Field:  0.1825 [T]\n",
      "Field:  0.1826 [T]\n",
      "Field:  0.1826 [T]\n",
      "Field:  0.1826 [T]\n",
      "Field:  0.1827 [T]\n",
      "Field:  0.1827 [T]\n",
      "Field:  0.1828 [T]\n",
      "Field:  0.1828 [T]\n",
      "Field:  0.1828 [T]\n",
      "Field:  0.1829 [T]\n",
      "Field:  0.1829 [T]\n",
      "Field:  0.183 [T]\n",
      "Field:  0.183 [T]\n",
      "Field:  0.183 [T]\n",
      "Field:  0.1831 [T]\n",
      "Field:  0.1831 [T]\n",
      "Field:  0.1831 [T]\n",
      "Field:  0.1832 [T]\n",
      "Field:  0.1832 [T]\n",
      "Field:  0.1833 [T]\n",
      "Field:  0.1833 [T]\n",
      "Field:  0.1833 [T]\n",
      "Field:  0.1834 [T]\n",
      "Field:  0.1834 [T]\n",
      "Field:  0.1835 [T]\n",
      "Field:  0.1835 [T]\n",
      "Field:  0.1835 [T]\n",
      "Field:  0.1836 [T]\n",
      "Field:  0.1836 [T]\n",
      "Field:  0.1837 [T]\n",
      "Field:  0.1837 [T]\n",
      "Field:  0.1837 [T]\n",
      "Field:  0.1838 [T]\n",
      "Field:  0.1838 [T]\n",
      "Field:  0.1839 [T]\n",
      "Field:  0.1839 [T]\n",
      "Field:  0.1839 [T]\n",
      "Field:  0.184 [T]\n",
      "Field:  0.184 [T]\n",
      "Field:  0.1841 [T]\n",
      "Field:  0.1841 [T]\n",
      "Field:  0.1841 [T]\n",
      "Field:  0.1842 [T]\n",
      "Field:  0.1842 [T]\n",
      "Field:  0.1843 [T]\n",
      "Field:  0.1843 [T]\n",
      "Field:  0.1843 [T]\n",
      "Field:  0.1844 [T]\n",
      "Field:  0.1844 [T]\n",
      "Field:  0.1844 [T]\n",
      "Field:  0.1845 [T]\n",
      "Field:  0.1845 [T]\n",
      "Field:  0.1846 [T]\n",
      "Field:  0.1846 [T]\n",
      "Field:  0.1846 [T]\n",
      "Field:  0.1847 [T]\n",
      "Field:  0.1847 [T]\n",
      "Field:  0.1848 [T]\n",
      "Field:  0.1848 [T]\n",
      "Field:  0.1848 [T]\n",
      "Field:  0.1849 [T]\n",
      "Field:  0.1849 [T]\n",
      "Field:  0.185 [T]\n",
      "Field:  0.185 [T]\n",
      "Field:  0.185 [T]\n",
      "Field:  0.1851 [T]\n",
      "Field:  0.1851 [T]\n",
      "Field:  0.1852 [T]\n",
      "Field:  0.1852 [T]\n",
      "Field:  0.1852 [T]\n",
      "Field:  0.1853 [T]\n",
      "Field:  0.1853 [T]\n",
      "Field:  0.1854 [T]\n",
      "Field:  0.1854 [T]\n",
      "Field:  0.1854 [T]\n",
      "Field:  0.1855 [T]\n",
      "Field:  0.1855 [T]\n",
      "Field:  0.1856 [T]\n",
      "Field:  0.1856 [T]\n",
      "Field:  0.1856 [T]\n",
      "Field:  0.1857 [T]\n",
      "Field:  0.1857 [T]\n",
      "Field:  0.1857 [T]\n",
      "Field:  0.1858 [T]\n",
      "Field:  0.1858 [T]\n",
      "Field:  0.1859 [T]\n",
      "Field:  0.1859 [T]\n",
      "Field:  0.1859 [T]\n",
      "Field:  0.186 [T]\n",
      "Field:  0.186 [T]\n",
      "Field:  0.1861 [T]\n",
      "Field:  0.1861 [T]\n",
      "Field:  0.1861 [T]\n",
      "Field:  0.1862 [T]\n",
      "Field:  0.1862 [T]\n",
      "Field:  0.1863 [T]\n",
      "Field:  0.1863 [T]\n",
      "Field:  0.1863 [T]\n",
      "Field:  0.1864 [T]\n",
      "Field:  0.1864 [T]\n",
      "Field:  0.1865 [T]\n",
      "Field:  0.1865 [T]\n",
      "Field:  0.1865 [T]\n",
      "Field:  0.1866 [T]\n",
      "Field:  0.1866 [T]\n",
      "Field:  0.1867 [T]\n",
      "Field:  0.1867 [T]\n",
      "Field:  0.1867 [T]\n",
      "Field:  0.1868 [T]\n",
      "Field:  0.1868 [T]\n",
      "Field:  0.1869 [T]\n",
      "Field:  0.1869 [T]\n",
      "Field:  0.1869 [T]\n",
      "Field:  0.187 [T]\n",
      "Field:  0.187 [T]\n",
      "Field:  0.187 [T]\n",
      "Field:  0.1871 [T]\n",
      "Field:  0.1871 [T]\n",
      "Field:  0.1872 [T]\n",
      "Field:  0.1872 [T]\n",
      "Field:  0.1872 [T]\n",
      "Field:  0.1873 [T]\n",
      "Field:  0.1873 [T]\n",
      "Field:  0.1874 [T]\n",
      "Field:  0.1874 [T]\n",
      "Field:  0.1874 [T]\n",
      "Field:  0.1875 [T]\n",
      "Field:  0.1875 [T]\n",
      "Field:  0.1876 [T]\n",
      "Field:  0.1876 [T]\n",
      "Field:  0.1876 [T]\n",
      "Field:  0.1877 [T]\n",
      "Field:  0.1877 [T]\n",
      "Field:  0.1878 [T]\n",
      "Field:  0.1878 [T]\n",
      "Field:  0.1878 [T]\n",
      "Field:  0.1879 [T]\n",
      "Field:  0.1879 [T]\n",
      "Field:  0.188 [T]\n",
      "Field:  0.188 [T]\n",
      "Field:  0.188 [T]\n",
      "Field:  0.1881 [T]\n",
      "Field:  0.1881 [T]\n",
      "Field:  0.1882 [T]\n",
      "Field:  0.1882 [T]\n",
      "Field:  0.1882 [T]\n",
      "Field:  0.1883 [T]\n",
      "Field:  0.1883 [T]\n",
      "Field:  0.1883 [T]\n",
      "Field:  0.1884 [T]\n",
      "Field:  0.1884 [T]\n",
      "Field:  0.1885 [T]\n",
      "Field:  0.1885 [T]\n",
      "Field:  0.1885 [T]\n",
      "Field:  0.1886 [T]\n",
      "Field:  0.1886 [T]\n",
      "Field:  0.1887 [T]\n",
      "Field:  0.1887 [T]\n",
      "Field:  0.1887 [T]\n",
      "Field:  0.1888 [T]\n",
      "Field:  0.1888 [T]\n",
      "Field:  0.1889 [T]\n",
      "Field:  0.1889 [T]\n",
      "Field:  0.1889 [T]\n",
      "Field:  0.189 [T]\n",
      "Field:  0.189 [T]\n",
      "Field:  0.1891 [T]\n",
      "Field:  0.1891 [T]\n",
      "Field:  0.1891 [T]\n",
      "Field:  0.1892 [T]\n",
      "Field:  0.1892 [T]\n",
      "Field:  0.1893 [T]\n",
      "Field:  0.1893 [T]\n",
      "Field:  0.1893 [T]\n",
      "Field:  0.1894 [T]\n",
      "Field:  0.1894 [T]\n",
      "Field:  0.1895 [T]\n",
      "Field:  0.1895 [T]\n",
      "Field:  0.1895 [T]\n",
      "Field:  0.1896 [T]\n",
      "Field:  0.1896 [T]\n",
      "Field:  0.1896 [T]\n",
      "Field:  0.1897 [T]\n",
      "Field:  0.1897 [T]\n",
      "Field:  0.1898 [T]\n",
      "Field:  0.1898 [T]\n",
      "Field:  0.1898 [T]\n",
      "Field:  0.1899 [T]\n",
      "Field:  0.1899 [T]\n",
      "Field:  0.19 [T]\n",
      "Field:  0.19 [T]\n",
      "Field:  0.19 [T]\n",
      "Field:  0.1901 [T]\n",
      "Field:  0.1901 [T]\n",
      "Field:  0.1902 [T]\n",
      "Field:  0.1902 [T]\n",
      "Field:  0.1902 [T]\n",
      "Field:  0.1903 [T]\n",
      "Field:  0.1903 [T]\n",
      "Field:  0.1904 [T]\n",
      "Field:  0.1904 [T]\n",
      "Field:  0.1904 [T]\n",
      "Field:  0.1905 [T]\n",
      "Field:  0.1905 [T]\n",
      "Field:  0.1906 [T]\n",
      "Field:  0.1906 [T]\n",
      "Field:  0.1906 [T]\n",
      "Field:  0.1907 [T]\n",
      "Field:  0.1907 [T]\n",
      "Field:  0.1908 [T]\n",
      "Field:  0.1908 [T]\n",
      "Field:  0.1908 [T]\n",
      "Field:  0.1909 [T]\n",
      "Field:  0.1909 [T]\n",
      "Field:  0.1909 [T]\n",
      "Field:  0.191 [T]\n",
      "Field:  0.191 [T]\n",
      "Field:  0.1911 [T]\n",
      "Field:  0.1911 [T]\n",
      "Field:  0.1911 [T]\n",
      "Field:  0.1912 [T]\n",
      "Field:  0.1912 [T]\n",
      "Field:  0.1913 [T]\n",
      "Field:  0.1913 [T]\n",
      "Field:  0.1913 [T]\n",
      "Field:  0.1914 [T]\n",
      "Field:  0.1914 [T]\n",
      "Field:  0.1915 [T]\n",
      "Field:  0.1915 [T]\n",
      "Field:  0.1915 [T]\n",
      "Field:  0.1916 [T]\n",
      "Field:  0.1916 [T]\n",
      "Field:  0.1917 [T]\n",
      "Field:  0.1917 [T]\n",
      "Field:  0.1917 [T]\n",
      "Field:  0.1918 [T]\n",
      "Field:  0.1918 [T]\n",
      "Field:  0.1919 [T]\n",
      "Field:  0.1919 [T]\n",
      "Field:  0.1919 [T]\n",
      "Field:  0.192 [T]\n",
      "Field:  0.192 [T]\n",
      "Field:  0.1921 [T]\n",
      "Field:  0.1921 [T]\n",
      "Field:  0.1921 [T]\n",
      "Field:  0.1922 [T]\n",
      "Field:  0.1922 [T]\n",
      "Field:  0.1922 [T]\n",
      "Field:  0.1923 [T]\n",
      "Field:  0.1923 [T]\n",
      "Field:  0.1924 [T]\n",
      "Field:  0.1924 [T]\n",
      "Field:  0.1924 [T]\n",
      "Field:  0.1925 [T]\n",
      "Field:  0.1925 [T]\n",
      "Field:  0.1926 [T]\n",
      "Field:  0.1926 [T]\n",
      "Field:  0.1926 [T]\n",
      "Field:  0.1927 [T]\n",
      "Field:  0.1927 [T]\n",
      "Field:  0.1928 [T]\n",
      "Field:  0.1928 [T]\n",
      "Field:  0.1928 [T]\n",
      "Field:  0.1929 [T]\n",
      "Field:  0.1929 [T]\n",
      "Field:  0.193 [T]\n",
      "Field:  0.193 [T]\n",
      "Field:  0.193 [T]\n",
      "Field:  0.1931 [T]\n",
      "Field:  0.1931 [T]\n",
      "Field:  0.1932 [T]\n",
      "Field:  0.1932 [T]\n",
      "Field:  0.1932 [T]\n",
      "Field:  0.1933 [T]\n",
      "Field:  0.1933 [T]\n",
      "Field:  0.1934 [T]\n",
      "Field:  0.1934 [T]\n",
      "Field:  0.1934 [T]\n",
      "Field:  0.1935 [T]\n",
      "Field:  0.1935 [T]\n",
      "Field:  0.1935 [T]\n",
      "Field:  0.1936 [T]\n",
      "Field:  0.1936 [T]\n",
      "Field:  0.1937 [T]\n",
      "Field:  0.1937 [T]\n",
      "Field:  0.1937 [T]\n",
      "Field:  0.1938 [T]\n",
      "Field:  0.1938 [T]\n",
      "Field:  0.1939 [T]\n",
      "Field:  0.1939 [T]\n",
      "Field:  0.1939 [T]\n",
      "Field:  0.194 [T]\n",
      "Field:  0.194 [T]\n",
      "Field:  0.1941 [T]\n",
      "Field:  0.1941 [T]\n",
      "Field:  0.1941 [T]\n",
      "Field:  0.1942 [T]\n",
      "Field:  0.1942 [T]\n",
      "Field:  0.1943 [T]\n",
      "Field:  0.1943 [T]\n",
      "Field:  0.1943 [T]\n",
      "Field:  0.1944 [T]\n",
      "Field:  0.1944 [T]\n",
      "Field:  0.1945 [T]\n",
      "Field:  0.1945 [T]\n",
      "Field:  0.1945 [T]\n",
      "Field:  0.1946 [T]\n",
      "Field:  0.1946 [T]\n",
      "Field:  0.1947 [T]\n",
      "Field:  0.1947 [T]\n",
      "Field:  0.1947 [T]\n",
      "Field:  0.1948 [T]\n",
      "Field:  0.1948 [T]\n",
      "Field:  0.1948 [T]\n",
      "Field:  0.1949 [T]\n",
      "Field:  0.1949 [T]\n",
      "Field:  0.195 [T]\n",
      "Field:  0.195 [T]\n",
      "Field:  0.195 [T]\n",
      "Field:  0.1951 [T]\n",
      "Field:  0.1951 [T]\n",
      "Field:  0.1952 [T]\n",
      "Field:  0.1952 [T]\n",
      "Field:  0.1952 [T]\n",
      "Field:  0.1953 [T]\n",
      "Field:  0.1953 [T]\n",
      "Field:  0.1954 [T]\n",
      "Field:  0.1954 [T]\n",
      "Field:  0.1954 [T]\n",
      "Field:  0.1955 [T]\n",
      "Field:  0.1955 [T]\n",
      "Field:  0.1956 [T]\n",
      "Field:  0.1956 [T]\n"
     ]
    },
    {
     "name": "stdout",
     "output_type": "stream",
     "text": [
      "Field:  0.1956 [T]\n",
      "Field:  0.1957 [T]\n",
      "Field:  0.1957 [T]\n",
      "Field:  0.1958 [T]\n",
      "Field:  0.1958 [T]\n",
      "Field:  0.1958 [T]\n",
      "Field:  0.1959 [T]\n",
      "Field:  0.1959 [T]\n",
      "Field:  0.196 [T]\n",
      "Field:  0.196 [T]\n",
      "Field:  0.196 [T]\n",
      "Field:  0.1961 [T]\n",
      "Field:  0.1961 [T]\n",
      "Field:  0.1961 [T]\n",
      "Field:  0.1962 [T]\n",
      "Field:  0.1962 [T]\n",
      "Field:  0.1963 [T]\n",
      "Field:  0.1963 [T]\n",
      "Field:  0.1963 [T]\n",
      "Field:  0.1964 [T]\n",
      "Field:  0.1964 [T]\n",
      "Field:  0.1965 [T]\n",
      "Field:  0.1965 [T]\n",
      "Field:  0.1965 [T]\n",
      "Field:  0.1966 [T]\n",
      "Field:  0.1966 [T]\n",
      "Field:  0.1967 [T]\n",
      "Field:  0.1967 [T]\n",
      "Field:  0.1967 [T]\n",
      "Field:  0.1968 [T]\n",
      "Field:  0.1968 [T]\n",
      "Field:  0.1969 [T]\n",
      "Field:  0.1969 [T]\n",
      "Field:  0.1969 [T]\n",
      "Field:  0.197 [T]\n",
      "Field:  0.197 [T]\n",
      "Field:  0.1971 [T]\n",
      "Field:  0.1971 [T]\n",
      "Field:  0.1971 [T]\n",
      "Field:  0.1972 [T]\n",
      "Field:  0.1972 [T]\n",
      "Field:  0.1973 [T]\n",
      "Field:  0.1973 [T]\n",
      "Field:  0.1973 [T]\n",
      "Field:  0.1974 [T]\n",
      "Field:  0.1974 [T]\n",
      "Field:  0.1974 [T]\n",
      "Field:  0.1975 [T]\n",
      "Field:  0.1975 [T]\n",
      "Field:  0.1976 [T]\n",
      "Field:  0.1976 [T]\n",
      "Field:  0.1976 [T]\n",
      "Field:  0.1977 [T]\n",
      "Field:  0.1977 [T]\n",
      "Field:  0.1978 [T]\n",
      "Field:  0.1978 [T]\n",
      "Field:  0.1978 [T]\n",
      "Field:  0.1979 [T]\n",
      "Field:  0.1979 [T]\n",
      "Field:  0.198 [T]\n",
      "Field:  0.198 [T]\n",
      "Field:  0.198 [T]\n",
      "Field:  0.1981 [T]\n",
      "Field:  0.1981 [T]\n",
      "Field:  0.1982 [T]\n",
      "Field:  0.1982 [T]\n",
      "Field:  0.1982 [T]\n",
      "Field:  0.1983 [T]\n",
      "Field:  0.1983 [T]\n",
      "Field:  0.1984 [T]\n",
      "Field:  0.1984 [T]\n",
      "Field:  0.1984 [T]\n",
      "Field:  0.1985 [T]\n",
      "Field:  0.1985 [T]\n",
      "Field:  0.1986 [T]\n",
      "Field:  0.1986 [T]\n",
      "Field:  0.1986 [T]\n",
      "Field:  0.1987 [T]\n",
      "Field:  0.1987 [T]\n",
      "Field:  0.1987 [T]\n",
      "Field:  0.1988 [T]\n",
      "Field:  0.1988 [T]\n",
      "Field:  0.1989 [T]\n",
      "Field:  0.1989 [T]\n",
      "Field:  0.1989 [T]\n",
      "Field:  0.199 [T]\n",
      "Field:  0.199 [T]\n",
      "Field:  0.1991 [T]\n",
      "Field:  0.1991 [T]\n",
      "Field:  0.1991 [T]\n",
      "Field:  0.1992 [T]\n",
      "Field:  0.1992 [T]\n",
      "Field:  0.1993 [T]\n",
      "Field:  0.1993 [T]\n",
      "Field:  0.1993 [T]\n",
      "Field:  0.1994 [T]\n",
      "Field:  0.1994 [T]\n",
      "Field:  0.1995 [T]\n",
      "Field:  0.1995 [T]\n",
      "Field:  0.1995 [T]\n",
      "Field:  0.1996 [T]\n",
      "Field:  0.1996 [T]\n",
      "Field:  0.1997 [T]\n",
      "Field:  0.1997 [T]\n",
      "Field:  0.1997 [T]\n",
      "Field:  0.1998 [T]\n",
      "Field:  0.1998 [T]\n",
      "Field:  0.1999 [T]\n",
      "Field:  0.1999 [T]\n",
      "Field:  0.1999 [T]\n",
      "Field:  0.2 [T]\n",
      "Field:  0.2 [T]\n",
      "Field:  0.2 [T]\n",
      "Field:  0.2001 [T]\n",
      "Field:  0.2001 [T]\n",
      "Field:  0.2002 [T]\n",
      "Field:  0.2002 [T]\n",
      "Field:  0.2002 [T]\n",
      "Field:  0.2003 [T]\n",
      "Field:  0.2003 [T]\n",
      "Field:  0.2004 [T]\n",
      "Field:  0.2004 [T]\n",
      "Field:  0.2004 [T]\n",
      "Field:  0.2005 [T]\n",
      "Field:  0.2005 [T]\n",
      "Field:  0.2006 [T]\n",
      "Field:  0.2006 [T]\n",
      "Field:  0.2006 [T]\n",
      "Field:  0.2007 [T]\n",
      "Field:  0.2007 [T]\n",
      "Field:  0.2008 [T]\n",
      "Field:  0.2008 [T]\n",
      "Field:  0.2008 [T]\n",
      "Field:  0.2009 [T]\n",
      "Field:  0.2009 [T]\n",
      "Field:  0.201 [T]\n",
      "Field:  0.201 [T]\n",
      "Field:  0.201 [T]\n",
      "Field:  0.2011 [T]\n",
      "Field:  0.2011 [T]\n",
      "Field:  0.2012 [T]\n",
      "Field:  0.2012 [T]\n",
      "Field:  0.2012 [T]\n",
      "Field:  0.2013 [T]\n",
      "Field:  0.2013 [T]\n",
      "Field:  0.2013 [T]\n",
      "Field:  0.2014 [T]\n",
      "Field:  0.2014 [T]\n",
      "Field:  0.2015 [T]\n",
      "Field:  0.2015 [T]\n",
      "Field:  0.2015 [T]\n",
      "Field:  0.2016 [T]\n",
      "Field:  0.2016 [T]\n",
      "Field:  0.2017 [T]\n",
      "Field:  0.2017 [T]\n",
      "Field:  0.2017 [T]\n",
      "Field:  0.2018 [T]\n",
      "Field:  0.2018 [T]\n",
      "Field:  0.2019 [T]\n",
      "Field:  0.2019 [T]\n",
      "Field:  0.2019 [T]\n",
      "Field:  0.202 [T]\n",
      "Field:  0.202 [T]\n",
      "Field:  0.2021 [T]\n",
      "Field:  0.2021 [T]\n",
      "Field:  0.2021 [T]\n",
      "Field:  0.2022 [T]\n",
      "Field:  0.2022 [T]\n",
      "Field:  0.2023 [T]\n",
      "Field:  0.2023 [T]\n",
      "Field:  0.2023 [T]\n",
      "Field:  0.2024 [T]\n",
      "Field:  0.2024 [T]\n",
      "Field:  0.2025 [T]\n",
      "Field:  0.2025 [T]\n",
      "Field:  0.2025 [T]\n",
      "Field:  0.2026 [T]\n",
      "Field:  0.2026 [T]\n",
      "Field:  0.2027 [T]\n",
      "Field:  0.2027 [T]\n",
      "Field:  0.2027 [T]\n",
      "Field:  0.2028 [T]\n",
      "Field:  0.2028 [T]\n",
      "Field:  0.2028 [T]\n",
      "Field:  0.2029 [T]\n",
      "Field:  0.2029 [T]\n",
      "Field:  0.203 [T]\n",
      "Field:  0.203 [T]\n",
      "Field:  0.203 [T]\n",
      "Field:  0.2031 [T]\n",
      "Field:  0.2031 [T]\n",
      "Field:  0.2032 [T]\n",
      "Field:  0.2032 [T]\n",
      "Field:  0.2032 [T]\n",
      "Field:  0.2033 [T]\n",
      "Field:  0.2033 [T]\n",
      "Field:  0.2034 [T]\n",
      "Field:  0.2034 [T]\n",
      "Field:  0.2034 [T]\n",
      "Field:  0.2035 [T]\n",
      "Field:  0.2035 [T]\n",
      "Field:  0.2036 [T]\n",
      "Field:  0.2036 [T]\n",
      "Field:  0.2036 [T]\n",
      "Field:  0.2037 [T]\n",
      "Field:  0.2037 [T]\n",
      "Field:  0.2038 [T]\n",
      "Field:  0.2038 [T]\n",
      "Field:  0.2038 [T]\n",
      "Field:  0.2039 [T]\n",
      "Field:  0.2039 [T]\n",
      "Field:  0.204 [T]\n",
      "Field:  0.204 [T]\n",
      "Field:  0.204 [T]\n",
      "Field:  0.2041 [T]\n",
      "Field:  0.2041 [T]\n",
      "Field:  0.2041 [T]\n",
      "Field:  0.2042 [T]\n",
      "Field:  0.2042 [T]\n",
      "Field:  0.2043 [T]\n",
      "Field:  0.2043 [T]\n",
      "Field:  0.2043 [T]\n",
      "Field:  0.2044 [T]\n",
      "Field:  0.2044 [T]\n",
      "Field:  0.2045 [T]\n",
      "Field:  0.2045 [T]\n",
      "Field:  0.2045 [T]\n",
      "Field:  0.2046 [T]\n",
      "Field:  0.2046 [T]\n",
      "Field:  0.2047 [T]\n",
      "Field:  0.2047 [T]\n",
      "Field:  0.2047 [T]\n",
      "Field:  0.2048 [T]\n",
      "Field:  0.2048 [T]\n",
      "Field:  0.2049 [T]\n",
      "Field:  0.2049 [T]\n",
      "Field:  0.2049 [T]\n",
      "Field:  0.205 [T]\n",
      "Field:  0.205 [T]\n",
      "Field:  0.2051 [T]\n",
      "Field:  0.2051 [T]\n",
      "Field:  0.2051 [T]\n",
      "Field:  0.2052 [T]\n",
      "Field:  0.2052 [T]\n",
      "Field:  0.2053 [T]\n",
      "Field:  0.2053 [T]\n",
      "Field:  0.2053 [T]\n",
      "Field:  0.2054 [T]\n",
      "Field:  0.2054 [T]\n",
      "Field:  0.2054 [T]\n",
      "Field:  0.2055 [T]\n",
      "Field:  0.2055 [T]\n",
      "Field:  0.2056 [T]\n",
      "Field:  0.2056 [T]\n",
      "Field:  0.2056 [T]\n",
      "Field:  0.2057 [T]\n",
      "Field:  0.2057 [T]\n",
      "Field:  0.2058 [T]\n",
      "Field:  0.2058 [T]\n",
      "Field:  0.2058 [T]\n",
      "Field:  0.2059 [T]\n",
      "Field:  0.2059 [T]\n",
      "Field:  0.206 [T]\n",
      "Field:  0.206 [T]\n",
      "Field:  0.206 [T]\n",
      "Field:  0.2061 [T]\n",
      "Field:  0.2061 [T]\n",
      "Field:  0.2062 [T]\n",
      "Field:  0.2062 [T]\n",
      "Field:  0.2062 [T]\n",
      "Field:  0.2063 [T]\n",
      "Field:  0.2063 [T]\n",
      "Field:  0.2064 [T]\n",
      "Field:  0.2064 [T]\n",
      "Field:  0.2064 [T]\n",
      "Field:  0.2065 [T]\n",
      "Field:  0.2065 [T]\n",
      "Field:  0.2066 [T]\n",
      "Field:  0.2066 [T]\n",
      "Field:  0.2066 [T]\n",
      "Field:  0.2067 [T]\n",
      "Field:  0.2067 [T]\n",
      "Field:  0.2067 [T]\n",
      "Field:  0.2068 [T]\n",
      "Field:  0.2068 [T]\n",
      "Field:  0.2069 [T]\n",
      "Field:  0.2069 [T]\n",
      "Field:  0.2069 [T]\n",
      "Field:  0.207 [T]\n",
      "Field:  0.207 [T]\n",
      "Field:  0.2071 [T]\n",
      "Field:  0.2071 [T]\n",
      "Field:  0.2071 [T]\n",
      "Field:  0.2072 [T]\n",
      "Field:  0.2072 [T]\n",
      "Field:  0.2073 [T]\n",
      "Field:  0.2073 [T]\n",
      "Field:  0.2073 [T]\n",
      "Field:  0.2074 [T]\n",
      "Field:  0.2074 [T]\n",
      "Field:  0.2075 [T]\n",
      "Field:  0.2075 [T]\n",
      "Field:  0.2075 [T]\n",
      "Field:  0.2076 [T]\n",
      "Field:  0.2076 [T]\n",
      "Field:  0.2077 [T]\n",
      "Field:  0.2077 [T]\n",
      "Field:  0.2077 [T]\n",
      "Field:  0.2078 [T]\n",
      "Field:  0.2078 [T]\n",
      "Field:  0.2079 [T]\n",
      "Field:  0.2079 [T]\n",
      "Field:  0.2079 [T]\n",
      "Field:  0.208 [T]\n",
      "Field:  0.208 [T]\n",
      "Field:  0.208 [T]\n",
      "Field:  0.2081 [T]\n",
      "Field:  0.2081 [T]\n",
      "Field:  0.2082 [T]\n",
      "Field:  0.2082 [T]\n",
      "Field:  0.2082 [T]\n",
      "Field:  0.2083 [T]\n",
      "Field:  0.2083 [T]\n",
      "Field:  0.2084 [T]\n",
      "Field:  0.2084 [T]\n",
      "Field:  0.2084 [T]\n",
      "Field:  0.2085 [T]\n",
      "Field:  0.2085 [T]\n",
      "Field:  0.2086 [T]\n",
      "Field:  0.2086 [T]\n",
      "Field:  0.2086 [T]\n",
      "Field:  0.2087 [T]\n",
      "Field:  0.2087 [T]\n",
      "Field:  0.2088 [T]\n",
      "Field:  0.2088 [T]\n",
      "Field:  0.2088 [T]\n",
      "Field:  0.2089 [T]\n",
      "Field:  0.2089 [T]\n",
      "Field:  0.209 [T]\n",
      "Field:  0.209 [T]\n",
      "Field:  0.209 [T]\n",
      "Field:  0.2091 [T]\n",
      "Field:  0.2091 [T]\n",
      "Field:  0.2092 [T]\n",
      "Field:  0.2092 [T]\n",
      "Field:  0.2092 [T]\n",
      "Field:  0.2093 [T]\n",
      "Field:  0.2093 [T]\n",
      "Field:  0.2093 [T]\n",
      "Field:  0.2094 [T]\n",
      "Field:  0.2094 [T]\n",
      "Field:  0.2095 [T]\n",
      "Field:  0.2095 [T]\n",
      "Field:  0.2095 [T]\n",
      "Field:  0.2096 [T]\n",
      "Field:  0.2096 [T]\n",
      "Field:  0.2097 [T]\n",
      "Field:  0.2097 [T]\n",
      "Field:  0.2097 [T]\n",
      "Field:  0.2098 [T]\n",
      "Field:  0.2098 [T]\n",
      "Field:  0.2099 [T]\n",
      "Field:  0.2099 [T]\n",
      "Field:  0.2099 [T]\n",
      "Field:  0.21 [T]\n",
      "Field:  0.21 [T]\n",
      "Field:  0.2101 [T]\n",
      "Field:  0.2101 [T]\n",
      "Field:  0.2101 [T]\n",
      "Field:  0.2102 [T]\n",
      "Field:  0.2102 [T]\n",
      "Field:  0.2103 [T]\n",
      "Field:  0.2103 [T]\n",
      "Field:  0.2103 [T]\n",
      "Field:  0.2104 [T]\n",
      "Field:  0.2104 [T]\n",
      "Field:  0.2105 [T]\n",
      "Field:  0.2105 [T]\n",
      "Field:  0.2105 [T]\n",
      "Field:  0.2106 [T]\n",
      "Field:  0.2106 [T]\n",
      "Field:  0.2106 [T]\n",
      "Field:  0.2107 [T]\n",
      "Field:  0.2107 [T]\n",
      "Field:  0.2108 [T]\n",
      "Field:  0.2108 [T]\n",
      "Field:  0.2108 [T]\n",
      "Field:  0.2109 [T]\n",
      "Field:  0.2109 [T]\n",
      "Field:  0.211 [T]\n",
      "Field:  0.211 [T]\n",
      "Field:  0.211 [T]\n",
      "Field:  0.2111 [T]\n",
      "Field:  0.2111 [T]\n",
      "Field:  0.2112 [T]\n",
      "Field:  0.2112 [T]\n",
      "Field:  0.2112 [T]\n",
      "Field:  0.2113 [T]\n",
      "Field:  0.2113 [T]\n",
      "Field:  0.2114 [T]\n",
      "Field:  0.2114 [T]\n",
      "Field:  0.2114 [T]\n",
      "Field:  0.2115 [T]\n",
      "Field:  0.2115 [T]\n",
      "Field:  0.2116 [T]\n",
      "Field:  0.2116 [T]\n",
      "Field:  0.2116 [T]\n",
      "Field:  0.2117 [T]\n",
      "Field:  0.2117 [T]\n",
      "Field:  0.2118 [T]\n",
      "Field:  0.2118 [T]\n",
      "Field:  0.2118 [T]\n",
      "Field:  0.2119 [T]\n",
      "Field:  0.2119 [T]\n",
      "Field:  0.2119 [T]\n",
      "Field:  0.212 [T]\n",
      "Field:  0.212 [T]\n",
      "Field:  0.2121 [T]\n",
      "Field:  0.2121 [T]\n",
      "Field:  0.2121 [T]\n",
      "Field:  0.2122 [T]\n",
      "Field:  0.2122 [T]\n",
      "Field:  0.2123 [T]\n",
      "Field:  0.2123 [T]\n",
      "Field:  0.2123 [T]\n",
      "Field:  0.2124 [T]\n",
      "Field:  0.2124 [T]\n",
      "Field:  0.2125 [T]\n",
      "Field:  0.2125 [T]\n",
      "Field:  0.2125 [T]\n",
      "Field:  0.2126 [T]\n",
      "Field:  0.2126 [T]\n",
      "Field:  0.2127 [T]\n",
      "Field:  0.2127 [T]\n"
     ]
    },
    {
     "name": "stdout",
     "output_type": "stream",
     "text": [
      "Field:  0.2127 [T]\n",
      "Field:  0.2128 [T]\n",
      "Field:  0.2128 [T]\n",
      "Field:  0.2129 [T]\n",
      "Field:  0.2129 [T]\n",
      "Field:  0.2129 [T]\n",
      "Field:  0.213 [T]\n",
      "Field:  0.213 [T]\n",
      "Field:  0.2131 [T]\n",
      "Field:  0.2131 [T]\n",
      "Field:  0.2131 [T]\n",
      "Field:  0.2132 [T]\n",
      "Field:  0.2132 [T]\n",
      "Field:  0.2132 [T]\n",
      "Field:  0.2133 [T]\n",
      "Field:  0.2133 [T]\n",
      "Field:  0.2134 [T]\n",
      "Field:  0.2134 [T]\n",
      "Field:  0.2134 [T]\n",
      "Field:  0.2135 [T]\n",
      "Field:  0.2135 [T]\n",
      "Field:  0.2136 [T]\n",
      "Field:  0.2136 [T]\n",
      "Field:  0.2136 [T]\n",
      "Field:  0.2137 [T]\n",
      "Field:  0.2137 [T]\n",
      "Field:  0.2138 [T]\n",
      "Field:  0.2138 [T]\n",
      "Field:  0.2138 [T]\n",
      "Field:  0.2139 [T]\n",
      "Field:  0.2139 [T]\n",
      "Field:  0.214 [T]\n",
      "Field:  0.214 [T]\n",
      "Field:  0.214 [T]\n",
      "Field:  0.2141 [T]\n",
      "Field:  0.2141 [T]\n",
      "Field:  0.2142 [T]\n",
      "Field:  0.2142 [T]\n",
      "Field:  0.2142 [T]\n",
      "Field:  0.2143 [T]\n",
      "Field:  0.2143 [T]\n",
      "Field:  0.2144 [T]\n",
      "Field:  0.2144 [T]\n",
      "Field:  0.2144 [T]\n",
      "Field:  0.2145 [T]\n",
      "Field:  0.2145 [T]\n",
      "Field:  0.2145 [T]\n",
      "Field:  0.2146 [T]\n",
      "Field:  0.2146 [T]\n",
      "Field:  0.2147 [T]\n",
      "Field:  0.2147 [T]\n",
      "Field:  0.2147 [T]\n",
      "Field:  0.2148 [T]\n",
      "Field:  0.2148 [T]\n",
      "Field:  0.2149 [T]\n",
      "Field:  0.2149 [T]\n",
      "Field:  0.2149 [T]\n",
      "Field:  0.215 [T]\n",
      "Field:  0.215 [T]\n",
      "Field:  0.2151 [T]\n",
      "Field:  0.2151 [T]\n",
      "Field:  0.2151 [T]\n",
      "Field:  0.2152 [T]\n",
      "Field:  0.2152 [T]\n",
      "Field:  0.2153 [T]\n",
      "Field:  0.2153 [T]\n",
      "Field:  0.2153 [T]\n",
      "Field:  0.2154 [T]\n",
      "Field:  0.2154 [T]\n",
      "Field:  0.2155 [T]\n",
      "Field:  0.2155 [T]\n",
      "Field:  0.2155 [T]\n",
      "Field:  0.2156 [T]\n",
      "Field:  0.2156 [T]\n",
      "Field:  0.2157 [T]\n",
      "Field:  0.2157 [T]\n",
      "Field:  0.2157 [T]\n",
      "Field:  0.2158 [T]\n",
      "Field:  0.2158 [T]\n",
      "Field:  0.2158 [T]\n",
      "Field:  0.2159 [T]\n",
      "Field:  0.2159 [T]\n",
      "Field:  0.216 [T]\n",
      "Field:  0.216 [T]\n",
      "Field:  0.216 [T]\n",
      "Field:  0.2161 [T]\n",
      "Field:  0.2161 [T]\n",
      "Field:  0.2162 [T]\n",
      "Field:  0.2162 [T]\n",
      "Field:  0.2162 [T]\n",
      "Field:  0.2163 [T]\n",
      "Field:  0.2163 [T]\n",
      "Field:  0.2164 [T]\n",
      "Field:  0.2164 [T]\n",
      "Field:  0.2164 [T]\n",
      "Field:  0.2165 [T]\n",
      "Field:  0.2165 [T]\n",
      "Field:  0.2166 [T]\n",
      "Field:  0.2166 [T]\n",
      "Field:  0.2166 [T]\n",
      "Field:  0.2167 [T]\n",
      "Field:  0.2167 [T]\n",
      "Field:  0.2168 [T]\n",
      "Field:  0.2168 [T]\n",
      "Field:  0.2168 [T]\n",
      "Field:  0.2169 [T]\n",
      "Field:  0.2169 [T]\n",
      "Field:  0.217 [T]\n",
      "Field:  0.217 [T]\n",
      "Field:  0.217 [T]\n",
      "Field:  0.2171 [T]\n",
      "Field:  0.2171 [T]\n",
      "Field:  0.2171 [T]\n",
      "Field:  0.2172 [T]\n",
      "Field:  0.2172 [T]\n",
      "Field:  0.2173 [T]\n",
      "Field:  0.2173 [T]\n",
      "Field:  0.2173 [T]\n",
      "Field:  0.2174 [T]\n",
      "Field:  0.2174 [T]\n",
      "Field:  0.2175 [T]\n",
      "Field:  0.2175 [T]\n",
      "Field:  0.2175 [T]\n",
      "Field:  0.2176 [T]\n",
      "Field:  0.2176 [T]\n",
      "Field:  0.2177 [T]\n",
      "Field:  0.2177 [T]\n",
      "Field:  0.2177 [T]\n",
      "Field:  0.2178 [T]\n",
      "Field:  0.2178 [T]\n",
      "Field:  0.2179 [T]\n"
     ]
    }
   ],
   "source": [
    "name = \"experimental data/vna 3Dscan,Ramping Magnetic field from 0.1785T to 0.25T. -40dBm, Transmission \"+datetime.datetime.now().strftime(\"%Y%m%d%H%M%S.txt\")\n",
    "file = open(name,\"w\")\n",
    "\n",
    "fig, axes = plt.subplots(2,1,figsize=(8, 16))\n",
    "hfig = display(fig, display_id=True)\n",
    "\n",
    "for field_id, field_value in enumerate(field):\n",
    "    print('Field: ', round(field_value,4), '[T]')\n",
    "    \n",
    "    magnet.ramp_field(field_value)\n",
    "    sleep(0.5)\n",
    "    \n",
    "    x,y = vna.get_tracedata(format = 'AMPPHA')\n",
    "    sleep(sleep_time)\n",
    "    sleep(0.3)\n",
    "\n",
    "    file.write(f\"{field_value}\\n\")\n",
    "    file.write(f\"{x}\\n\")\n",
    "    file.write(f\"{y}\\n\")\n",
    "    \n",
    "    Transmission[field_id] = 10*np.log(x) \n",
    "    Phase[field_id] = y \n",
    "\n",
    "    # dynamic plot\n",
    "    axes[0].cla()\n",
    "    axes[1].cla()\n",
    "    axes[0].set_title('VNA vs Field data')\n",
    "    axes[0].tick_params(axis='x', labelsize=20)\n",
    "    axes[0].tick_params(axis='y', labelsize=20)\n",
    "    axes[1].tick_params(axis='x', labelsize=20)\n",
    "    axes[1].tick_params(axis='y', labelsize=20)\n",
    "    axes[0].set_ylabel('Magnetic field $B_z$ [T]', fontsize=16, **hfont)\n",
    "    axes[1].set_xlabel('frequency (GHz)', fontsize=16, **hfont)\n",
    "    axes[1].set_ylabel('Magnetic field $B_z$ [T]', fontsize=16, **hfont)\n",
    "    \n",
    "    p = axes[0].pcolor(freq, field, Transmission, cmap=cm.bwr)\n",
    "    p = axes[1].pcolor(freq, field, Phase, cmap=cm.bwr)\n",
    "\n",
    "    \n",
    "    hfig.update(fig)\n",
    "    plt.pause(0.1)\n",
    "    \n",
    "#cb = fig.colorbar(p, ax=axes[0])\n",
    "#cb.set_label(r'transmission (dBm)', labelpad=20, rotation=270, fontsize=24, **hfont)\n",
    "#cb.ax.tick_params(labelsize=18)\n",
    "#cb = fig.colorbar(p, ax=axes[1])\n",
    "#cb.set_label(r'phase (rad)', labelpad=20, rotation=270, fontsize=24, **hfont)\n",
    "#cb.ax.tick_params(labelsize=18)\n",
    "    \n",
    "file.close()\n",
    "complete_sound()\n",
    "telegram_notification('The measurement is complite', t_id, c_id)"
   ]
  },
  {
   "cell_type": "code",
   "execution_count": 759,
   "metadata": {
    "scrolled": false
   },
   "outputs": [
    {
     "name": "stderr",
     "output_type": "stream",
     "text": [
      "<ipython-input-759-f7cbc24cc8b6>:12: MatplotlibDeprecationWarning: shading='flat' when X and Y have the same dimensions as C is deprecated since 3.3.  Either specify the corners of the quadrilaterals with X and Y, or pass shading='auto', 'nearest' or 'gouraud', or set rcParams['pcolor.shading'].  This will become an error two minor releases later.\n",
      "  p = axes.pcolor(freq, field[0:95], Transmission[0:95], cmap=cm.bwr)\n"
     ]
    },
    {
     "data": {
      "image/png": "[encoded data removed]",
      "text/plain": [
       "<Figure size 720x576 with 2 Axes>"
      ]
     },
     "metadata": {
      "needs_background": "light"
     },
     "output_type": "display_data"
    }
   ],
   "source": [
    "fig, axes = plt.subplots(1,1,figsize=(10, 8))\n",
    "\n",
    "axes.set_title('VNA vs Field data')\n",
    "axes.tick_params(axis='x', labelsize=20)\n",
    "axes.tick_params(axis='y', labelsize=20)\n",
    "\n",
    "axes.set_ylabel('Magnetic field $B_z$ [T]', fontsize=16, **hfont)\n",
    "axes.set_xlabel('frequency (GHz)', fontsize=16, **hfont)\n",
    "\n",
    "#axes.set_ylim(0.211,0.2175)\n",
    "\n",
    "p = axes.pcolor(freq, field[0:95], Transmission[0:95], cmap=cm.bwr)\n",
    "\n",
    "cb = fig.colorbar(p, ax=axes)\n",
    "cb.set_label(r'normalized transmission (dBm)', labelpad=20, rotation=270, fontsize=24, **hfont)\n",
    "cb.ax.tick_params(labelsize=18)"
   ]
  },
  {
   "cell_type": "markdown",
   "metadata": {},
   "source": [
    "# substract the background"
   ]
  },
  {
   "cell_type": "code",
   "execution_count": 760,
   "metadata": {},
   "outputs": [],
   "source": [
    "Transmission_nobg = np.zeros((field_steps,freq_steps), dtype=float)\n",
    "for i_id,i_value in enumerate(Transmission_nobg):\n",
    "    Transmission_nobg[i_id]=Transmission[i_id] - Transmission[1]"
   ]
  },
  {
   "cell_type": "code",
   "execution_count": 715,
   "metadata": {},
   "outputs": [],
   "source": [
    "#Transmission_nobg[0]=Transmission_nobg[1]"
   ]
  },
  {
   "cell_type": "code",
   "execution_count": 761,
   "metadata": {
    "scrolled": false
   },
   "outputs": [
    {
     "name": "stderr",
     "output_type": "stream",
     "text": [
      "<ipython-input-761-39683739b5ab>:10: MatplotlibDeprecationWarning: shading='flat' when X and Y have the same dimensions as C is deprecated since 3.3.  Either specify the corners of the quadrilaterals with X and Y, or pass shading='auto', 'nearest' or 'gouraud', or set rcParams['pcolor.shading'].  This will become an error two minor releases later.\n",
      "  p = axes.pcolor(freq, field, Transmission_nobg, cmap=cm.bwr)\n"
     ]
    },
    {
     "data": {
      "image/png": "[encoded data removed]",
      "text/plain": [
       "<Figure size 720x576 with 2 Axes>"
      ]
     },
     "metadata": {
      "needs_background": "light"
     },
     "output_type": "display_data"
    }
   ],
   "source": [
    "fig, axes = plt.subplots(1,1,figsize=(10, 8))\n",
    "\n",
    "axes.set_title('VNA vs Field data')\n",
    "axes.tick_params(axis='x', labelsize=20)\n",
    "axes.tick_params(axis='y', labelsize=20)\n",
    "\n",
    "axes.set_ylabel('Magnetic field $B_z$ [T]', fontsize=16, **hfont)\n",
    "axes.set_xlabel('frequency (GHz)', fontsize=16, **hfont)\n",
    "\n",
    "p = axes.pcolor(freq, field, Transmission_nobg, cmap=cm.bwr)\n",
    "\n",
    "cb = fig.colorbar(p, ax=axes)\n",
    "cb.set_label(r'normalized transmission (dBm)', labelpad=20, rotation=270, fontsize=24, **hfont)\n",
    "cb.ax.tick_params(labelsize=18)"
   ]
  },
  {
   "cell_type": "code",
   "execution_count": null,
   "metadata": {},
   "outputs": [],
   "source": []
  },
  {
   "cell_type": "markdown",
   "metadata": {},
   "source": [
    "# Lab brick test"
   ]
  },
  {
   "cell_type": "code",
   "execution_count": 329,
   "metadata": {
    "scrolled": true
   },
   "outputs": [
    {
     "data": {
      "text/plain": [
       "{1: {'name': 'LMS-183DX', 'serial_number': 27937}}"
      ]
     },
     "execution_count": 329,
     "metadata": {},
     "output_type": "execute_result"
    }
   ],
   "source": [
    "get_labbricks()"
   ]
  },
  {
   "cell_type": "code",
   "execution_count": 330,
   "metadata": {},
   "outputs": [],
   "source": [
    "lo1 = Labbrick(name='LMS-183DX', serial=27937)"
   ]
  },
  {
   "cell_type": "code",
   "execution_count": 331,
   "metadata": {},
   "outputs": [
    {
     "data": {
      "text/plain": [
       "-20.0"
      ]
     },
     "execution_count": 331,
     "metadata": {},
     "output_type": "execute_result"
    }
   ],
   "source": [
    "lo1.set_power(-20)\n",
    "lo1.get_power()"
   ]
  },
  {
   "cell_type": "code",
   "execution_count": 338,
   "metadata": {},
   "outputs": [
    {
     "data": {
      "text/plain": [
       "True"
      ]
     },
     "execution_count": 338,
     "metadata": {},
     "output_type": "execute_result"
    }
   ],
   "source": [
    "lo1.set_status(False)\n",
    "lo1.set_power(-30)\n",
    "lo1.set_frequency(6.003e9)"
   ]
  },
  {
   "cell_type": "code",
   "execution_count": 339,
   "metadata": {},
   "outputs": [
    {
     "data": {
      "text/plain": [
       "6003000000.0"
      ]
     },
     "execution_count": 339,
     "metadata": {},
     "output_type": "execute_result"
    }
   ],
   "source": [
    "lo1.get_frequency()"
   ]
  },
  {
   "cell_type": "code",
   "execution_count": 326,
   "metadata": {},
   "outputs": [
    {
     "data": {
      "text/plain": [
       "True"
      ]
     },
     "execution_count": 326,
     "metadata": {},
     "output_type": "execute_result"
    }
   ],
   "source": [
    "lo1.set_status(False)"
   ]
  },
  {
   "cell_type": "code",
   "execution_count": 307,
   "metadata": {},
   "outputs": [
    {
     "data": {
      "text/plain": [
       "array([109.92, 170.04])"
      ]
     },
     "execution_count": 307,
     "metadata": {},
     "output_type": "execute_result"
    }
   ],
   "source": [
    "np.array([9.16,14.17])*12"
   ]
  },
  {
   "cell_type": "code",
   "execution_count": 308,
   "metadata": {},
   "outputs": [
    {
     "data": {
      "text/plain": [
       "13.333333333333334"
      ]
     },
     "execution_count": 308,
     "metadata": {},
     "output_type": "execute_result"
    }
   ],
   "source": [
    "160/12"
   ]
  },
  {
   "cell_type": "markdown",
   "metadata": {},
   "source": [
    "# Plotting Lock-in data vs lab-brick frequency (mm-waves)"
   ]
  },
  {
   "cell_type": "code",
   "execution_count": 511,
   "metadata": {},
   "outputs": [
    {
     "name": "stdout",
     "output_type": "stream",
     "text": [
      "Landau frequency is:  5.99284 [GHz]\n"
     ]
    }
   ],
   "source": [
    "print (\"Landau frequency is: \", field_to_freq(magnet.get_field()), \"[GHz]\")"
   ]
  },
  {
   "cell_type": "code",
   "execution_count": null,
   "metadata": {},
   "outputs": [],
   "source": []
  },
  {
   "cell_type": "code",
   "execution_count": 513,
   "metadata": {},
   "outputs": [
    {
     "name": "stdout",
     "output_type": "stream",
     "text": [
      "Trying to set too small value: 5800000000.0\n"
     ]
    },
    {
     "data": {
      "text/plain": [
       "True"
      ]
     },
     "execution_count": 513,
     "metadata": {},
     "output_type": "execute_result"
    }
   ],
   "source": [
    "#lo1.set_power(0)                                       #for the mm-wave generation\n",
    "#lo1.set_frequency(get_mult_freq(155e9))\n",
    "#lo1.set_status(False)\n",
    "\n",
    "\n",
    "lo1.set_power(-30)                                      #for the Landau levels excitation\n",
    "lo1.set_frequency(5.8e9)\n",
    "lo1.set_status(False)"
   ]
  },
  {
   "cell_type": "code",
   "execution_count": 410,
   "metadata": {},
   "outputs": [],
   "source": [
    "time_constant = 1.0"
   ]
  },
  {
   "cell_type": "code",
   "execution_count": 385,
   "metadata": {},
   "outputs": [
    {
     "data": {
      "text/plain": [
       "True"
      ]
     },
     "execution_count": 385,
     "metadata": {},
     "output_type": "execute_result"
    }
   ],
   "source": [
    "lo1.set_status(False)"
   ]
  },
  {
   "cell_type": "code",
   "execution_count": 414,
   "metadata": {},
   "outputs": [
    {
     "data": {
      "text/plain": [
       "True"
      ]
     },
     "execution_count": 414,
     "metadata": {},
     "output_type": "execute_result"
    }
   ],
   "source": [
    "lo1.set_status(True)"
   ]
  },
  {
   "cell_type": "code",
   "execution_count": 415,
   "metadata": {
    "scrolled": false
   },
   "outputs": [
    {
     "data": {
      "image/png": "[encoded data removed]",
      "text/plain": [
       "<Figure size 720x576 with 2 Axes>"
      ]
     },
     "metadata": {},
     "output_type": "display_data"
    },
    {
     "data": {
      "application/vnd.jupyter.widget-view+json": {
       "model_id": "daf29abe6fbf480c9b246111d69bb290",
       "version_major": 2,
       "version_minor": 0
      },
      "text/plain": [
       "IntProgress(value=0, max=4001)"
      ]
     },
     "metadata": {},
     "output_type": "display_data"
    },
    {
     "data": {
      "image/png": "[encoded data removed]",
      "text/plain": [
       "<Figure size 720x576 with 2 Axes>"
      ]
     },
     "metadata": {
      "needs_background": "light"
     },
     "output_type": "display_data"
    }
   ],
   "source": [
    "X = []\n",
    "Y = []\n",
    "Frequency = []\n",
    "\n",
    "name = \"Sweep mm-wave freq from 110GHZ to 170GHz. P=1. Osc_freq = 100033Hz\"+datetime.datetime.now().strftime(\"%Y%m%d%H%M%S.txt\")\n",
    "file = open(name,\"w\")\n",
    "\n",
    "fig, ax = plt.subplots(2,1, figsize=(10,8))\n",
    "hfig = display(fig, display_id=True)\n",
    "\n",
    "plt.setp(ax[0].get_xticklabels(), visible=False)\n",
    "\n",
    "Steps = 4001\n",
    "freq_steps = np.linspace(get_mult_freq(110e9), get_mult_freq(150e9),Steps)\n",
    "f = IntProgress(min=0, max=Steps)                                            # instantiate the bar\n",
    "display(f)                                                                   # display the bar\n",
    "\n",
    "for i in freq_steps:\n",
    "    lo1.set_frequency(i)\n",
    "    sleep(time_constant)\n",
    "    \n",
    "    voltageXY = Lock_In.read_outp_in_string()\n",
    "    \n",
    "    filecontent = str(i) + ',' + voltageXY\n",
    "    file.write(filecontent)\n",
    "    \n",
    "    res = Lock_In.read_outp_in_ascii()\n",
    "    X.append(float(res[0])*1e9)\n",
    "    Y.append(float(res[1])*1e9)\n",
    "    Frequency.append(get_der_freq(i)/1e9)\n",
    "    \n",
    "    # dynamic plot\n",
    "    ax[0].cla()\n",
    "    ax[1].cla()\n",
    "    ax[0].set_title('Lock-In Data')\n",
    "    ax[0].set_ylabel('X [nA]', fontsize=16, **hfont)\n",
    "    ax[1].set_xlabel('frequency [GHz]', fontsize=16, **hfont)\n",
    "    ax[1].set_ylabel('Y [nA]', fontsize=16, **hfont)\n",
    "    \n",
    "    ax[0].plot(Frequency, X, 'g')\n",
    "    ax[1].plot(Frequency, Y, 'b')\n",
    "    \n",
    "    hfig.update(fig)\n",
    "    plt.pause(0.1)\n",
    "    f.value += 1\n",
    "    \n",
    "lo1.set_status(False)\n",
    "file.close()\n",
    "complete_sound()\n",
    "telegram_notification('The measurement is complite', t_id, c_id)"
   ]
  },
  {
   "cell_type": "markdown",
   "metadata": {},
   "source": [
    "# Plotting Lock-in data vs BC$\\&$BM Voltage (mm-waves frequency is fixed)"
   ]
  },
  {
   "cell_type": "code",
   "execution_count": 452,
   "metadata": {},
   "outputs": [
    {
     "data": {
      "text/plain": [
       "True"
      ]
     },
     "execution_count": 452,
     "metadata": {},
     "output_type": "execute_result"
    }
   ],
   "source": [
    "lo1.set_power(0)\n",
    "lo1.set_frequency(get_mult_freq(140e9))\n",
    "lo1.set_status(False)"
   ]
  },
  {
   "cell_type": "code",
   "execution_count": 448,
   "metadata": {},
   "outputs": [
    {
     "data": {
      "text/plain": [
       "True"
      ]
     },
     "execution_count": 448,
     "metadata": {},
     "output_type": "execute_result"
    }
   ],
   "source": [
    "lo1.set_status(True)"
   ]
  },
  {
   "cell_type": "code",
   "execution_count": 449,
   "metadata": {
    "scrolled": true
   },
   "outputs": [
    {
     "data": {
      "image/png": "[encoded data removed]",
      "text/plain": [
       "<Figure size 720x576 with 2 Axes>"
      ]
     },
     "metadata": {},
     "output_type": "display_data"
    },
    {
     "data": {
      "application/vnd.jupyter.widget-view+json": {
       "model_id": "7cae762a6d3043d9822a563453ea27ce",
       "version_major": 2,
       "version_minor": 0
      },
      "text/plain": [
       "IntProgress(value=0, max=801)"
      ]
     },
     "metadata": {},
     "output_type": "display_data"
    },
    {
     "name": "stdout",
     "output_type": "stream",
     "text": [
      "Voltage set 1e+01 V\n",
      "Voltage set 1e+01 V\n"
     ]
    },
    {
     "data": {
      "image/png": "[encoded data removed]",
      "text/plain": [
       "<Figure size 720x576 with 2 Axes>"
      ]
     },
     "metadata": {
      "needs_background": "light"
     },
     "output_type": "display_data"
    },
    {
     "name": "stdout",
     "output_type": "stream",
     "text": [
      "Voltage set 9.99e+00 V\n",
      "Voltage set 9.99e+00 V\n",
      "Voltage set 9.98e+00 V\n",
      "Voltage set 9.98e+00 V\n",
      "Voltage set 9.97e+00 V\n",
      "Voltage set 9.97e+00 V\n",
      "Voltage set 9.96e+00 V\n",
      "Voltage set 9.96e+00 V\n",
      "Voltage set 9.95e+00 V\n",
      "Voltage set 9.95e+00 V\n",
      "Voltage set 9.94e+00 V\n",
      "Voltage set 9.94e+00 V\n",
      "Voltage set 9.93e+00 V\n",
      "Voltage set 9.93e+00 V\n",
      "Voltage set 9.92e+00 V\n",
      "Voltage set 9.92e+00 V\n",
      "Voltage set 9.91e+00 V\n",
      "Voltage set 9.91e+00 V\n",
      "Voltage set 9.9e+00 V\n",
      "Voltage set 9.9e+00 V\n",
      "Voltage set 9.89e+00 V\n",
      "Voltage set 9.89e+00 V\n",
      "Voltage set 9.88e+00 V\n",
      "Voltage set 9.88e+00 V\n",
      "Voltage set 9.87e+00 V\n",
      "Voltage set 9.87e+00 V\n",
      "Voltage set 9.86e+00 V\n",
      "Voltage set 9.86e+00 V\n",
      "Voltage set 9.85e+00 V\n",
      "Voltage set 9.85e+00 V\n",
      "Voltage set 9.84e+00 V\n",
      "Voltage set 9.84e+00 V\n",
      "Voltage set 9.83e+00 V\n",
      "Voltage set 9.83e+00 V\n",
      "Voltage set 9.82e+00 V\n",
      "Voltage set 9.82e+00 V\n",
      "Voltage set 9.81e+00 V\n",
      "Voltage set 9.81e+00 V\n",
      "Voltage set 9.8e+00 V\n",
      "Voltage set 9.8e+00 V\n",
      "Voltage set 9.79e+00 V\n",
      "Voltage set 9.79e+00 V\n",
      "Voltage set 9.78e+00 V\n",
      "Voltage set 9.78e+00 V\n",
      "Voltage set 9.77e+00 V\n",
      "Voltage set 9.77e+00 V\n",
      "Voltage set 9.76e+00 V\n",
      "Voltage set 9.76e+00 V\n",
      "Voltage set 9.75e+00 V\n",
      "Voltage set 9.75e+00 V\n",
      "Voltage set 9.74e+00 V\n",
      "Voltage set 9.74e+00 V\n",
      "Voltage set 9.73e+00 V\n",
      "Voltage set 9.73e+00 V\n",
      "Voltage set 9.72e+00 V\n",
      "Voltage set 9.72e+00 V\n",
      "Voltage set 9.71e+00 V\n",
      "Voltage set 9.71e+00 V\n",
      "Voltage set 9.7e+00 V\n",
      "Voltage set 9.7e+00 V\n",
      "Voltage set 9.69e+00 V\n",
      "Voltage set 9.69e+00 V\n",
      "Voltage set 9.68e+00 V\n",
      "Voltage set 9.68e+00 V\n",
      "Voltage set 9.67e+00 V\n",
      "Voltage set 9.67e+00 V\n",
      "Voltage set 9.66e+00 V\n",
      "Voltage set 9.66e+00 V\n",
      "Voltage set 9.65e+00 V\n",
      "Voltage set 9.65e+00 V\n",
      "Voltage set 9.64e+00 V\n",
      "Voltage set 9.64e+00 V\n",
      "Voltage set 9.63e+00 V\n",
      "Voltage set 9.63e+00 V\n",
      "Voltage set 9.62e+00 V\n",
      "Voltage set 9.62e+00 V\n",
      "Voltage set 9.61e+00 V\n",
      "Voltage set 9.61e+00 V\n",
      "Voltage set 9.6e+00 V\n",
      "Voltage set 9.6e+00 V\n",
      "Voltage set 9.59e+00 V\n",
      "Voltage set 9.59e+00 V\n",
      "Voltage set 9.58e+00 V\n",
      "Voltage set 9.58e+00 V\n",
      "Voltage set 9.57e+00 V\n",
      "Voltage set 9.57e+00 V\n",
      "Voltage set 9.56e+00 V\n",
      "Voltage set 9.56e+00 V\n",
      "Voltage set 9.55e+00 V\n",
      "Voltage set 9.55e+00 V\n",
      "Voltage set 9.54e+00 V\n",
      "Voltage set 9.54e+00 V\n",
      "Voltage set 9.53e+00 V\n",
      "Voltage set 9.53e+00 V\n",
      "Voltage set 9.52e+00 V\n",
      "Voltage set 9.52e+00 V\n",
      "Voltage set 9.51e+00 V\n",
      "Voltage set 9.51e+00 V\n",
      "Voltage set 9.5e+00 V\n",
      "Voltage set 9.5e+00 V\n",
      "Voltage set 9.49e+00 V\n",
      "Voltage set 9.49e+00 V\n",
      "Voltage set 9.48e+00 V\n",
      "Voltage set 9.48e+00 V\n",
      "Voltage set 9.47e+00 V\n",
      "Voltage set 9.47e+00 V\n",
      "Voltage set 9.46e+00 V\n",
      "Voltage set 9.46e+00 V\n",
      "Voltage set 9.45e+00 V\n",
      "Voltage set 9.45e+00 V\n",
      "Voltage set 9.44e+00 V\n",
      "Voltage set 9.44e+00 V\n",
      "Voltage set 9.43e+00 V\n",
      "Voltage set 9.43e+00 V\n",
      "Voltage set 9.42e+00 V\n",
      "Voltage set 9.42e+00 V\n",
      "Voltage set 9.41e+00 V\n",
      "Voltage set 9.41e+00 V\n",
      "Voltage set 9.4e+00 V\n",
      "Voltage set 9.4e+00 V\n",
      "Voltage set 9.39e+00 V\n",
      "Voltage set 9.39e+00 V\n",
      "Voltage set 9.38e+00 V\n",
      "Voltage set 9.38e+00 V\n",
      "Voltage set 9.37e+00 V\n",
      "Voltage set 9.37e+00 V\n",
      "Voltage set 9.36e+00 V\n",
      "Voltage set 9.36e+00 V\n",
      "Voltage set 9.35e+00 V\n",
      "Voltage set 9.35e+00 V\n",
      "Voltage set 9.34e+00 V\n",
      "Voltage set 9.34e+00 V\n",
      "Voltage set 9.33e+00 V\n",
      "Voltage set 9.33e+00 V\n",
      "Voltage set 9.32e+00 V\n",
      "Voltage set 9.32e+00 V\n",
      "Voltage set 9.31e+00 V\n",
      "Voltage set 9.31e+00 V\n",
      "Voltage set 9.3e+00 V\n",
      "Voltage set 9.3e+00 V\n",
      "Voltage set 9.29e+00 V\n",
      "Voltage set 9.29e+00 V\n",
      "Voltage set 9.28e+00 V\n",
      "Voltage set 9.28e+00 V\n",
      "Voltage set 9.27e+00 V\n",
      "Voltage set 9.27e+00 V\n",
      "Voltage set 9.26e+00 V\n",
      "Voltage set 9.26e+00 V\n",
      "Voltage set 9.25e+00 V\n",
      "Voltage set 9.25e+00 V\n",
      "Voltage set 9.24e+00 V\n",
      "Voltage set 9.24e+00 V\n",
      "Voltage set 9.23e+00 V\n",
      "Voltage set 9.23e+00 V\n",
      "Voltage set 9.22e+00 V\n",
      "Voltage set 9.22e+00 V\n",
      "Voltage set 9.21e+00 V\n",
      "Voltage set 9.21e+00 V\n",
      "Voltage set 9.2e+00 V\n",
      "Voltage set 9.2e+00 V\n",
      "Voltage set 9.19e+00 V\n",
      "Voltage set 9.19e+00 V\n",
      "Voltage set 9.18e+00 V\n",
      "Voltage set 9.18e+00 V\n",
      "Voltage set 9.17e+00 V\n",
      "Voltage set 9.17e+00 V\n",
      "Voltage set 9.16e+00 V\n",
      "Voltage set 9.16e+00 V\n",
      "Voltage set 9.15e+00 V\n",
      "Voltage set 9.15e+00 V\n",
      "Voltage set 9.14e+00 V\n",
      "Voltage set 9.14e+00 V\n",
      "Voltage set 9.13e+00 V\n",
      "Voltage set 9.13e+00 V\n",
      "Voltage set 9.12e+00 V\n",
      "Voltage set 9.12e+00 V\n",
      "Voltage set 9.11e+00 V\n",
      "Voltage set 9.11e+00 V\n",
      "Voltage set 9.1e+00 V\n",
      "Voltage set 9.1e+00 V\n",
      "Voltage set 9.09e+00 V\n",
      "Voltage set 9.09e+00 V\n",
      "Voltage set 9.08e+00 V\n",
      "Voltage set 9.08e+00 V\n",
      "Voltage set 9.07e+00 V\n",
      "Voltage set 9.07e+00 V\n",
      "Voltage set 9.06e+00 V\n",
      "Voltage set 9.06e+00 V\n",
      "Voltage set 9.05e+00 V\n",
      "Voltage set 9.05e+00 V\n",
      "Voltage set 9.04e+00 V\n",
      "Voltage set 9.04e+00 V\n",
      "Voltage set 9.03e+00 V\n",
      "Voltage set 9.03e+00 V\n",
      "Voltage set 9.02e+00 V\n",
      "Voltage set 9.02e+00 V\n",
      "Voltage set 9.01e+00 V\n",
      "Voltage set 9.01e+00 V\n",
      "Voltage set 9e+00 V\n",
      "Voltage set 9e+00 V\n",
      "Voltage set 8.99e+00 V\n",
      "Voltage set 8.99e+00 V\n",
      "Voltage set 8.98e+00 V\n",
      "Voltage set 8.98e+00 V\n",
      "Voltage set 8.97e+00 V\n",
      "Voltage set 8.97e+00 V\n",
      "Voltage set 8.96e+00 V\n",
      "Voltage set 8.96e+00 V\n",
      "Voltage set 8.95e+00 V\n",
      "Voltage set 8.95e+00 V\n",
      "Voltage set 8.94e+00 V\n",
      "Voltage set 8.94e+00 V\n",
      "Voltage set 8.93e+00 V\n",
      "Voltage set 8.93e+00 V\n",
      "Voltage set 8.92e+00 V\n",
      "Voltage set 8.92e+00 V\n",
      "Voltage set 8.91e+00 V\n",
      "Voltage set 8.91e+00 V\n",
      "Voltage set 8.9e+00 V\n",
      "Voltage set 8.9e+00 V\n",
      "Voltage set 8.89e+00 V\n",
      "Voltage set 8.89e+00 V\n",
      "Voltage set 8.88e+00 V\n",
      "Voltage set 8.88e+00 V\n",
      "Voltage set 8.87e+00 V\n",
      "Voltage set 8.87e+00 V\n",
      "Voltage set 8.86e+00 V\n",
      "Voltage set 8.86e+00 V\n",
      "Voltage set 8.85e+00 V\n",
      "Voltage set 8.85e+00 V\n",
      "Voltage set 8.84e+00 V\n",
      "Voltage set 8.84e+00 V\n",
      "Voltage set 8.83e+00 V\n",
      "Voltage set 8.83e+00 V\n",
      "Voltage set 8.82e+00 V\n",
      "Voltage set 8.82e+00 V\n",
      "Voltage set 8.81e+00 V\n",
      "Voltage set 8.81e+00 V\n",
      "Voltage set 8.8e+00 V\n",
      "Voltage set 8.8e+00 V\n",
      "Voltage set 8.79e+00 V\n",
      "Voltage set 8.79e+00 V\n",
      "Voltage set 8.78e+00 V\n",
      "Voltage set 8.78e+00 V\n",
      "Voltage set 8.77e+00 V\n",
      "Voltage set 8.77e+00 V\n",
      "Voltage set 8.76e+00 V\n",
      "Voltage set 8.76e+00 V\n",
      "Voltage set 8.75e+00 V\n",
      "Voltage set 8.75e+00 V\n",
      "Voltage set 8.74e+00 V\n",
      "Voltage set 8.74e+00 V\n",
      "Voltage set 8.73e+00 V\n",
      "Voltage set 8.73e+00 V\n",
      "Voltage set 8.72e+00 V\n",
      "Voltage set 8.72e+00 V\n",
      "Voltage set 8.71e+00 V\n",
      "Voltage set 8.71e+00 V\n",
      "Voltage set 8.7e+00 V\n",
      "Voltage set 8.7e+00 V\n",
      "Voltage set 8.69e+00 V\n",
      "Voltage set 8.69e+00 V\n",
      "Voltage set 8.68e+00 V\n",
      "Voltage set 8.68e+00 V\n",
      "Voltage set 8.67e+00 V\n",
      "Voltage set 8.67e+00 V\n",
      "Voltage set 8.66e+00 V\n",
      "Voltage set 8.66e+00 V\n",
      "Voltage set 8.65e+00 V\n",
      "Voltage set 8.65e+00 V\n",
      "Voltage set 8.64e+00 V\n",
      "Voltage set 8.64e+00 V\n",
      "Voltage set 8.63e+00 V\n",
      "Voltage set 8.63e+00 V\n",
      "Voltage set 8.62e+00 V\n",
      "Voltage set 8.62e+00 V\n",
      "Voltage set 8.61e+00 V\n",
      "Voltage set 8.61e+00 V\n",
      "Voltage set 8.6e+00 V\n",
      "Voltage set 8.6e+00 V\n",
      "Voltage set 8.59e+00 V\n",
      "Voltage set 8.59e+00 V\n",
      "Voltage set 8.58e+00 V\n",
      "Voltage set 8.58e+00 V\n",
      "Voltage set 8.57e+00 V\n",
      "Voltage set 8.57e+00 V\n",
      "Voltage set 8.56e+00 V\n",
      "Voltage set 8.56e+00 V\n",
      "Voltage set 8.55e+00 V\n",
      "Voltage set 8.55e+00 V\n",
      "Voltage set 8.54e+00 V\n",
      "Voltage set 8.54e+00 V\n",
      "Voltage set 8.53e+00 V\n",
      "Voltage set 8.53e+00 V\n",
      "Voltage set 8.52e+00 V\n",
      "Voltage set 8.52e+00 V\n",
      "Voltage set 8.51e+00 V\n",
      "Voltage set 8.51e+00 V\n",
      "Voltage set 8.5e+00 V\n",
      "Voltage set 8.5e+00 V\n",
      "Voltage set 8.49e+00 V\n",
      "Voltage set 8.49e+00 V\n",
      "Voltage set 8.48e+00 V\n",
      "Voltage set 8.48e+00 V\n",
      "Voltage set 8.47e+00 V\n",
      "Voltage set 8.47e+00 V\n",
      "Voltage set 8.46e+00 V\n",
      "Voltage set 8.46e+00 V\n",
      "Voltage set 8.45e+00 V\n",
      "Voltage set 8.45e+00 V\n",
      "Voltage set 8.44e+00 V\n",
      "Voltage set 8.44e+00 V\n",
      "Voltage set 8.43e+00 V\n",
      "Voltage set 8.43e+00 V\n",
      "Voltage set 8.42e+00 V\n",
      "Voltage set 8.42e+00 V\n",
      "Voltage set 8.41e+00 V\n",
      "Voltage set 8.41e+00 V\n",
      "Voltage set 8.4e+00 V\n",
      "Voltage set 8.4e+00 V\n",
      "Voltage set 8.39e+00 V\n",
      "Voltage set 8.39e+00 V\n",
      "Voltage set 8.38e+00 V\n",
      "Voltage set 8.38e+00 V\n",
      "Voltage set 8.37e+00 V\n",
      "Voltage set 8.37e+00 V\n",
      "Voltage set 8.36e+00 V\n",
      "Voltage set 8.36e+00 V\n",
      "Voltage set 8.35e+00 V\n",
      "Voltage set 8.35e+00 V\n",
      "Voltage set 8.34e+00 V\n",
      "Voltage set 8.34e+00 V\n",
      "Voltage set 8.33e+00 V\n",
      "Voltage set 8.33e+00 V\n",
      "Voltage set 8.32e+00 V\n",
      "Voltage set 8.32e+00 V\n",
      "Voltage set 8.31e+00 V\n",
      "Voltage set 8.31e+00 V\n",
      "Voltage set 8.3e+00 V\n",
      "Voltage set 8.3e+00 V\n",
      "Voltage set 8.29e+00 V\n",
      "Voltage set 8.29e+00 V\n",
      "Voltage set 8.28e+00 V\n",
      "Voltage set 8.28e+00 V\n",
      "Voltage set 8.27e+00 V\n",
      "Voltage set 8.27e+00 V\n",
      "Voltage set 8.26e+00 V\n",
      "Voltage set 8.26e+00 V\n",
      "Voltage set 8.25e+00 V\n",
      "Voltage set 8.25e+00 V\n",
      "Voltage set 8.24e+00 V\n",
      "Voltage set 8.24e+00 V\n",
      "Voltage set 8.23e+00 V\n",
      "Voltage set 8.23e+00 V\n",
      "Voltage set 8.22e+00 V\n",
      "Voltage set 8.22e+00 V\n",
      "Voltage set 8.21e+00 V\n",
      "Voltage set 8.21e+00 V\n"
     ]
    },
    {
     "name": "stdout",
     "output_type": "stream",
     "text": [
      "Voltage set 8.2e+00 V\n",
      "Voltage set 8.2e+00 V\n",
      "Voltage set 8.19e+00 V\n",
      "Voltage set 8.19e+00 V\n",
      "Voltage set 8.18e+00 V\n",
      "Voltage set 8.18e+00 V\n",
      "Voltage set 8.17e+00 V\n",
      "Voltage set 8.17e+00 V\n",
      "Voltage set 8.16e+00 V\n",
      "Voltage set 8.16e+00 V\n",
      "Voltage set 8.15e+00 V\n",
      "Voltage set 8.15e+00 V\n",
      "Voltage set 8.14e+00 V\n",
      "Voltage set 8.14e+00 V\n",
      "Voltage set 8.13e+00 V\n",
      "Voltage set 8.13e+00 V\n",
      "Voltage set 8.12e+00 V\n",
      "Voltage set 8.12e+00 V\n",
      "Voltage set 8.11e+00 V\n",
      "Voltage set 8.11e+00 V\n",
      "Voltage set 8.1e+00 V\n",
      "Voltage set 8.1e+00 V\n",
      "Voltage set 8.09e+00 V\n",
      "Voltage set 8.09e+00 V\n",
      "Voltage set 8.08e+00 V\n",
      "Voltage set 8.08e+00 V\n",
      "Voltage set 8.07e+00 V\n",
      "Voltage set 8.07e+00 V\n",
      "Voltage set 8.06e+00 V\n",
      "Voltage set 8.06e+00 V\n",
      "Voltage set 8.05e+00 V\n",
      "Voltage set 8.05e+00 V\n",
      "Voltage set 8.04e+00 V\n",
      "Voltage set 8.04e+00 V\n",
      "Voltage set 8.03e+00 V\n",
      "Voltage set 8.03e+00 V\n",
      "Voltage set 8.02e+00 V\n",
      "Voltage set 8.02e+00 V\n",
      "Voltage set 8.01e+00 V\n",
      "Voltage set 8.01e+00 V\n",
      "Voltage set 8e+00 V\n",
      "Voltage set 8e+00 V\n",
      "Voltage set 7.99e+00 V\n",
      "Voltage set 7.99e+00 V\n",
      "Voltage set 7.98e+00 V\n",
      "Voltage set 7.98e+00 V\n",
      "Voltage set 7.97e+00 V\n",
      "Voltage set 7.97e+00 V\n",
      "Voltage set 7.96e+00 V\n",
      "Voltage set 7.96e+00 V\n",
      "Voltage set 7.95e+00 V\n",
      "Voltage set 7.95e+00 V\n",
      "Voltage set 7.94e+00 V\n",
      "Voltage set 7.94e+00 V\n",
      "Voltage set 7.93e+00 V\n",
      "Voltage set 7.93e+00 V\n",
      "Voltage set 7.92e+00 V\n",
      "Voltage set 7.92e+00 V\n",
      "Voltage set 7.91e+00 V\n",
      "Voltage set 7.91e+00 V\n",
      "Voltage set 7.9e+00 V\n",
      "Voltage set 7.9e+00 V\n",
      "Voltage set 7.89e+00 V\n",
      "Voltage set 7.89e+00 V\n",
      "Voltage set 7.88e+00 V\n",
      "Voltage set 7.88e+00 V\n",
      "Voltage set 7.87e+00 V\n",
      "Voltage set 7.87e+00 V\n",
      "Voltage set 7.86e+00 V\n",
      "Voltage set 7.86e+00 V\n",
      "Voltage set 7.85e+00 V\n",
      "Voltage set 7.85e+00 V\n",
      "Voltage set 7.84e+00 V\n",
      "Voltage set 7.84e+00 V\n",
      "Voltage set 7.83e+00 V\n",
      "Voltage set 7.83e+00 V\n",
      "Voltage set 7.82e+00 V\n",
      "Voltage set 7.82e+00 V\n",
      "Voltage set 7.81e+00 V\n",
      "Voltage set 7.81e+00 V\n",
      "Voltage set 7.8e+00 V\n",
      "Voltage set 7.8e+00 V\n",
      "Voltage set 7.79e+00 V\n",
      "Voltage set 7.79e+00 V\n",
      "Voltage set 7.78e+00 V\n",
      "Voltage set 7.78e+00 V\n",
      "Voltage set 7.77e+00 V\n",
      "Voltage set 7.77e+00 V\n",
      "Voltage set 7.76e+00 V\n",
      "Voltage set 7.76e+00 V\n",
      "Voltage set 7.75e+00 V\n",
      "Voltage set 7.75e+00 V\n",
      "Voltage set 7.74e+00 V\n",
      "Voltage set 7.74e+00 V\n",
      "Voltage set 7.73e+00 V\n",
      "Voltage set 7.73e+00 V\n",
      "Voltage set 7.72e+00 V\n",
      "Voltage set 7.72e+00 V\n",
      "Voltage set 7.71e+00 V\n",
      "Voltage set 7.71e+00 V\n",
      "Voltage set 7.7e+00 V\n",
      "Voltage set 7.7e+00 V\n",
      "Voltage set 7.69e+00 V\n",
      "Voltage set 7.69e+00 V\n",
      "Voltage set 7.68e+00 V\n",
      "Voltage set 7.68e+00 V\n",
      "Voltage set 7.67e+00 V\n",
      "Voltage set 7.67e+00 V\n",
      "Voltage set 7.66e+00 V\n",
      "Voltage set 7.66e+00 V\n",
      "Voltage set 7.65e+00 V\n",
      "Voltage set 7.65e+00 V\n",
      "Voltage set 7.64e+00 V\n",
      "Voltage set 7.64e+00 V\n",
      "Voltage set 7.63e+00 V\n",
      "Voltage set 7.63e+00 V\n",
      "Voltage set 7.62e+00 V\n",
      "Voltage set 7.62e+00 V\n",
      "Voltage set 7.61e+00 V\n",
      "Voltage set 7.61e+00 V\n",
      "Voltage set 7.6e+00 V\n",
      "Voltage set 7.6e+00 V\n",
      "Voltage set 7.59e+00 V\n",
      "Voltage set 7.59e+00 V\n",
      "Voltage set 7.58e+00 V\n",
      "Voltage set 7.58e+00 V\n",
      "Voltage set 7.57e+00 V\n",
      "Voltage set 7.57e+00 V\n",
      "Voltage set 7.56e+00 V\n",
      "Voltage set 7.56e+00 V\n",
      "Voltage set 7.55e+00 V\n",
      "Voltage set 7.55e+00 V\n",
      "Voltage set 7.54e+00 V\n",
      "Voltage set 7.54e+00 V\n",
      "Voltage set 7.53e+00 V\n",
      "Voltage set 7.53e+00 V\n",
      "Voltage set 7.52e+00 V\n",
      "Voltage set 7.52e+00 V\n",
      "Voltage set 7.51e+00 V\n",
      "Voltage set 7.51e+00 V\n",
      "Voltage set 7.5e+00 V\n",
      "Voltage set 7.5e+00 V\n",
      "Voltage set 7.49e+00 V\n",
      "Voltage set 7.49e+00 V\n",
      "Voltage set 7.48e+00 V\n",
      "Voltage set 7.48e+00 V\n",
      "Voltage set 7.47e+00 V\n",
      "Voltage set 7.47e+00 V\n",
      "Voltage set 7.46e+00 V\n",
      "Voltage set 7.46e+00 V\n",
      "Voltage set 7.45e+00 V\n",
      "Voltage set 7.45e+00 V\n",
      "Voltage set 7.44e+00 V\n",
      "Voltage set 7.44e+00 V\n",
      "Voltage set 7.43e+00 V\n",
      "Voltage set 7.43e+00 V\n",
      "Voltage set 7.42e+00 V\n",
      "Voltage set 7.42e+00 V\n",
      "Voltage set 7.41e+00 V\n",
      "Voltage set 7.41e+00 V\n",
      "Voltage set 7.4e+00 V\n",
      "Voltage set 7.4e+00 V\n",
      "Voltage set 7.39e+00 V\n",
      "Voltage set 7.39e+00 V\n",
      "Voltage set 7.38e+00 V\n",
      "Voltage set 7.38e+00 V\n",
      "Voltage set 7.37e+00 V\n",
      "Voltage set 7.37e+00 V\n",
      "Voltage set 7.36e+00 V\n",
      "Voltage set 7.36e+00 V\n",
      "Voltage set 7.35e+00 V\n",
      "Voltage set 7.35e+00 V\n",
      "Voltage set 7.34e+00 V\n",
      "Voltage set 7.34e+00 V\n",
      "Voltage set 7.33e+00 V\n",
      "Voltage set 7.33e+00 V\n",
      "Voltage set 7.32e+00 V\n",
      "Voltage set 7.32e+00 V\n",
      "Voltage set 7.31e+00 V\n",
      "Voltage set 7.31e+00 V\n",
      "Voltage set 7.3e+00 V\n",
      "Voltage set 7.3e+00 V\n",
      "Voltage set 7.29e+00 V\n",
      "Voltage set 7.29e+00 V\n",
      "Voltage set 7.28e+00 V\n",
      "Voltage set 7.28e+00 V\n",
      "Voltage set 7.27e+00 V\n",
      "Voltage set 7.27e+00 V\n",
      "Voltage set 7.26e+00 V\n",
      "Voltage set 7.26e+00 V\n",
      "Voltage set 7.25e+00 V\n",
      "Voltage set 7.25e+00 V\n",
      "Voltage set 7.24e+00 V\n",
      "Voltage set 7.24e+00 V\n",
      "Voltage set 7.23e+00 V\n",
      "Voltage set 7.23e+00 V\n",
      "Voltage set 7.22e+00 V\n",
      "Voltage set 7.22e+00 V\n",
      "Voltage set 7.21e+00 V\n",
      "Voltage set 7.21e+00 V\n",
      "Voltage set 7.2e+00 V\n",
      "Voltage set 7.2e+00 V\n",
      "Voltage set 7.19e+00 V\n",
      "Voltage set 7.19e+00 V\n",
      "Voltage set 7.18e+00 V\n",
      "Voltage set 7.18e+00 V\n",
      "Voltage set 7.17e+00 V\n",
      "Voltage set 7.17e+00 V\n",
      "Voltage set 7.16e+00 V\n",
      "Voltage set 7.16e+00 V\n",
      "Voltage set 7.15e+00 V\n",
      "Voltage set 7.15e+00 V\n",
      "Voltage set 7.14e+00 V\n",
      "Voltage set 7.14e+00 V\n",
      "Voltage set 7.13e+00 V\n",
      "Voltage set 7.13e+00 V\n",
      "Voltage set 7.12e+00 V\n",
      "Voltage set 7.12e+00 V\n",
      "Voltage set 7.11e+00 V\n",
      "Voltage set 7.11e+00 V\n",
      "Voltage set 7.1e+00 V\n",
      "Voltage set 7.1e+00 V\n",
      "Voltage set 7.09e+00 V\n",
      "Voltage set 7.09e+00 V\n",
      "Voltage set 7.08e+00 V\n",
      "Voltage set 7.08e+00 V\n",
      "Voltage set 7.07e+00 V\n",
      "Voltage set 7.07e+00 V\n",
      "Voltage set 7.06e+00 V\n",
      "Voltage set 7.06e+00 V\n",
      "Voltage set 7.05e+00 V\n",
      "Voltage set 7.05e+00 V\n",
      "Voltage set 7.04e+00 V\n",
      "Voltage set 7.04e+00 V\n",
      "Voltage set 7.03e+00 V\n",
      "Voltage set 7.03e+00 V\n",
      "Voltage set 7.02e+00 V\n",
      "Voltage set 7.02e+00 V\n",
      "Voltage set 7.01e+00 V\n",
      "Voltage set 7.01e+00 V\n",
      "Voltage set 7e+00 V\n",
      "Voltage set 7e+00 V\n",
      "Voltage set 6.99e+00 V\n",
      "Voltage set 6.99e+00 V\n",
      "Voltage set 6.98e+00 V\n",
      "Voltage set 6.98e+00 V\n",
      "Voltage set 6.97e+00 V\n",
      "Voltage set 6.97e+00 V\n",
      "Voltage set 6.96e+00 V\n",
      "Voltage set 6.96e+00 V\n",
      "Voltage set 6.95e+00 V\n",
      "Voltage set 6.95e+00 V\n",
      "Voltage set 6.94e+00 V\n",
      "Voltage set 6.94e+00 V\n",
      "Voltage set 6.93e+00 V\n",
      "Voltage set 6.93e+00 V\n",
      "Voltage set 6.92e+00 V\n",
      "Voltage set 6.92e+00 V\n",
      "Voltage set 6.91e+00 V\n",
      "Voltage set 6.91e+00 V\n",
      "Voltage set 6.9e+00 V\n",
      "Voltage set 6.9e+00 V\n",
      "Voltage set 6.89e+00 V\n",
      "Voltage set 6.89e+00 V\n",
      "Voltage set 6.88e+00 V\n",
      "Voltage set 6.88e+00 V\n",
      "Voltage set 6.87e+00 V\n",
      "Voltage set 6.87e+00 V\n",
      "Voltage set 6.86e+00 V\n",
      "Voltage set 6.86e+00 V\n",
      "Voltage set 6.85e+00 V\n",
      "Voltage set 6.85e+00 V\n",
      "Voltage set 6.84e+00 V\n",
      "Voltage set 6.84e+00 V\n",
      "Voltage set 6.83e+00 V\n",
      "Voltage set 6.83e+00 V\n",
      "Voltage set 6.82e+00 V\n",
      "Voltage set 6.82e+00 V\n",
      "Voltage set 6.81e+00 V\n",
      "Voltage set 6.81e+00 V\n",
      "Voltage set 6.8e+00 V\n",
      "Voltage set 6.8e+00 V\n",
      "Voltage set 6.79e+00 V\n",
      "Voltage set 6.79e+00 V\n",
      "Voltage set 6.78e+00 V\n",
      "Voltage set 6.78e+00 V\n",
      "Voltage set 6.77e+00 V\n",
      "Voltage set 6.77e+00 V\n",
      "Voltage set 6.76e+00 V\n",
      "Voltage set 6.76e+00 V\n",
      "Voltage set 6.75e+00 V\n",
      "Voltage set 6.75e+00 V\n",
      "Voltage set 6.74e+00 V\n",
      "Voltage set 6.74e+00 V\n",
      "Voltage set 6.73e+00 V\n",
      "Voltage set 6.73e+00 V\n",
      "Voltage set 6.72e+00 V\n",
      "Voltage set 6.72e+00 V\n",
      "Voltage set 6.71e+00 V\n",
      "Voltage set 6.71e+00 V\n",
      "Voltage set 6.7e+00 V\n",
      "Voltage set 6.7e+00 V\n",
      "Voltage set 6.69e+00 V\n",
      "Voltage set 6.69e+00 V\n"
     ]
    },
    {
     "ename": "KeyboardInterrupt",
     "evalue": "",
     "output_type": "error",
     "traceback": [
      "\u001b[1;31m---------------------------------------------------------------------------\u001b[0m",
      "\u001b[1;31mKeyboardInterrupt\u001b[0m                         Traceback (most recent call last)",
      "\u001b[1;32m<ipython-input-449-d75142a735bb>\u001b[0m in \u001b[0;36m<module>\u001b[1;34m\u001b[0m\n\u001b[0;32m     42\u001b[0m     \u001b[0max\u001b[0m\u001b[1;33m[\u001b[0m\u001b[1;36m1\u001b[0m\u001b[1;33m]\u001b[0m\u001b[1;33m.\u001b[0m\u001b[0mplot\u001b[0m\u001b[1;33m(\u001b[0m\u001b[0mVoltage\u001b[0m\u001b[1;33m,\u001b[0m \u001b[0mY\u001b[0m\u001b[1;33m,\u001b[0m \u001b[1;34m'b'\u001b[0m\u001b[1;33m)\u001b[0m\u001b[1;33m\u001b[0m\u001b[1;33m\u001b[0m\u001b[0m\n\u001b[0;32m     43\u001b[0m \u001b[1;33m\u001b[0m\u001b[0m\n\u001b[1;32m---> 44\u001b[1;33m     \u001b[0mhfig\u001b[0m\u001b[1;33m.\u001b[0m\u001b[0mupdate\u001b[0m\u001b[1;33m(\u001b[0m\u001b[0mfig\u001b[0m\u001b[1;33m)\u001b[0m\u001b[1;33m\u001b[0m\u001b[1;33m\u001b[0m\u001b[0m\n\u001b[0m\u001b[0;32m     45\u001b[0m     \u001b[0mplt\u001b[0m\u001b[1;33m.\u001b[0m\u001b[0mpause\u001b[0m\u001b[1;33m(\u001b[0m\u001b[1;36m0.1\u001b[0m\u001b[1;33m)\u001b[0m\u001b[1;33m\u001b[0m\u001b[1;33m\u001b[0m\u001b[0m\n\u001b[0;32m     46\u001b[0m     \u001b[0mf\u001b[0m\u001b[1;33m.\u001b[0m\u001b[0mvalue\u001b[0m \u001b[1;33m+=\u001b[0m \u001b[1;36m1\u001b[0m\u001b[1;33m\u001b[0m\u001b[1;33m\u001b[0m\u001b[0m\n",
      "\u001b[1;32mC:\\ProgramData\\Anaconda3\\lib\\site-packages\\IPython\\core\\display.py\u001b[0m in \u001b[0;36mupdate\u001b[1;34m(self, obj, **kwargs)\u001b[0m\n\u001b[0;32m    391\u001b[0m             \u001b[0madditional\u001b[0m \u001b[0mkeyword\u001b[0m \u001b[0marguments\u001b[0m \u001b[0mpassed\u001b[0m \u001b[0mto\u001b[0m \u001b[0mupdate_display\u001b[0m\u001b[1;33m\u001b[0m\u001b[1;33m\u001b[0m\u001b[0m\n\u001b[0;32m    392\u001b[0m         \"\"\"\n\u001b[1;32m--> 393\u001b[1;33m         \u001b[0mupdate_display\u001b[0m\u001b[1;33m(\u001b[0m\u001b[0mobj\u001b[0m\u001b[1;33m,\u001b[0m \u001b[0mdisplay_id\u001b[0m\u001b[1;33m=\u001b[0m\u001b[0mself\u001b[0m\u001b[1;33m.\u001b[0m\u001b[0mdisplay_id\u001b[0m\u001b[1;33m,\u001b[0m \u001b[1;33m**\u001b[0m\u001b[0mkwargs\u001b[0m\u001b[1;33m)\u001b[0m\u001b[1;33m\u001b[0m\u001b[1;33m\u001b[0m\u001b[0m\n\u001b[0m\u001b[0;32m    394\u001b[0m \u001b[1;33m\u001b[0m\u001b[0m\n\u001b[0;32m    395\u001b[0m \u001b[1;33m\u001b[0m\u001b[0m\n",
      "\u001b[1;32mC:\\ProgramData\\Anaconda3\\lib\\site-packages\\IPython\\core\\display.py\u001b[0m in \u001b[0;36mupdate_display\u001b[1;34m(obj, display_id, **kwargs)\u001b[0m\n\u001b[0;32m    341\u001b[0m     \"\"\"\n\u001b[0;32m    342\u001b[0m     \u001b[0mkwargs\u001b[0m\u001b[1;33m[\u001b[0m\u001b[1;34m'update'\u001b[0m\u001b[1;33m]\u001b[0m \u001b[1;33m=\u001b[0m \u001b[1;32mTrue\u001b[0m\u001b[1;33m\u001b[0m\u001b[1;33m\u001b[0m\u001b[0m\n\u001b[1;32m--> 343\u001b[1;33m     \u001b[0mdisplay\u001b[0m\u001b[1;33m(\u001b[0m\u001b[0mobj\u001b[0m\u001b[1;33m,\u001b[0m \u001b[0mdisplay_id\u001b[0m\u001b[1;33m=\u001b[0m\u001b[0mdisplay_id\u001b[0m\u001b[1;33m,\u001b[0m \u001b[1;33m**\u001b[0m\u001b[0mkwargs\u001b[0m\u001b[1;33m)\u001b[0m\u001b[1;33m\u001b[0m\u001b[1;33m\u001b[0m\u001b[0m\n\u001b[0m\u001b[0;32m    344\u001b[0m \u001b[1;33m\u001b[0m\u001b[0m\n\u001b[0;32m    345\u001b[0m \u001b[1;33m\u001b[0m\u001b[0m\n",
      "\u001b[1;32mC:\\ProgramData\\Anaconda3\\lib\\site-packages\\IPython\\core\\display.py\u001b[0m in \u001b[0;36mdisplay\u001b[1;34m(include, exclude, metadata, transient, display_id, *objs, **kwargs)\u001b[0m\n\u001b[0;32m    311\u001b[0m             \u001b[0mpublish_display_data\u001b[0m\u001b[1;33m(\u001b[0m\u001b[0mdata\u001b[0m\u001b[1;33m=\u001b[0m\u001b[0mobj\u001b[0m\u001b[1;33m,\u001b[0m \u001b[0mmetadata\u001b[0m\u001b[1;33m=\u001b[0m\u001b[0mmetadata\u001b[0m\u001b[1;33m,\u001b[0m \u001b[1;33m**\u001b[0m\u001b[0mkwargs\u001b[0m\u001b[1;33m)\u001b[0m\u001b[1;33m\u001b[0m\u001b[1;33m\u001b[0m\u001b[0m\n\u001b[0;32m    312\u001b[0m         \u001b[1;32melse\u001b[0m\u001b[1;33m:\u001b[0m\u001b[1;33m\u001b[0m\u001b[1;33m\u001b[0m\u001b[0m\n\u001b[1;32m--> 313\u001b[1;33m             \u001b[0mformat_dict\u001b[0m\u001b[1;33m,\u001b[0m \u001b[0mmd_dict\u001b[0m \u001b[1;33m=\u001b[0m \u001b[0mformat\u001b[0m\u001b[1;33m(\u001b[0m\u001b[0mobj\u001b[0m\u001b[1;33m,\u001b[0m \u001b[0minclude\u001b[0m\u001b[1;33m=\u001b[0m\u001b[0minclude\u001b[0m\u001b[1;33m,\u001b[0m \u001b[0mexclude\u001b[0m\u001b[1;33m=\u001b[0m\u001b[0mexclude\u001b[0m\u001b[1;33m)\u001b[0m\u001b[1;33m\u001b[0m\u001b[1;33m\u001b[0m\u001b[0m\n\u001b[0m\u001b[0;32m    314\u001b[0m             \u001b[1;32mif\u001b[0m \u001b[1;32mnot\u001b[0m \u001b[0mformat_dict\u001b[0m\u001b[1;33m:\u001b[0m\u001b[1;33m\u001b[0m\u001b[1;33m\u001b[0m\u001b[0m\n\u001b[0;32m    315\u001b[0m                 \u001b[1;31m# nothing to display (e.g. _ipython_display_ took over)\u001b[0m\u001b[1;33m\u001b[0m\u001b[1;33m\u001b[0m\u001b[1;33m\u001b[0m\u001b[0m\n",
      "\u001b[1;32mC:\\ProgramData\\Anaconda3\\lib\\site-packages\\IPython\\core\\formatters.py\u001b[0m in \u001b[0;36mformat\u001b[1;34m(self, obj, include, exclude)\u001b[0m\n\u001b[0;32m    178\u001b[0m             \u001b[0mmd\u001b[0m \u001b[1;33m=\u001b[0m \u001b[1;32mNone\u001b[0m\u001b[1;33m\u001b[0m\u001b[1;33m\u001b[0m\u001b[0m\n\u001b[0;32m    179\u001b[0m             \u001b[1;32mtry\u001b[0m\u001b[1;33m:\u001b[0m\u001b[1;33m\u001b[0m\u001b[1;33m\u001b[0m\u001b[0m\n\u001b[1;32m--> 180\u001b[1;33m                 \u001b[0mdata\u001b[0m \u001b[1;33m=\u001b[0m \u001b[0mformatter\u001b[0m\u001b[1;33m(\u001b[0m\u001b[0mobj\u001b[0m\u001b[1;33m)\u001b[0m\u001b[1;33m\u001b[0m\u001b[1;33m\u001b[0m\u001b[0m\n\u001b[0m\u001b[0;32m    181\u001b[0m             \u001b[1;32mexcept\u001b[0m\u001b[1;33m:\u001b[0m\u001b[1;33m\u001b[0m\u001b[1;33m\u001b[0m\u001b[0m\n\u001b[0;32m    182\u001b[0m                 \u001b[1;31m# FIXME: log the exception\u001b[0m\u001b[1;33m\u001b[0m\u001b[1;33m\u001b[0m\u001b[1;33m\u001b[0m\u001b[0m\n",
      "\u001b[1;32mC:\\ProgramData\\Anaconda3\\lib\\site-packages\\decorator.py\u001b[0m in \u001b[0;36mfun\u001b[1;34m(*args, **kw)\u001b[0m\n\u001b[0;32m    229\u001b[0m             \u001b[1;32mif\u001b[0m \u001b[1;32mnot\u001b[0m \u001b[0mkwsyntax\u001b[0m\u001b[1;33m:\u001b[0m\u001b[1;33m\u001b[0m\u001b[1;33m\u001b[0m\u001b[0m\n\u001b[0;32m    230\u001b[0m                 \u001b[0margs\u001b[0m\u001b[1;33m,\u001b[0m \u001b[0mkw\u001b[0m \u001b[1;33m=\u001b[0m \u001b[0mfix\u001b[0m\u001b[1;33m(\u001b[0m\u001b[0margs\u001b[0m\u001b[1;33m,\u001b[0m \u001b[0mkw\u001b[0m\u001b[1;33m,\u001b[0m \u001b[0msig\u001b[0m\u001b[1;33m)\u001b[0m\u001b[1;33m\u001b[0m\u001b[1;33m\u001b[0m\u001b[0m\n\u001b[1;32m--> 231\u001b[1;33m             \u001b[1;32mreturn\u001b[0m \u001b[0mcaller\u001b[0m\u001b[1;33m(\u001b[0m\u001b[0mfunc\u001b[0m\u001b[1;33m,\u001b[0m \u001b[1;33m*\u001b[0m\u001b[1;33m(\u001b[0m\u001b[0mextras\u001b[0m \u001b[1;33m+\u001b[0m \u001b[0margs\u001b[0m\u001b[1;33m)\u001b[0m\u001b[1;33m,\u001b[0m \u001b[1;33m**\u001b[0m\u001b[0mkw\u001b[0m\u001b[1;33m)\u001b[0m\u001b[1;33m\u001b[0m\u001b[1;33m\u001b[0m\u001b[0m\n\u001b[0m\u001b[0;32m    232\u001b[0m     \u001b[0mfun\u001b[0m\u001b[1;33m.\u001b[0m\u001b[0m__name__\u001b[0m \u001b[1;33m=\u001b[0m \u001b[0mfunc\u001b[0m\u001b[1;33m.\u001b[0m\u001b[0m__name__\u001b[0m\u001b[1;33m\u001b[0m\u001b[1;33m\u001b[0m\u001b[0m\n\u001b[0;32m    233\u001b[0m     \u001b[0mfun\u001b[0m\u001b[1;33m.\u001b[0m\u001b[0m__doc__\u001b[0m \u001b[1;33m=\u001b[0m \u001b[0mfunc\u001b[0m\u001b[1;33m.\u001b[0m\u001b[0m__doc__\u001b[0m\u001b[1;33m\u001b[0m\u001b[1;33m\u001b[0m\u001b[0m\n",
      "\u001b[1;32mC:\\ProgramData\\Anaconda3\\lib\\site-packages\\IPython\\core\\formatters.py\u001b[0m in \u001b[0;36mcatch_format_error\u001b[1;34m(method, self, *args, **kwargs)\u001b[0m\n\u001b[0;32m    222\u001b[0m     \u001b[1;34m\"\"\"show traceback on failed format call\"\"\"\u001b[0m\u001b[1;33m\u001b[0m\u001b[1;33m\u001b[0m\u001b[0m\n\u001b[0;32m    223\u001b[0m     \u001b[1;32mtry\u001b[0m\u001b[1;33m:\u001b[0m\u001b[1;33m\u001b[0m\u001b[1;33m\u001b[0m\u001b[0m\n\u001b[1;32m--> 224\u001b[1;33m         \u001b[0mr\u001b[0m \u001b[1;33m=\u001b[0m \u001b[0mmethod\u001b[0m\u001b[1;33m(\u001b[0m\u001b[0mself\u001b[0m\u001b[1;33m,\u001b[0m \u001b[1;33m*\u001b[0m\u001b[0margs\u001b[0m\u001b[1;33m,\u001b[0m \u001b[1;33m**\u001b[0m\u001b[0mkwargs\u001b[0m\u001b[1;33m)\u001b[0m\u001b[1;33m\u001b[0m\u001b[1;33m\u001b[0m\u001b[0m\n\u001b[0m\u001b[0;32m    225\u001b[0m     \u001b[1;32mexcept\u001b[0m \u001b[0mNotImplementedError\u001b[0m\u001b[1;33m:\u001b[0m\u001b[1;33m\u001b[0m\u001b[1;33m\u001b[0m\u001b[0m\n\u001b[0;32m    226\u001b[0m         \u001b[1;31m# don't warn on NotImplementedErrors\u001b[0m\u001b[1;33m\u001b[0m\u001b[1;33m\u001b[0m\u001b[1;33m\u001b[0m\u001b[0m\n",
      "\u001b[1;32mC:\\ProgramData\\Anaconda3\\lib\\site-packages\\IPython\\core\\formatters.py\u001b[0m in \u001b[0;36m__call__\u001b[1;34m(self, obj)\u001b[0m\n\u001b[0;32m    339\u001b[0m                 \u001b[1;32mpass\u001b[0m\u001b[1;33m\u001b[0m\u001b[1;33m\u001b[0m\u001b[0m\n\u001b[0;32m    340\u001b[0m             \u001b[1;32melse\u001b[0m\u001b[1;33m:\u001b[0m\u001b[1;33m\u001b[0m\u001b[1;33m\u001b[0m\u001b[0m\n\u001b[1;32m--> 341\u001b[1;33m                 \u001b[1;32mreturn\u001b[0m \u001b[0mprinter\u001b[0m\u001b[1;33m(\u001b[0m\u001b[0mobj\u001b[0m\u001b[1;33m)\u001b[0m\u001b[1;33m\u001b[0m\u001b[1;33m\u001b[0m\u001b[0m\n\u001b[0m\u001b[0;32m    342\u001b[0m             \u001b[1;31m# Finally look for special method names\u001b[0m\u001b[1;33m\u001b[0m\u001b[1;33m\u001b[0m\u001b[1;33m\u001b[0m\u001b[0m\n\u001b[0;32m    343\u001b[0m             \u001b[0mmethod\u001b[0m \u001b[1;33m=\u001b[0m \u001b[0mget_real_method\u001b[0m\u001b[1;33m(\u001b[0m\u001b[0mobj\u001b[0m\u001b[1;33m,\u001b[0m \u001b[0mself\u001b[0m\u001b[1;33m.\u001b[0m\u001b[0mprint_method\u001b[0m\u001b[1;33m)\u001b[0m\u001b[1;33m\u001b[0m\u001b[1;33m\u001b[0m\u001b[0m\n",
      "\u001b[1;32mC:\\ProgramData\\Anaconda3\\lib\\site-packages\\IPython\\core\\pylabtools.py\u001b[0m in \u001b[0;36m<lambda>\u001b[1;34m(fig)\u001b[0m\n\u001b[0;32m    246\u001b[0m \u001b[1;33m\u001b[0m\u001b[0m\n\u001b[0;32m    247\u001b[0m     \u001b[1;32mif\u001b[0m \u001b[1;34m'png'\u001b[0m \u001b[1;32min\u001b[0m \u001b[0mformats\u001b[0m\u001b[1;33m:\u001b[0m\u001b[1;33m\u001b[0m\u001b[1;33m\u001b[0m\u001b[0m\n\u001b[1;32m--> 248\u001b[1;33m         \u001b[0mpng_formatter\u001b[0m\u001b[1;33m.\u001b[0m\u001b[0mfor_type\u001b[0m\u001b[1;33m(\u001b[0m\u001b[0mFigure\u001b[0m\u001b[1;33m,\u001b[0m \u001b[1;32mlambda\u001b[0m \u001b[0mfig\u001b[0m\u001b[1;33m:\u001b[0m \u001b[0mprint_figure\u001b[0m\u001b[1;33m(\u001b[0m\u001b[0mfig\u001b[0m\u001b[1;33m,\u001b[0m \u001b[1;34m'png'\u001b[0m\u001b[1;33m,\u001b[0m \u001b[1;33m**\u001b[0m\u001b[0mkwargs\u001b[0m\u001b[1;33m)\u001b[0m\u001b[1;33m)\u001b[0m\u001b[1;33m\u001b[0m\u001b[1;33m\u001b[0m\u001b[0m\n\u001b[0m\u001b[0;32m    249\u001b[0m     \u001b[1;32mif\u001b[0m \u001b[1;34m'retina'\u001b[0m \u001b[1;32min\u001b[0m \u001b[0mformats\u001b[0m \u001b[1;32mor\u001b[0m \u001b[1;34m'png2x'\u001b[0m \u001b[1;32min\u001b[0m \u001b[0mformats\u001b[0m\u001b[1;33m:\u001b[0m\u001b[1;33m\u001b[0m\u001b[1;33m\u001b[0m\u001b[0m\n\u001b[0;32m    250\u001b[0m         \u001b[0mpng_formatter\u001b[0m\u001b[1;33m.\u001b[0m\u001b[0mfor_type\u001b[0m\u001b[1;33m(\u001b[0m\u001b[0mFigure\u001b[0m\u001b[1;33m,\u001b[0m \u001b[1;32mlambda\u001b[0m \u001b[0mfig\u001b[0m\u001b[1;33m:\u001b[0m \u001b[0mretina_figure\u001b[0m\u001b[1;33m(\u001b[0m\u001b[0mfig\u001b[0m\u001b[1;33m,\u001b[0m \u001b[1;33m**\u001b[0m\u001b[0mkwargs\u001b[0m\u001b[1;33m)\u001b[0m\u001b[1;33m)\u001b[0m\u001b[1;33m\u001b[0m\u001b[1;33m\u001b[0m\u001b[0m\n",
      "\u001b[1;32mC:\\ProgramData\\Anaconda3\\lib\\site-packages\\IPython\\core\\pylabtools.py\u001b[0m in \u001b[0;36mprint_figure\u001b[1;34m(fig, fmt, bbox_inches, **kwargs)\u001b[0m\n\u001b[0;32m    130\u001b[0m         \u001b[0mFigureCanvasBase\u001b[0m\u001b[1;33m(\u001b[0m\u001b[0mfig\u001b[0m\u001b[1;33m)\u001b[0m\u001b[1;33m\u001b[0m\u001b[1;33m\u001b[0m\u001b[0m\n\u001b[0;32m    131\u001b[0m \u001b[1;33m\u001b[0m\u001b[0m\n\u001b[1;32m--> 132\u001b[1;33m     \u001b[0mfig\u001b[0m\u001b[1;33m.\u001b[0m\u001b[0mcanvas\u001b[0m\u001b[1;33m.\u001b[0m\u001b[0mprint_figure\u001b[0m\u001b[1;33m(\u001b[0m\u001b[0mbytes_io\u001b[0m\u001b[1;33m,\u001b[0m \u001b[1;33m**\u001b[0m\u001b[0mkw\u001b[0m\u001b[1;33m)\u001b[0m\u001b[1;33m\u001b[0m\u001b[1;33m\u001b[0m\u001b[0m\n\u001b[0m\u001b[0;32m    133\u001b[0m     \u001b[0mdata\u001b[0m \u001b[1;33m=\u001b[0m \u001b[0mbytes_io\u001b[0m\u001b[1;33m.\u001b[0m\u001b[0mgetvalue\u001b[0m\u001b[1;33m(\u001b[0m\u001b[1;33m)\u001b[0m\u001b[1;33m\u001b[0m\u001b[1;33m\u001b[0m\u001b[0m\n\u001b[0;32m    134\u001b[0m     \u001b[1;32mif\u001b[0m \u001b[0mfmt\u001b[0m \u001b[1;33m==\u001b[0m \u001b[1;34m'svg'\u001b[0m\u001b[1;33m:\u001b[0m\u001b[1;33m\u001b[0m\u001b[1;33m\u001b[0m\u001b[0m\n",
      "\u001b[1;32mC:\\ProgramData\\Anaconda3\\lib\\site-packages\\matplotlib\\backend_bases.py\u001b[0m in \u001b[0;36mprint_figure\u001b[1;34m(self, filename, dpi, facecolor, edgecolor, orientation, format, bbox_inches, pad_inches, bbox_extra_artists, backend, **kwargs)\u001b[0m\n\u001b[0;32m   2191\u001b[0m                            else suppress())\n\u001b[0;32m   2192\u001b[0m                     \u001b[1;32mwith\u001b[0m \u001b[0mctx\u001b[0m\u001b[1;33m:\u001b[0m\u001b[1;33m\u001b[0m\u001b[1;33m\u001b[0m\u001b[0m\n\u001b[1;32m-> 2193\u001b[1;33m                         \u001b[0mself\u001b[0m\u001b[1;33m.\u001b[0m\u001b[0mfigure\u001b[0m\u001b[1;33m.\u001b[0m\u001b[0mdraw\u001b[0m\u001b[1;33m(\u001b[0m\u001b[0mrenderer\u001b[0m\u001b[1;33m)\u001b[0m\u001b[1;33m\u001b[0m\u001b[1;33m\u001b[0m\u001b[0m\n\u001b[0m\u001b[0;32m   2194\u001b[0m \u001b[1;33m\u001b[0m\u001b[0m\n\u001b[0;32m   2195\u001b[0m                     bbox_inches = self.figure.get_tightbbox(\n",
      "\u001b[1;32mC:\\ProgramData\\Anaconda3\\lib\\site-packages\\matplotlib\\artist.py\u001b[0m in \u001b[0;36mdraw_wrapper\u001b[1;34m(artist, renderer, *args, **kwargs)\u001b[0m\n\u001b[0;32m     39\u001b[0m                 \u001b[0mrenderer\u001b[0m\u001b[1;33m.\u001b[0m\u001b[0mstart_filter\u001b[0m\u001b[1;33m(\u001b[0m\u001b[1;33m)\u001b[0m\u001b[1;33m\u001b[0m\u001b[1;33m\u001b[0m\u001b[0m\n\u001b[0;32m     40\u001b[0m \u001b[1;33m\u001b[0m\u001b[0m\n\u001b[1;32m---> 41\u001b[1;33m             \u001b[1;32mreturn\u001b[0m \u001b[0mdraw\u001b[0m\u001b[1;33m(\u001b[0m\u001b[0martist\u001b[0m\u001b[1;33m,\u001b[0m \u001b[0mrenderer\u001b[0m\u001b[1;33m,\u001b[0m \u001b[1;33m*\u001b[0m\u001b[0margs\u001b[0m\u001b[1;33m,\u001b[0m \u001b[1;33m**\u001b[0m\u001b[0mkwargs\u001b[0m\u001b[1;33m)\u001b[0m\u001b[1;33m\u001b[0m\u001b[1;33m\u001b[0m\u001b[0m\n\u001b[0m\u001b[0;32m     42\u001b[0m         \u001b[1;32mfinally\u001b[0m\u001b[1;33m:\u001b[0m\u001b[1;33m\u001b[0m\u001b[1;33m\u001b[0m\u001b[0m\n\u001b[0;32m     43\u001b[0m             \u001b[1;32mif\u001b[0m \u001b[0martist\u001b[0m\u001b[1;33m.\u001b[0m\u001b[0mget_agg_filter\u001b[0m\u001b[1;33m(\u001b[0m\u001b[1;33m)\u001b[0m \u001b[1;32mis\u001b[0m \u001b[1;32mnot\u001b[0m \u001b[1;32mNone\u001b[0m\u001b[1;33m:\u001b[0m\u001b[1;33m\u001b[0m\u001b[1;33m\u001b[0m\u001b[0m\n",
      "\u001b[1;32mC:\\ProgramData\\Anaconda3\\lib\\site-packages\\matplotlib\\figure.py\u001b[0m in \u001b[0;36mdraw\u001b[1;34m(self, renderer)\u001b[0m\n\u001b[0;32m   1861\u001b[0m \u001b[1;33m\u001b[0m\u001b[0m\n\u001b[0;32m   1862\u001b[0m             \u001b[0mself\u001b[0m\u001b[1;33m.\u001b[0m\u001b[0mpatch\u001b[0m\u001b[1;33m.\u001b[0m\u001b[0mdraw\u001b[0m\u001b[1;33m(\u001b[0m\u001b[0mrenderer\u001b[0m\u001b[1;33m)\u001b[0m\u001b[1;33m\u001b[0m\u001b[1;33m\u001b[0m\u001b[0m\n\u001b[1;32m-> 1863\u001b[1;33m             mimage._draw_list_compositing_images(\n\u001b[0m\u001b[0;32m   1864\u001b[0m                 renderer, self, artists, self.suppressComposite)\n\u001b[0;32m   1865\u001b[0m \u001b[1;33m\u001b[0m\u001b[0m\n",
      "\u001b[1;32mC:\\ProgramData\\Anaconda3\\lib\\site-packages\\matplotlib\\image.py\u001b[0m in \u001b[0;36m_draw_list_compositing_images\u001b[1;34m(renderer, parent, artists, suppress_composite)\u001b[0m\n\u001b[0;32m    129\u001b[0m     \u001b[1;32mif\u001b[0m \u001b[0mnot_composite\u001b[0m \u001b[1;32mor\u001b[0m \u001b[1;32mnot\u001b[0m \u001b[0mhas_images\u001b[0m\u001b[1;33m:\u001b[0m\u001b[1;33m\u001b[0m\u001b[1;33m\u001b[0m\u001b[0m\n\u001b[0;32m    130\u001b[0m         \u001b[1;32mfor\u001b[0m \u001b[0ma\u001b[0m \u001b[1;32min\u001b[0m \u001b[0martists\u001b[0m\u001b[1;33m:\u001b[0m\u001b[1;33m\u001b[0m\u001b[1;33m\u001b[0m\u001b[0m\n\u001b[1;32m--> 131\u001b[1;33m             \u001b[0ma\u001b[0m\u001b[1;33m.\u001b[0m\u001b[0mdraw\u001b[0m\u001b[1;33m(\u001b[0m\u001b[0mrenderer\u001b[0m\u001b[1;33m)\u001b[0m\u001b[1;33m\u001b[0m\u001b[1;33m\u001b[0m\u001b[0m\n\u001b[0m\u001b[0;32m    132\u001b[0m     \u001b[1;32melse\u001b[0m\u001b[1;33m:\u001b[0m\u001b[1;33m\u001b[0m\u001b[1;33m\u001b[0m\u001b[0m\n\u001b[0;32m    133\u001b[0m         \u001b[1;31m# Composite any adjacent images together\u001b[0m\u001b[1;33m\u001b[0m\u001b[1;33m\u001b[0m\u001b[1;33m\u001b[0m\u001b[0m\n",
      "\u001b[1;32mC:\\ProgramData\\Anaconda3\\lib\\site-packages\\matplotlib\\artist.py\u001b[0m in \u001b[0;36mdraw_wrapper\u001b[1;34m(artist, renderer, *args, **kwargs)\u001b[0m\n\u001b[0;32m     39\u001b[0m                 \u001b[0mrenderer\u001b[0m\u001b[1;33m.\u001b[0m\u001b[0mstart_filter\u001b[0m\u001b[1;33m(\u001b[0m\u001b[1;33m)\u001b[0m\u001b[1;33m\u001b[0m\u001b[1;33m\u001b[0m\u001b[0m\n\u001b[0;32m     40\u001b[0m \u001b[1;33m\u001b[0m\u001b[0m\n\u001b[1;32m---> 41\u001b[1;33m             \u001b[1;32mreturn\u001b[0m \u001b[0mdraw\u001b[0m\u001b[1;33m(\u001b[0m\u001b[0martist\u001b[0m\u001b[1;33m,\u001b[0m \u001b[0mrenderer\u001b[0m\u001b[1;33m,\u001b[0m \u001b[1;33m*\u001b[0m\u001b[0margs\u001b[0m\u001b[1;33m,\u001b[0m \u001b[1;33m**\u001b[0m\u001b[0mkwargs\u001b[0m\u001b[1;33m)\u001b[0m\u001b[1;33m\u001b[0m\u001b[1;33m\u001b[0m\u001b[0m\n\u001b[0m\u001b[0;32m     42\u001b[0m         \u001b[1;32mfinally\u001b[0m\u001b[1;33m:\u001b[0m\u001b[1;33m\u001b[0m\u001b[1;33m\u001b[0m\u001b[0m\n\u001b[0;32m     43\u001b[0m             \u001b[1;32mif\u001b[0m \u001b[0martist\u001b[0m\u001b[1;33m.\u001b[0m\u001b[0mget_agg_filter\u001b[0m\u001b[1;33m(\u001b[0m\u001b[1;33m)\u001b[0m \u001b[1;32mis\u001b[0m \u001b[1;32mnot\u001b[0m \u001b[1;32mNone\u001b[0m\u001b[1;33m:\u001b[0m\u001b[1;33m\u001b[0m\u001b[1;33m\u001b[0m\u001b[0m\n",
      "\u001b[1;32mC:\\ProgramData\\Anaconda3\\lib\\site-packages\\matplotlib\\cbook\\deprecation.py\u001b[0m in \u001b[0;36mwrapper\u001b[1;34m(*inner_args, **inner_kwargs)\u001b[0m\n\u001b[0;32m    409\u001b[0m                          \u001b[1;32melse\u001b[0m \u001b[0mdeprecation_addendum\u001b[0m\u001b[1;33m,\u001b[0m\u001b[1;33m\u001b[0m\u001b[1;33m\u001b[0m\u001b[0m\n\u001b[0;32m    410\u001b[0m                 **kwargs)\n\u001b[1;32m--> 411\u001b[1;33m         \u001b[1;32mreturn\u001b[0m \u001b[0mfunc\u001b[0m\u001b[1;33m(\u001b[0m\u001b[1;33m*\u001b[0m\u001b[0minner_args\u001b[0m\u001b[1;33m,\u001b[0m \u001b[1;33m**\u001b[0m\u001b[0minner_kwargs\u001b[0m\u001b[1;33m)\u001b[0m\u001b[1;33m\u001b[0m\u001b[1;33m\u001b[0m\u001b[0m\n\u001b[0m\u001b[0;32m    412\u001b[0m \u001b[1;33m\u001b[0m\u001b[0m\n\u001b[0;32m    413\u001b[0m     \u001b[1;32mreturn\u001b[0m \u001b[0mwrapper\u001b[0m\u001b[1;33m\u001b[0m\u001b[1;33m\u001b[0m\u001b[0m\n",
      "\u001b[1;32mC:\\ProgramData\\Anaconda3\\lib\\site-packages\\matplotlib\\axes\\_base.py\u001b[0m in \u001b[0;36mdraw\u001b[1;34m(self, renderer, inframe)\u001b[0m\n\u001b[0;32m   2745\u001b[0m             \u001b[0mrenderer\u001b[0m\u001b[1;33m.\u001b[0m\u001b[0mstop_rasterizing\u001b[0m\u001b[1;33m(\u001b[0m\u001b[1;33m)\u001b[0m\u001b[1;33m\u001b[0m\u001b[1;33m\u001b[0m\u001b[0m\n\u001b[0;32m   2746\u001b[0m \u001b[1;33m\u001b[0m\u001b[0m\n\u001b[1;32m-> 2747\u001b[1;33m         \u001b[0mmimage\u001b[0m\u001b[1;33m.\u001b[0m\u001b[0m_draw_list_compositing_images\u001b[0m\u001b[1;33m(\u001b[0m\u001b[0mrenderer\u001b[0m\u001b[1;33m,\u001b[0m \u001b[0mself\u001b[0m\u001b[1;33m,\u001b[0m \u001b[0martists\u001b[0m\u001b[1;33m)\u001b[0m\u001b[1;33m\u001b[0m\u001b[1;33m\u001b[0m\u001b[0m\n\u001b[0m\u001b[0;32m   2748\u001b[0m \u001b[1;33m\u001b[0m\u001b[0m\n\u001b[0;32m   2749\u001b[0m         \u001b[0mrenderer\u001b[0m\u001b[1;33m.\u001b[0m\u001b[0mclose_group\u001b[0m\u001b[1;33m(\u001b[0m\u001b[1;34m'axes'\u001b[0m\u001b[1;33m)\u001b[0m\u001b[1;33m\u001b[0m\u001b[1;33m\u001b[0m\u001b[0m\n",
      "\u001b[1;32mC:\\ProgramData\\Anaconda3\\lib\\site-packages\\matplotlib\\image.py\u001b[0m in \u001b[0;36m_draw_list_compositing_images\u001b[1;34m(renderer, parent, artists, suppress_composite)\u001b[0m\n\u001b[0;32m    129\u001b[0m     \u001b[1;32mif\u001b[0m \u001b[0mnot_composite\u001b[0m \u001b[1;32mor\u001b[0m \u001b[1;32mnot\u001b[0m \u001b[0mhas_images\u001b[0m\u001b[1;33m:\u001b[0m\u001b[1;33m\u001b[0m\u001b[1;33m\u001b[0m\u001b[0m\n\u001b[0;32m    130\u001b[0m         \u001b[1;32mfor\u001b[0m \u001b[0ma\u001b[0m \u001b[1;32min\u001b[0m \u001b[0martists\u001b[0m\u001b[1;33m:\u001b[0m\u001b[1;33m\u001b[0m\u001b[1;33m\u001b[0m\u001b[0m\n\u001b[1;32m--> 131\u001b[1;33m             \u001b[0ma\u001b[0m\u001b[1;33m.\u001b[0m\u001b[0mdraw\u001b[0m\u001b[1;33m(\u001b[0m\u001b[0mrenderer\u001b[0m\u001b[1;33m)\u001b[0m\u001b[1;33m\u001b[0m\u001b[1;33m\u001b[0m\u001b[0m\n\u001b[0m\u001b[0;32m    132\u001b[0m     \u001b[1;32melse\u001b[0m\u001b[1;33m:\u001b[0m\u001b[1;33m\u001b[0m\u001b[1;33m\u001b[0m\u001b[0m\n\u001b[0;32m    133\u001b[0m         \u001b[1;31m# Composite any adjacent images together\u001b[0m\u001b[1;33m\u001b[0m\u001b[1;33m\u001b[0m\u001b[1;33m\u001b[0m\u001b[0m\n",
      "\u001b[1;32mC:\\ProgramData\\Anaconda3\\lib\\site-packages\\matplotlib\\artist.py\u001b[0m in \u001b[0;36mdraw_wrapper\u001b[1;34m(artist, renderer, *args, **kwargs)\u001b[0m\n\u001b[0;32m     39\u001b[0m                 \u001b[0mrenderer\u001b[0m\u001b[1;33m.\u001b[0m\u001b[0mstart_filter\u001b[0m\u001b[1;33m(\u001b[0m\u001b[1;33m)\u001b[0m\u001b[1;33m\u001b[0m\u001b[1;33m\u001b[0m\u001b[0m\n\u001b[0;32m     40\u001b[0m \u001b[1;33m\u001b[0m\u001b[0m\n\u001b[1;32m---> 41\u001b[1;33m             \u001b[1;32mreturn\u001b[0m \u001b[0mdraw\u001b[0m\u001b[1;33m(\u001b[0m\u001b[0martist\u001b[0m\u001b[1;33m,\u001b[0m \u001b[0mrenderer\u001b[0m\u001b[1;33m,\u001b[0m \u001b[1;33m*\u001b[0m\u001b[0margs\u001b[0m\u001b[1;33m,\u001b[0m \u001b[1;33m**\u001b[0m\u001b[0mkwargs\u001b[0m\u001b[1;33m)\u001b[0m\u001b[1;33m\u001b[0m\u001b[1;33m\u001b[0m\u001b[0m\n\u001b[0m\u001b[0;32m     42\u001b[0m         \u001b[1;32mfinally\u001b[0m\u001b[1;33m:\u001b[0m\u001b[1;33m\u001b[0m\u001b[1;33m\u001b[0m\u001b[0m\n\u001b[0;32m     43\u001b[0m             \u001b[1;32mif\u001b[0m \u001b[0martist\u001b[0m\u001b[1;33m.\u001b[0m\u001b[0mget_agg_filter\u001b[0m\u001b[1;33m(\u001b[0m\u001b[1;33m)\u001b[0m \u001b[1;32mis\u001b[0m \u001b[1;32mnot\u001b[0m \u001b[1;32mNone\u001b[0m\u001b[1;33m:\u001b[0m\u001b[1;33m\u001b[0m\u001b[1;33m\u001b[0m\u001b[0m\n",
      "\u001b[1;32mC:\\ProgramData\\Anaconda3\\lib\\site-packages\\matplotlib\\axis.py\u001b[0m in \u001b[0;36mdraw\u001b[1;34m(self, renderer, *args, **kwargs)\u001b[0m\n\u001b[0;32m   1162\u001b[0m         \u001b[0mrenderer\u001b[0m\u001b[1;33m.\u001b[0m\u001b[0mopen_group\u001b[0m\u001b[1;33m(\u001b[0m\u001b[0m__name__\u001b[0m\u001b[1;33m,\u001b[0m \u001b[0mgid\u001b[0m\u001b[1;33m=\u001b[0m\u001b[0mself\u001b[0m\u001b[1;33m.\u001b[0m\u001b[0mget_gid\u001b[0m\u001b[1;33m(\u001b[0m\u001b[1;33m)\u001b[0m\u001b[1;33m)\u001b[0m\u001b[1;33m\u001b[0m\u001b[1;33m\u001b[0m\u001b[0m\n\u001b[0;32m   1163\u001b[0m \u001b[1;33m\u001b[0m\u001b[0m\n\u001b[1;32m-> 1164\u001b[1;33m         \u001b[0mticks_to_draw\u001b[0m \u001b[1;33m=\u001b[0m \u001b[0mself\u001b[0m\u001b[1;33m.\u001b[0m\u001b[0m_update_ticks\u001b[0m\u001b[1;33m(\u001b[0m\u001b[1;33m)\u001b[0m\u001b[1;33m\u001b[0m\u001b[1;33m\u001b[0m\u001b[0m\n\u001b[0m\u001b[0;32m   1165\u001b[0m         ticklabelBoxes, ticklabelBoxes2 = self._get_tick_bboxes(ticks_to_draw,\n\u001b[0;32m   1166\u001b[0m                                                                 renderer)\n",
      "\u001b[1;32mC:\\ProgramData\\Anaconda3\\lib\\site-packages\\matplotlib\\axis.py\u001b[0m in \u001b[0;36m_update_ticks\u001b[1;34m(self)\u001b[0m\n\u001b[0;32m   1021\u001b[0m         \u001b[0mmajor_locs\u001b[0m \u001b[1;33m=\u001b[0m \u001b[0mself\u001b[0m\u001b[1;33m.\u001b[0m\u001b[0mget_majorticklocs\u001b[0m\u001b[1;33m(\u001b[0m\u001b[1;33m)\u001b[0m\u001b[1;33m\u001b[0m\u001b[1;33m\u001b[0m\u001b[0m\n\u001b[0;32m   1022\u001b[0m         \u001b[0mmajor_labels\u001b[0m \u001b[1;33m=\u001b[0m \u001b[0mself\u001b[0m\u001b[1;33m.\u001b[0m\u001b[0mmajor\u001b[0m\u001b[1;33m.\u001b[0m\u001b[0mformatter\u001b[0m\u001b[1;33m.\u001b[0m\u001b[0mformat_ticks\u001b[0m\u001b[1;33m(\u001b[0m\u001b[0mmajor_locs\u001b[0m\u001b[1;33m)\u001b[0m\u001b[1;33m\u001b[0m\u001b[1;33m\u001b[0m\u001b[0m\n\u001b[1;32m-> 1023\u001b[1;33m         \u001b[0mmajor_ticks\u001b[0m \u001b[1;33m=\u001b[0m \u001b[0mself\u001b[0m\u001b[1;33m.\u001b[0m\u001b[0mget_major_ticks\u001b[0m\u001b[1;33m(\u001b[0m\u001b[0mlen\u001b[0m\u001b[1;33m(\u001b[0m\u001b[0mmajor_locs\u001b[0m\u001b[1;33m)\u001b[0m\u001b[1;33m)\u001b[0m\u001b[1;33m\u001b[0m\u001b[1;33m\u001b[0m\u001b[0m\n\u001b[0m\u001b[0;32m   1024\u001b[0m         \u001b[0mself\u001b[0m\u001b[1;33m.\u001b[0m\u001b[0mmajor\u001b[0m\u001b[1;33m.\u001b[0m\u001b[0mformatter\u001b[0m\u001b[1;33m.\u001b[0m\u001b[0mset_locs\u001b[0m\u001b[1;33m(\u001b[0m\u001b[0mmajor_locs\u001b[0m\u001b[1;33m)\u001b[0m\u001b[1;33m\u001b[0m\u001b[1;33m\u001b[0m\u001b[0m\n\u001b[0;32m   1025\u001b[0m         \u001b[1;32mfor\u001b[0m \u001b[0mtick\u001b[0m\u001b[1;33m,\u001b[0m \u001b[0mloc\u001b[0m\u001b[1;33m,\u001b[0m \u001b[0mlabel\u001b[0m \u001b[1;32min\u001b[0m \u001b[0mzip\u001b[0m\u001b[1;33m(\u001b[0m\u001b[0mmajor_ticks\u001b[0m\u001b[1;33m,\u001b[0m \u001b[0mmajor_locs\u001b[0m\u001b[1;33m,\u001b[0m \u001b[0mmajor_labels\u001b[0m\u001b[1;33m)\u001b[0m\u001b[1;33m:\u001b[0m\u001b[1;33m\u001b[0m\u001b[1;33m\u001b[0m\u001b[0m\n",
      "\u001b[1;32mC:\\ProgramData\\Anaconda3\\lib\\site-packages\\matplotlib\\axis.py\u001b[0m in \u001b[0;36mget_major_ticks\u001b[1;34m(self, numticks)\u001b[0m\n\u001b[0;32m   1380\u001b[0m         \u001b[1;32mwhile\u001b[0m \u001b[0mlen\u001b[0m\u001b[1;33m(\u001b[0m\u001b[0mself\u001b[0m\u001b[1;33m.\u001b[0m\u001b[0mmajorTicks\u001b[0m\u001b[1;33m)\u001b[0m \u001b[1;33m<\u001b[0m \u001b[0mnumticks\u001b[0m\u001b[1;33m:\u001b[0m\u001b[1;33m\u001b[0m\u001b[1;33m\u001b[0m\u001b[0m\n\u001b[0;32m   1381\u001b[0m             \u001b[1;31m# Update the new tick label properties from the old.\u001b[0m\u001b[1;33m\u001b[0m\u001b[1;33m\u001b[0m\u001b[1;33m\u001b[0m\u001b[0m\n\u001b[1;32m-> 1382\u001b[1;33m             \u001b[0mtick\u001b[0m \u001b[1;33m=\u001b[0m \u001b[0mself\u001b[0m\u001b[1;33m.\u001b[0m\u001b[0m_get_tick\u001b[0m\u001b[1;33m(\u001b[0m\u001b[0mmajor\u001b[0m\u001b[1;33m=\u001b[0m\u001b[1;32mTrue\u001b[0m\u001b[1;33m)\u001b[0m\u001b[1;33m\u001b[0m\u001b[1;33m\u001b[0m\u001b[0m\n\u001b[0m\u001b[0;32m   1383\u001b[0m             \u001b[0mself\u001b[0m\u001b[1;33m.\u001b[0m\u001b[0mmajorTicks\u001b[0m\u001b[1;33m.\u001b[0m\u001b[0mappend\u001b[0m\u001b[1;33m(\u001b[0m\u001b[0mtick\u001b[0m\u001b[1;33m)\u001b[0m\u001b[1;33m\u001b[0m\u001b[1;33m\u001b[0m\u001b[0m\n\u001b[0;32m   1384\u001b[0m             \u001b[0mself\u001b[0m\u001b[1;33m.\u001b[0m\u001b[0m_copy_tick_props\u001b[0m\u001b[1;33m(\u001b[0m\u001b[0mself\u001b[0m\u001b[1;33m.\u001b[0m\u001b[0mmajorTicks\u001b[0m\u001b[1;33m[\u001b[0m\u001b[1;36m0\u001b[0m\u001b[1;33m]\u001b[0m\u001b[1;33m,\u001b[0m \u001b[0mtick\u001b[0m\u001b[1;33m)\u001b[0m\u001b[1;33m\u001b[0m\u001b[1;33m\u001b[0m\u001b[0m\n",
      "\u001b[1;32mC:\\ProgramData\\Anaconda3\\lib\\site-packages\\matplotlib\\axis.py\u001b[0m in \u001b[0;36m_get_tick\u001b[1;34m(self, major)\u001b[0m\n\u001b[0;32m   2014\u001b[0m         \u001b[1;32melse\u001b[0m\u001b[1;33m:\u001b[0m\u001b[1;33m\u001b[0m\u001b[1;33m\u001b[0m\u001b[0m\n\u001b[0;32m   2015\u001b[0m             \u001b[0mtick_kw\u001b[0m \u001b[1;33m=\u001b[0m \u001b[0mself\u001b[0m\u001b[1;33m.\u001b[0m\u001b[0m_minor_tick_kw\u001b[0m\u001b[1;33m\u001b[0m\u001b[1;33m\u001b[0m\u001b[0m\n\u001b[1;32m-> 2016\u001b[1;33m         \u001b[1;32mreturn\u001b[0m \u001b[0mXTick\u001b[0m\u001b[1;33m(\u001b[0m\u001b[0mself\u001b[0m\u001b[1;33m.\u001b[0m\u001b[0maxes\u001b[0m\u001b[1;33m,\u001b[0m \u001b[1;36m0\u001b[0m\u001b[1;33m,\u001b[0m \u001b[0mmajor\u001b[0m\u001b[1;33m=\u001b[0m\u001b[0mmajor\u001b[0m\u001b[1;33m,\u001b[0m \u001b[1;33m**\u001b[0m\u001b[0mtick_kw\u001b[0m\u001b[1;33m)\u001b[0m\u001b[1;33m\u001b[0m\u001b[1;33m\u001b[0m\u001b[0m\n\u001b[0m\u001b[0;32m   2017\u001b[0m \u001b[1;33m\u001b[0m\u001b[0m\n\u001b[0;32m   2018\u001b[0m     \u001b[1;32mdef\u001b[0m \u001b[0mset_label_position\u001b[0m\u001b[1;33m(\u001b[0m\u001b[0mself\u001b[0m\u001b[1;33m,\u001b[0m \u001b[0mposition\u001b[0m\u001b[1;33m)\u001b[0m\u001b[1;33m:\u001b[0m\u001b[1;33m\u001b[0m\u001b[1;33m\u001b[0m\u001b[0m\n",
      "\u001b[1;32mC:\\ProgramData\\Anaconda3\\lib\\site-packages\\matplotlib\\axis.py\u001b[0m in \u001b[0;36m__init__\u001b[1;34m(self, *args, **kwargs)\u001b[0m\n\u001b[0;32m    417\u001b[0m         \u001b[0msuper\u001b[0m\u001b[1;33m(\u001b[0m\u001b[1;33m)\u001b[0m\u001b[1;33m.\u001b[0m\u001b[0m__init__\u001b[0m\u001b[1;33m(\u001b[0m\u001b[1;33m*\u001b[0m\u001b[0margs\u001b[0m\u001b[1;33m,\u001b[0m \u001b[1;33m**\u001b[0m\u001b[0mkwargs\u001b[0m\u001b[1;33m)\u001b[0m\u001b[1;33m\u001b[0m\u001b[1;33m\u001b[0m\u001b[0m\n\u001b[0;32m    418\u001b[0m         \u001b[1;31m# x in data coords, y in axes coords\u001b[0m\u001b[1;33m\u001b[0m\u001b[1;33m\u001b[0m\u001b[1;33m\u001b[0m\u001b[0m\n\u001b[1;32m--> 419\u001b[1;33m         self.tick1line.set(\n\u001b[0m\u001b[0;32m    420\u001b[0m             \u001b[0mxdata\u001b[0m\u001b[1;33m=\u001b[0m\u001b[1;33m[\u001b[0m\u001b[1;36m0\u001b[0m\u001b[1;33m]\u001b[0m\u001b[1;33m,\u001b[0m \u001b[0mydata\u001b[0m\u001b[1;33m=\u001b[0m\u001b[1;33m[\u001b[0m\u001b[1;36m0\u001b[0m\u001b[1;33m]\u001b[0m\u001b[1;33m,\u001b[0m\u001b[1;33m\u001b[0m\u001b[1;33m\u001b[0m\u001b[0m\n\u001b[0;32m    421\u001b[0m             \u001b[0mtransform\u001b[0m\u001b[1;33m=\u001b[0m\u001b[0mself\u001b[0m\u001b[1;33m.\u001b[0m\u001b[0maxes\u001b[0m\u001b[1;33m.\u001b[0m\u001b[0mget_xaxis_transform\u001b[0m\u001b[1;33m(\u001b[0m\u001b[0mwhich\u001b[0m\u001b[1;33m=\u001b[0m\u001b[1;34m\"tick1\"\u001b[0m\u001b[1;33m)\u001b[0m\u001b[1;33m,\u001b[0m\u001b[1;33m\u001b[0m\u001b[1;33m\u001b[0m\u001b[0m\n",
      "\u001b[1;32mC:\\ProgramData\\Anaconda3\\lib\\site-packages\\matplotlib\\artist.py\u001b[0m in \u001b[0;36mset\u001b[1;34m(self, **kwargs)\u001b[0m\n\u001b[0;32m   1111\u001b[0m         \u001b[1;32mif\u001b[0m \u001b[0mmove_color_to_start\u001b[0m\u001b[1;33m:\u001b[0m\u001b[1;33m\u001b[0m\u001b[1;33m\u001b[0m\u001b[0m\n\u001b[0;32m   1112\u001b[0m             \u001b[0mkwargs\u001b[0m \u001b[1;33m=\u001b[0m \u001b[1;33m{\u001b[0m\u001b[1;34m\"color\"\u001b[0m\u001b[1;33m:\u001b[0m \u001b[0mkwargs\u001b[0m\u001b[1;33m.\u001b[0m\u001b[0mpop\u001b[0m\u001b[1;33m(\u001b[0m\u001b[1;34m\"color\"\u001b[0m\u001b[1;33m)\u001b[0m\u001b[1;33m,\u001b[0m \u001b[1;33m**\u001b[0m\u001b[0mkwargs\u001b[0m\u001b[1;33m}\u001b[0m\u001b[1;33m\u001b[0m\u001b[1;33m\u001b[0m\u001b[0m\n\u001b[1;32m-> 1113\u001b[1;33m         \u001b[1;32mreturn\u001b[0m \u001b[0mself\u001b[0m\u001b[1;33m.\u001b[0m\u001b[0mupdate\u001b[0m\u001b[1;33m(\u001b[0m\u001b[0mkwargs\u001b[0m\u001b[1;33m)\u001b[0m\u001b[1;33m\u001b[0m\u001b[1;33m\u001b[0m\u001b[0m\n\u001b[0m\u001b[0;32m   1114\u001b[0m \u001b[1;33m\u001b[0m\u001b[0m\n\u001b[0;32m   1115\u001b[0m     \u001b[1;32mdef\u001b[0m \u001b[0mfindobj\u001b[0m\u001b[1;33m(\u001b[0m\u001b[0mself\u001b[0m\u001b[1;33m,\u001b[0m \u001b[0mmatch\u001b[0m\u001b[1;33m=\u001b[0m\u001b[1;32mNone\u001b[0m\u001b[1;33m,\u001b[0m \u001b[0minclude_self\u001b[0m\u001b[1;33m=\u001b[0m\u001b[1;32mTrue\u001b[0m\u001b[1;33m)\u001b[0m\u001b[1;33m:\u001b[0m\u001b[1;33m\u001b[0m\u001b[1;33m\u001b[0m\u001b[0m\n",
      "\u001b[1;32mC:\\ProgramData\\Anaconda3\\lib\\site-packages\\matplotlib\\artist.py\u001b[0m in \u001b[0;36mupdate\u001b[1;34m(self, props)\u001b[0m\n\u001b[0;32m    996\u001b[0m                         raise AttributeError(f\"{type(self).__name__!r} object \"\n\u001b[0;32m    997\u001b[0m                                              f\"has no property {k!r}\")\n\u001b[1;32m--> 998\u001b[1;33m                     \u001b[0mret\u001b[0m\u001b[1;33m.\u001b[0m\u001b[0mappend\u001b[0m\u001b[1;33m(\u001b[0m\u001b[0mfunc\u001b[0m\u001b[1;33m(\u001b[0m\u001b[0mv\u001b[0m\u001b[1;33m)\u001b[0m\u001b[1;33m)\u001b[0m\u001b[1;33m\u001b[0m\u001b[1;33m\u001b[0m\u001b[0m\n\u001b[0m\u001b[0;32m    999\u001b[0m         \u001b[1;32mif\u001b[0m \u001b[0mret\u001b[0m\u001b[1;33m:\u001b[0m\u001b[1;33m\u001b[0m\u001b[1;33m\u001b[0m\u001b[0m\n\u001b[0;32m   1000\u001b[0m             \u001b[0mself\u001b[0m\u001b[1;33m.\u001b[0m\u001b[0mpchanged\u001b[0m\u001b[1;33m(\u001b[0m\u001b[1;33m)\u001b[0m\u001b[1;33m\u001b[0m\u001b[1;33m\u001b[0m\u001b[0m\n",
      "\u001b[1;32mC:\\ProgramData\\Anaconda3\\lib\\site-packages\\matplotlib\\lines.py\u001b[0m in \u001b[0;36mset_marker\u001b[1;34m(self, marker)\u001b[0m\n\u001b[0;32m   1155\u001b[0m             \u001b[0marguments\u001b[0m\u001b[1;33m.\u001b[0m\u001b[1;33m\u001b[0m\u001b[1;33m\u001b[0m\u001b[0m\n\u001b[0;32m   1156\u001b[0m         \"\"\"\n\u001b[1;32m-> 1157\u001b[1;33m         \u001b[0mself\u001b[0m\u001b[1;33m.\u001b[0m\u001b[0m_marker\u001b[0m\u001b[1;33m.\u001b[0m\u001b[0mset_marker\u001b[0m\u001b[1;33m(\u001b[0m\u001b[0mmarker\u001b[0m\u001b[1;33m)\u001b[0m\u001b[1;33m\u001b[0m\u001b[1;33m\u001b[0m\u001b[0m\n\u001b[0m\u001b[0;32m   1158\u001b[0m         \u001b[0mself\u001b[0m\u001b[1;33m.\u001b[0m\u001b[0mstale\u001b[0m \u001b[1;33m=\u001b[0m \u001b[1;32mTrue\u001b[0m\u001b[1;33m\u001b[0m\u001b[1;33m\u001b[0m\u001b[0m\n\u001b[0;32m   1159\u001b[0m \u001b[1;33m\u001b[0m\u001b[0m\n",
      "\u001b[1;32mC:\\ProgramData\\Anaconda3\\lib\\site-packages\\matplotlib\\markers.py\u001b[0m in \u001b[0;36mset_marker\u001b[1;34m(self, marker)\u001b[0m\n\u001b[0;32m    311\u001b[0m         \u001b[1;32mif\u001b[0m \u001b[1;32mnot\u001b[0m \u001b[0misinstance\u001b[0m\u001b[1;33m(\u001b[0m\u001b[0mmarker\u001b[0m\u001b[1;33m,\u001b[0m \u001b[0mMarkerStyle\u001b[0m\u001b[1;33m)\u001b[0m\u001b[1;33m:\u001b[0m\u001b[1;33m\u001b[0m\u001b[1;33m\u001b[0m\u001b[0m\n\u001b[0;32m    312\u001b[0m             \u001b[0mself\u001b[0m\u001b[1;33m.\u001b[0m\u001b[0m_marker\u001b[0m \u001b[1;33m=\u001b[0m \u001b[0mmarker\u001b[0m\u001b[1;33m\u001b[0m\u001b[1;33m\u001b[0m\u001b[0m\n\u001b[1;32m--> 313\u001b[1;33m             \u001b[0mself\u001b[0m\u001b[1;33m.\u001b[0m\u001b[0m_recache\u001b[0m\u001b[1;33m(\u001b[0m\u001b[1;33m)\u001b[0m\u001b[1;33m\u001b[0m\u001b[1;33m\u001b[0m\u001b[0m\n\u001b[0m\u001b[0;32m    314\u001b[0m \u001b[1;33m\u001b[0m\u001b[0m\n\u001b[0;32m    315\u001b[0m     \u001b[1;32mdef\u001b[0m \u001b[0mget_path\u001b[0m\u001b[1;33m(\u001b[0m\u001b[0mself\u001b[0m\u001b[1;33m)\u001b[0m\u001b[1;33m:\u001b[0m\u001b[1;33m\u001b[0m\u001b[1;33m\u001b[0m\u001b[0m\n",
      "\u001b[1;32mC:\\ProgramData\\Anaconda3\\lib\\site-packages\\matplotlib\\markers.py\u001b[0m in \u001b[0;36m_recache\u001b[1;34m(self)\u001b[0m\n\u001b[0;32m    239\u001b[0m         \u001b[0mself\u001b[0m\u001b[1;33m.\u001b[0m\u001b[0m_capstyle\u001b[0m \u001b[1;33m=\u001b[0m \u001b[1;34m'butt'\u001b[0m\u001b[1;33m\u001b[0m\u001b[1;33m\u001b[0m\u001b[0m\n\u001b[0;32m    240\u001b[0m         \u001b[0mself\u001b[0m\u001b[1;33m.\u001b[0m\u001b[0m_filled\u001b[0m \u001b[1;33m=\u001b[0m \u001b[1;32mTrue\u001b[0m\u001b[1;33m\u001b[0m\u001b[1;33m\u001b[0m\u001b[0m\n\u001b[1;32m--> 241\u001b[1;33m         \u001b[0mself\u001b[0m\u001b[1;33m.\u001b[0m\u001b[0m_marker_function\u001b[0m\u001b[1;33m(\u001b[0m\u001b[1;33m)\u001b[0m\u001b[1;33m\u001b[0m\u001b[1;33m\u001b[0m\u001b[0m\n\u001b[0m\u001b[0;32m    242\u001b[0m \u001b[1;33m\u001b[0m\u001b[0m\n\u001b[0;32m    243\u001b[0m     \u001b[1;32mdef\u001b[0m \u001b[0m__bool__\u001b[0m\u001b[1;33m(\u001b[0m\u001b[0mself\u001b[0m\u001b[1;33m)\u001b[0m\u001b[1;33m:\u001b[0m\u001b[1;33m\u001b[0m\u001b[1;33m\u001b[0m\u001b[0m\n",
      "\u001b[1;32mC:\\ProgramData\\Anaconda3\\lib\\site-packages\\matplotlib\\markers.py\u001b[0m in \u001b[0;36m_set_tickdown\u001b[1;34m(self)\u001b[0m\n\u001b[0;32m    752\u001b[0m \u001b[1;33m\u001b[0m\u001b[0m\n\u001b[0;32m    753\u001b[0m     \u001b[1;32mdef\u001b[0m \u001b[0m_set_tickdown\u001b[0m\u001b[1;33m(\u001b[0m\u001b[0mself\u001b[0m\u001b[1;33m)\u001b[0m\u001b[1;33m:\u001b[0m\u001b[1;33m\u001b[0m\u001b[1;33m\u001b[0m\u001b[0m\n\u001b[1;32m--> 754\u001b[1;33m         \u001b[0mself\u001b[0m\u001b[1;33m.\u001b[0m\u001b[0m_transform\u001b[0m \u001b[1;33m=\u001b[0m \u001b[0mAffine2D\u001b[0m\u001b[1;33m(\u001b[0m\u001b[1;33m)\u001b[0m\u001b[1;33m.\u001b[0m\u001b[0mscale\u001b[0m\u001b[1;33m(\u001b[0m\u001b[1;36m1.0\u001b[0m\u001b[1;33m,\u001b[0m \u001b[1;33m-\u001b[0m\u001b[1;36m1.0\u001b[0m\u001b[1;33m)\u001b[0m\u001b[1;33m\u001b[0m\u001b[1;33m\u001b[0m\u001b[0m\n\u001b[0m\u001b[0;32m    755\u001b[0m         \u001b[0mself\u001b[0m\u001b[1;33m.\u001b[0m\u001b[0m_snap_threshold\u001b[0m \u001b[1;33m=\u001b[0m \u001b[1;36m1.0\u001b[0m\u001b[1;33m\u001b[0m\u001b[1;33m\u001b[0m\u001b[0m\n\u001b[0;32m    756\u001b[0m         \u001b[0mself\u001b[0m\u001b[1;33m.\u001b[0m\u001b[0m_filled\u001b[0m \u001b[1;33m=\u001b[0m \u001b[1;32mFalse\u001b[0m\u001b[1;33m\u001b[0m\u001b[1;33m\u001b[0m\u001b[0m\n",
      "\u001b[1;32mC:\\ProgramData\\Anaconda3\\lib\\site-packages\\matplotlib\\transforms.py\u001b[0m in \u001b[0;36m__init__\u001b[1;34m(self, matrix, **kwargs)\u001b[0m\n\u001b[0;32m   1843\u001b[0m         \u001b[1;32mif\u001b[0m \u001b[0mmatrix\u001b[0m \u001b[1;32mis\u001b[0m \u001b[1;32mNone\u001b[0m\u001b[1;33m:\u001b[0m\u001b[1;33m\u001b[0m\u001b[1;33m\u001b[0m\u001b[0m\n\u001b[0;32m   1844\u001b[0m             \u001b[1;31m# A bit faster than np.identity(3).\u001b[0m\u001b[1;33m\u001b[0m\u001b[1;33m\u001b[0m\u001b[1;33m\u001b[0m\u001b[0m\n\u001b[1;32m-> 1845\u001b[1;33m             \u001b[0mmatrix\u001b[0m \u001b[1;33m=\u001b[0m \u001b[0mIdentityTransform\u001b[0m\u001b[1;33m.\u001b[0m\u001b[0m_mtx\u001b[0m\u001b[1;33m.\u001b[0m\u001b[0mcopy\u001b[0m\u001b[1;33m(\u001b[0m\u001b[1;33m)\u001b[0m\u001b[1;33m\u001b[0m\u001b[1;33m\u001b[0m\u001b[0m\n\u001b[0m\u001b[0;32m   1846\u001b[0m         \u001b[0mself\u001b[0m\u001b[1;33m.\u001b[0m\u001b[0m_mtx\u001b[0m \u001b[1;33m=\u001b[0m \u001b[0mmatrix\u001b[0m\u001b[1;33m.\u001b[0m\u001b[0mcopy\u001b[0m\u001b[1;33m(\u001b[0m\u001b[1;33m)\u001b[0m\u001b[1;33m\u001b[0m\u001b[1;33m\u001b[0m\u001b[0m\n\u001b[0;32m   1847\u001b[0m         \u001b[0mself\u001b[0m\u001b[1;33m.\u001b[0m\u001b[0m_invalid\u001b[0m \u001b[1;33m=\u001b[0m \u001b[1;36m0\u001b[0m\u001b[1;33m\u001b[0m\u001b[1;33m\u001b[0m\u001b[0m\n",
      "\u001b[1;31mKeyboardInterrupt\u001b[0m: "
     ]
    }
   ],
   "source": [
    "X = []\n",
    "Y = []\n",
    "Voltage = []\n",
    "\n",
    "name = \"Sweep BC-BM voltage from 10V to 2V. mm_freq = 140GHz P=2. Osc_freq = 100033Hz\"+datetime.datetime.now().strftime(\"%Y%m%d%H%M%S.txt\")\n",
    "file = open(name,\"w\")\n",
    "\n",
    "fig, ax = plt.subplots(2,1, figsize=(10,8))\n",
    "hfig = display(fig, display_id=True)\n",
    "\n",
    "plt.setp(ax[0].get_xticklabels(), visible=False)\n",
    "\n",
    "Steps = 801\n",
    "voltage_steps = np.linspace(10, 2,Steps)\n",
    "f = IntProgress(min=0, max=Steps)                                            # instantiate the bar\n",
    "display(f)                                                                   # display the bar\n",
    "\n",
    "for i in voltage_steps:\n",
    "    current_src_BC.set_voltage(i)\n",
    "    current_src_BM.set_voltage(i)\n",
    "    sleep(time_constant)\n",
    "    \n",
    "    voltageXY = Lock_In.read_outp_in_string()\n",
    "    \n",
    "    filecontent = str(i) + ',' + voltageXY\n",
    "    file.write(filecontent)\n",
    "    \n",
    "    res = Lock_In.read_outp_in_ascii()\n",
    "    X.append(float(res[0])*1e9)\n",
    "    Y.append(float(res[1])*1e9)\n",
    "    Voltage.append(i)\n",
    "    \n",
    "    # dynamic plot\n",
    "    ax[0].cla()\n",
    "    ax[1].cla()\n",
    "    ax[0].set_title('Lock-In Data')\n",
    "    ax[0].set_ylabel('X [nA]', fontsize=16, **hfont)\n",
    "    ax[1].set_xlabel('BC-BM voltage [V]', fontsize=16, **hfont)\n",
    "    ax[1].set_ylabel('Y [nA]', fontsize=16, **hfont)\n",
    "    \n",
    "    ax[0].plot(Voltage, X, 'g')\n",
    "    ax[1].plot(Voltage, Y, 'b')\n",
    "    \n",
    "    hfig.update(fig)\n",
    "    plt.pause(0.1)\n",
    "    f.value += 1\n",
    "    \n",
    "lo1.set_status(False)\n",
    "file.close()\n",
    "complete_sound()\n",
    "telegram_notification('The measurement is complite', t_id, c_id)"
   ]
  },
  {
   "cell_type": "code",
   "execution_count": null,
   "metadata": {},
   "outputs": [],
   "source": []
  },
  {
   "cell_type": "code",
   "execution_count": null,
   "metadata": {},
   "outputs": [],
   "source": []
  },
  {
   "cell_type": "code",
   "execution_count": null,
   "metadata": {},
   "outputs": [],
   "source": []
  },
  {
   "cell_type": "code",
   "execution_count": null,
   "metadata": {},
   "outputs": [],
   "source": []
  },
  {
   "cell_type": "code",
   "execution_count": null,
   "metadata": {},
   "outputs": [],
   "source": []
  },
  {
   "cell_type": "markdown",
   "metadata": {},
   "source": [
    "SRS_SG386 Microwave signal generator "
   ]
  },
  {
   "cell_type": "markdown",
   "metadata": {},
   "source": [
    "A lot of troubles with an old python 2 driver here - better to rewright again"
   ]
  },
  {
   "cell_type": "code",
   "execution_count": 27,
   "metadata": {},
   "outputs": [
    {
     "name": "stderr",
     "output_type": "stream",
     "text": [
      "root: WARNING  Get not implemented for SRS_SG380.timebase\n",
      "root: WARNING  Get not implemented for SRS_SG380.timebase\n",
      "root: WARNING  SRS_SG380 : answer to MFNC? was not expected : 3\n",
      "\n",
      "root: WARNING  SRS_SG380 : answer to COUP? was not 0 or 1 : 0\n",
      "\n",
      "root: WARNING  SRS_SG380 : answer to TYPE? was not expected : 3\n",
      "\n"
     ]
    }
   ],
   "source": [
    "lo2 = SRS_SG380('SRS_SG386', address='Lo_27')  "
   ]
  },
  {
   "cell_type": "code",
   "execution_count": 28,
   "metadata": {},
   "outputs": [
    {
     "data": {
      "text/plain": [
       "'1\\r\\n'"
      ]
     },
     "execution_count": 28,
     "metadata": {},
     "output_type": "execute_result"
    }
   ],
   "source": [
    "lo2.get_status()"
   ]
  },
  {
   "cell_type": "code",
   "execution_count": 29,
   "metadata": {},
   "outputs": [
    {
     "name": "stderr",
     "output_type": "stream",
     "text": [
      "root: WARNING  Unsupported type <class 'NoneType'>\n"
     ]
    },
    {
     "data": {
      "text/plain": [
       "False"
      ]
     },
     "execution_count": 29,
     "metadata": {},
     "output_type": "execute_result"
    }
   ],
   "source": [
    "lo2.set_status(0)"
   ]
  },
  {
   "cell_type": "code",
   "execution_count": 10,
   "metadata": {},
   "outputs": [],
   "source": [
    "import pyvisa"
   ]
  },
  {
   "cell_type": "code",
   "execution_count": 11,
   "metadata": {},
   "outputs": [],
   "source": [
    "rm = pyvisa.ResourceManager()"
   ]
  },
  {
   "cell_type": "code",
   "execution_count": 12,
   "metadata": {},
   "outputs": [
    {
     "data": {
      "text/plain": [
       "('ASRL1::INSTR',\n",
       " 'ASRL3::INSTR',\n",
       " 'ASRL4::INSTR',\n",
       " 'GPIB1::5::INSTR',\n",
       " 'GPIB0::10::INSTR',\n",
       " 'GPIB0::16::INSTR',\n",
       " 'GPIB0::17::INSTR',\n",
       " 'GPIB0::1::INSTR',\n",
       " 'GPIB0::22::INSTR',\n",
       " 'GPIB0::26::INSTR',\n",
       " 'GPIB0::2::INSTR',\n",
       " 'GPIB0::3::INSTR',\n",
       " 'GPIB0::4::INSTR',\n",
       " 'GPIB0::5::INSTR',\n",
       " 'GPIB0::6::INSTR',\n",
       " 'GPIB0::7::INSTR',\n",
       " 'GPIB0::8::INSTR',\n",
       " 'GPIB0::9::0::INSTR',\n",
       " 'TCPIP0::169.254.166.83::inst0::INSTR',\n",
       " 'USB0::0x05FF::0x1023::2807N59061::0::INSTR',\n",
       " 'USB0::0x0699::0x035E::C011901::0::INSTR',\n",
       " 'USB0::0x0957::0x1796::MY51290236::0::INSTR',\n",
       " 'USB0::0x0B5B::0xFFF9::1405051_776_47::0::INSTR',\n",
       " 'USB0::0x2A8D::0xB318::MY59290070::0::INSTR')"
      ]
     },
     "execution_count": 12,
     "metadata": {},
     "output_type": "execute_result"
    }
   ],
   "source": [
    "rm.list_resources()"
   ]
  },
  {
   "cell_type": "code",
   "execution_count": 32,
   "metadata": {},
   "outputs": [],
   "source": [
    "my_instrument = rm.open_resource('GPIB1::5::INSTR', read_termination='\\r\\n')"
   ]
  },
  {
   "cell_type": "code",
   "execution_count": 36,
   "metadata": {},
   "outputs": [
    {
     "name": "stdout",
     "output_type": "stream",
     "text": [
      "0.107100\n"
     ]
    }
   ],
   "source": [
    "print(my_instrument.query('COIL?'))"
   ]
  },
  {
   "cell_type": "code",
   "execution_count": null,
   "metadata": {},
   "outputs": [],
   "source": []
  }
 ],
 "metadata": {
  "kernelspec": {
   "display_name": "Python 3",
   "language": "python",
   "name": "python3"
  },
  "language_info": {
   "codemirror_mode": {
    "name": "ipython",
    "version": 3
   },
   "file_extension": ".py",
   "mimetype": "text/x-python",
   "name": "python",
   "nbconvert_exporter": "python",
   "pygments_lexer": "ipython3",
   "version": "3.8.8"
  }
 },
 "nbformat": 4,
 "nbformat_minor": 1
}
