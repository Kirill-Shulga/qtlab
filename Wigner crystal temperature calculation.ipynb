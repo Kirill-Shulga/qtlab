{
 "cells": [
  {
   "cell_type": "markdown",
   "id": "9e794000",
   "metadata": {},
   "source": [
    "# Wigner crystal temperature calculation"
   ]
  },
  {
   "cell_type": "code",
   "execution_count": 1,
   "id": "a6768fe6",
   "metadata": {},
   "outputs": [],
   "source": [
    "import pylab\n",
    "from mpl_toolkits.mplot3d import Axes3D\n",
    "from matplotlib.colors import LinearSegmentedColormap\n",
    "import numpy\n",
    "import pickle\n",
    "import numpy as np\n",
    "from scipy import *\n",
    "from scipy.constants import *\n",
    "%matplotlib inline\n",
    "from matplotlib import pyplot as plt\n",
    "import matplotlib.ticker\n",
    "from scipy import optimize\n",
    "from scipy.optimize import curve_fit\n",
    "\n",
    "import re\n",
    "\n",
    "# Создаем форматер\n",
    "formatter = matplotlib.ticker.ScalarFormatter ()\n",
    "formatter.set_powerlimits((-3, 1))\n",
    "hfont = {'fontname':'Arial'}\n",
    "\n",
    "from ipywidgets import IntProgress\n",
    "from IPython.display import display\n",
    "import time"
   ]
  },
  {
   "cell_type": "code",
   "execution_count": 24,
   "id": "435ba477",
   "metadata": {},
   "outputs": [],
   "source": [
    "def electron_density(Voltage,distance):\n",
    "    return (Voltage/2/np.pi/4.8/10**(-10)/300/(distance/10))\n",
    "def transition_temperature(density, Gamma_factor):\n",
    "    return ((4.8*10**(-10))**2*np.sqrt(np.pi*density)/1.38/10**(-16)/Gamma_factor)"
   ]
  },
  {
   "cell_type": "code",
   "execution_count": 25,
   "id": "48a924dc",
   "metadata": {},
   "outputs": [
    {
     "data": {
      "text/plain": [
       "0.16921887144713738"
      ]
     },
     "execution_count": 25,
     "metadata": {},
     "output_type": "execute_result"
    }
   ],
   "source": [
    "transition_temperature(electron_density(Voltage,distance),Gamma_factor)"
   ]
  },
  {
   "cell_type": "code",
   "execution_count": 26,
   "id": "0505144d",
   "metadata": {},
   "outputs": [
    {
     "name": "stdout",
     "output_type": "stream",
     "text": [
      "Maximum possible electron density:  5.526 * 10^7 [cm^2]\n",
      "Wigner crystal transition temperature:  0.169 [K]\n"
     ]
    }
   ],
   "source": [
    "Voltage = 10                    #in [Volts]\n",
    "distance = 2                    #in [mm]\n",
    "print ('Maximum possible electron density: ', round(electron_density(Voltage,distance)/10**7, 3), '* 10^7 [cm^2]')\n",
    "Gamma_factor = 130\n",
    "print ('Wigner crystal transition temperature: ', round(transition_temperature(electron_density(Voltage,distance),Gamma_factor), 3), '[K]')"
   ]
  },
  {
   "cell_type": "code",
   "execution_count": null,
   "id": "48f5995a",
   "metadata": {},
   "outputs": [],
   "source": []
  },
  {
   "cell_type": "code",
   "execution_count": 34,
   "id": "825eca5a",
   "metadata": {},
   "outputs": [],
   "source": [
    "voltages = np.linspace(1,20, 1000)  \n",
    "distance = 2 \n",
    "Gamma_factor = 130\n",
    "temps = transition_temperature(electron_density(voltages,distance),Gamma_factor)"
   ]
  },
  {
   "cell_type": "code",
   "execution_count": 35,
   "id": "000e31ff",
   "metadata": {},
   "outputs": [
    {
     "data": {
      "image/png": "[encoded data removed]",
      "text/plain": [
       "<Figure size 864x288 with 1 Axes>"
      ]
     },
     "metadata": {
      "needs_background": "light"
     },
     "output_type": "display_data"
    }
   ],
   "source": [
    "fig, axes = plt.subplots(1,1,figsize=(12, 4))\n",
    "\n",
    "p = axes.plot(voltages, temps, linewidth=2.0, c = 'r', label='temperature')\n",
    "\n",
    "#axes.axis('tight')\n",
    "axes.tick_params(axis='x', labelsize=15)\n",
    "axes.tick_params(axis='y', labelsize=15)\n",
    "axes.set_xlabel(r'voltages (V)', labelpad=16, fontsize=20, **hfont)\n",
    "axes.set_ylabel(r'transition temperature (K)', labelpad=16, fontsize=20, **hfont)\n",
    "plt.grid(axis='x', color='0.95')\n",
    "plt.grid(axis='y', color='0.95')"
   ]
  },
  {
   "cell_type": "code",
   "execution_count": null,
   "id": "c3a23197",
   "metadata": {},
   "outputs": [],
   "source": []
  }
 ],
 "metadata": {
  "kernelspec": {
   "display_name": "Python 3",
   "language": "python",
   "name": "python3"
  },
  "language_info": {
   "codemirror_mode": {
    "name": "ipython",
    "version": 3
   },
   "file_extension": ".py",
   "mimetype": "text/x-python",
   "name": "python",
   "nbconvert_exporter": "python",
   "pygments_lexer": "ipython3",
   "version": "3.8.8"
  }
 },
 "nbformat": 4,
 "nbformat_minor": 5
}
