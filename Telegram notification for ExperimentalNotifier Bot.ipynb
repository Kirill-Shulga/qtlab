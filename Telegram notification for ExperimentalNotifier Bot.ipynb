{
 "cells": [
  {
   "cell_type": "code",
   "execution_count": 1,
   "id": "22249c6a",
   "metadata": {},
   "outputs": [],
   "source": [
    "import telegram_notifier\n",
    "import logging\n",
    "import argparse\n",
    "import socket\n",
    "import requests\n",
    "from logging import Handler, Formatter\n",
    "from datetime import datetime as dt"
   ]
  },
  {
   "cell_type": "code",
   "execution_count": 2,
   "id": "5ad331e8",
   "metadata": {},
   "outputs": [],
   "source": [
    "now = dt.now() # current date and time"
   ]
  },
  {
   "cell_type": "code",
   "execution_count": 3,
   "id": "f26d6b63",
   "metadata": {},
   "outputs": [],
   "source": [
    "class RequestsHandler(Handler):\n",
    "\n",
    "    def __init__(self, token_id, chat_id):\n",
    "        super().__init__()\n",
    "        self.token_id = token_id\n",
    "        self.chat_id = chat_id\n",
    "\n",
    "    def emit(self, record):\n",
    "        log_entry = self.format(record)\n",
    "        payload = {\n",
    "            'chat_id': self.chat_id,\n",
    "            'text': log_entry,\n",
    "            'parse_mode': 'HTML'\n",
    "        }\n",
    "        return requests.post(\"https://api.telegram.org/bot{token}/sendMessage\".format(token=self.token_id),\n",
    "                             data=payload).content\n",
    "        \n",
    "\n",
    "class LogstashFormatter(Formatter):\n",
    "    def __init__(self):\n",
    "        super(LogstashFormatter, self).__init__()\n",
    "\n",
    "    def format(self, record):\n",
    "        time = now.strftime(\"%d/%m/%Y, %H:%M:%S\")\n",
    "        return \"<b>{datetime}</b>\\n{message}\".format(datetime=time, message=record.msg)\n",
    "        #return \"{message}\".format(message=record.msg)\n",
    "\n",
    "\n",
    "def basic_notifier(logger_name, token_id, chat_id, message, level=logging.INFO):\n",
    "    logger = logging.getLogger(logger_name)\n",
    "    logger.setLevel(level)\n",
    "\n",
    "    handler = RequestsHandler(token_id=token_id, chat_id=chat_id)\n",
    "    formatter = LogstashFormatter()\n",
    "    handler.setFormatter(formatter)\n",
    "    logger.addHandler(handler)\n",
    "\n",
    "    logger.setLevel(level)\n",
    "    logger.info(message)\n"
   ]
  },
  {
   "cell_type": "code",
   "execution_count": 4,
   "id": "6b3f508b",
   "metadata": {},
   "outputs": [],
   "source": [
    "if __name__ == '__main__':\n",
    "    l_name = 'trymeApp'\n",
    "    l_msg = 'Test2'\n",
    "    t_id = '5102635867:AAGGWxqI7URoP5uWOyNPf99ZuJIsLQKqW-o'\n",
    "    c_id = '42924842'\n",
    "    basic_notifier(logger_name=l_name, token_id=t_id, chat_id=c_id, message=l_msg)"
   ]
  },
  {
   "cell_type": "code",
   "execution_count": null,
   "id": "8cf4ddaa",
   "metadata": {},
   "outputs": [],
   "source": []
  }
 ],
 "metadata": {
  "kernelspec": {
   "display_name": "Python 3",
   "language": "python",
   "name": "python3"
  },
  "language_info": {
   "codemirror_mode": {
    "name": "ipython",
    "version": 3
   },
   "file_extension": ".py",
   "mimetype": "text/x-python",
   "name": "python",
   "nbconvert_exporter": "python",
   "pygments_lexer": "ipython3",
   "version": "3.8.8"
  }
 },
 "nbformat": 4,
 "nbformat_minor": 5
}
