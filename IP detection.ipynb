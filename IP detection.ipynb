{
 "cells": [
  {
   "cell_type": "code",
   "execution_count": 8,
   "id": "5a9e9d5a",
   "metadata": {},
   "outputs": [],
   "source": [
    "import requests\n",
    "from pyfiglet import Figlet\n",
    "import folium"
   ]
  },
  {
   "cell_type": "code",
   "execution_count": 13,
   "id": "0c381b3a",
   "metadata": {},
   "outputs": [],
   "source": [
    "def get_info_by_ip(ip = '127.0.0.1'):\n",
    "    try:\n",
    "        responce = requests.get(url = f'http://ip-api.com/json/{ip}').json()\n",
    "        #print(responce)\n",
    "        \n",
    "        data = {\n",
    "            '[IP]': responce.get('query'),\n",
    "            '[Int prov]': responce.get('isp'),\n",
    "            '[Org]': responce.get('org'),\n",
    "            '[Country]': responce.get('country'),\n",
    "            '[Region Name]': responce.get('regionName'),\n",
    "            '[City]': responce.get('city'),\n",
    "            '[ZIP]': responce.get('zip'),\n",
    "            '[Lat]': responce.get('lat'),\n",
    "            '[Lon]': responce.get('lon')\n",
    "        }\n",
    "        \n",
    "        for k, v in data.items():\n",
    "            print(f'{k} : {v}')\n",
    "            \n",
    "        area = folium.Map(location=[responce.get('lat'), responce.get('lon')])\n",
    "        area.save(f'{responce.get(\"query\")}_{responce.get(\"city\")}.html')\n",
    "            \n",
    "    except requests.exceptions.ConnectionError:\n",
    "        print('[!] Please check your connection!')"
   ]
  },
  {
   "cell_type": "code",
   "execution_count": 9,
   "id": "2e315036",
   "metadata": {},
   "outputs": [],
   "source": [
    "folium.Map?"
   ]
  },
  {
   "cell_type": "code",
   "execution_count": 11,
   "id": "e4a4eadb",
   "metadata": {},
   "outputs": [],
   "source": [
    "def main():\n",
    "    preview_text = Figlet(font = 'slant')\n",
    "    print(preview_text.renderText('IP INFO'))\n",
    "    ip = input('Please enter a target IP: ')\n",
    "    get_info_by_ip(ip=ip)"
   ]
  },
  {
   "cell_type": "code",
   "execution_count": 12,
   "id": "1d0e0759",
   "metadata": {},
   "outputs": [
    {
     "name": "stdout",
     "output_type": "stream",
     "text": [
      "    ________     _____   ____________ \n",
      "   /  _/ __ \\   /  _/ | / / ____/ __ \\\n",
      "   / // /_/ /   / //  |/ / /_  / / / /\n",
      " _/ // ____/  _/ // /|  / __/ / /_/ / \n",
      "/___/_/      /___/_/ |_/_/    \\____/  \n",
      "                                      \n",
      "\n",
      "Please enter a target IP: 203.181.243.17\n",
      "[IP] : 203.181.243.17\n",
      "[Int prov] : Okinawa Institute of science and technology\n",
      "[Org] : Okinawa Institute of Science and Technology Graduate University\n",
      "[Country] : Japan\n",
      "[Region Name] : Okinawa\n",
      "[City] : Okinawa\n",
      "[ZIP] : 904-0031\n",
      "[Lat] : 26.3322\n",
      "[Lon] : 127.7903\n"
     ]
    }
   ],
   "source": [
    "if __name__ == '__main__':\n",
    "    main()"
   ]
  },
  {
   "cell_type": "code",
   "execution_count": null,
   "id": "3a00472a",
   "metadata": {},
   "outputs": [],
   "source": []
  }
 ],
 "metadata": {
  "kernelspec": {
   "display_name": "Python 3",
   "language": "python",
   "name": "python3"
  },
  "language_info": {
   "codemirror_mode": {
    "name": "ipython",
    "version": 3
   },
   "file_extension": ".py",
   "mimetype": "text/x-python",
   "name": "python",
   "nbconvert_exporter": "python",
   "pygments_lexer": "ipython3",
   "version": "3.8.8"
  }
 },
 "nbformat": 4,
 "nbformat_minor": 5
}
