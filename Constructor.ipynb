{
 "cells": [
  {
   "cell_type": "markdown",
   "metadata": {},
   "source": [
    "# Initializing QTLab stuff"
   ]
  },
  {
   "cell_type": "code",
   "execution_count": 3,
   "metadata": {},
   "outputs": [],
   "source": [
    "%run C:\\qtlab_replacement\\init.py\n",
    "import matplotlib.pyplot as plt\n",
    "from instruments import *\n",
    "import numpy as np\n",
    "import sweep\n",
    "import pandas as pd\n",
    "from save_pkl import *\n",
    "from IPython.display import clear_output"
   ]
  },
  {
   "cell_type": "code",
   "execution_count": 2,
   "metadata": {},
   "outputs": [],
   "source": [
    "import os\n",
    "os.chdir(\"C:\\qtlab_replacement\\instruments\\_labbrick\")"
   ]
  },
  {
   "cell_type": "code",
   "execution_count": null,
   "metadata": {},
   "outputs": [],
   "source": [
    "#import ctypes\n",
    "#ctypes.windll.LoadLibrary(\"C:\\qtlab_replacement\\instruments\\_labbrick\\vnx_fmsynth.dll\")"
   ]
  },
  {
   "cell_type": "markdown",
   "metadata": {},
   "source": [
    "# Initializing Voltage/Current sourses:"
   ]
  },
  {
   "cell_type": "code",
   "execution_count": 32,
   "metadata": {
    "collapsed": true
   },
   "outputs": [
    {
     "ename": "KeyboardInterrupt",
     "evalue": "",
     "output_type": "error",
     "traceback": [
      "\u001b[1;31m---------------------------------------------------------------------------\u001b[0m",
      "\u001b[1;31mKeyboardInterrupt\u001b[0m                         Traceback (most recent call last)",
      "\u001b[1;32m<ipython-input-32-9f01ab277bdb>\u001b[0m in \u001b[0;36m<module>\u001b[1;34m\u001b[0m\n\u001b[1;32m----> 1\u001b[1;33m \u001b[0mcurrent_src_1\u001b[0m \u001b[1;33m=\u001b[0m \u001b[0mYokogawa_GS210\u001b[0m\u001b[1;33m(\u001b[0m\u001b[0maddress\u001b[0m\u001b[1;33m=\u001b[0m\u001b[1;34m'gs210_1'\u001b[0m\u001b[1;33m)\u001b[0m\u001b[1;33m\u001b[0m\u001b[1;33m\u001b[0m\u001b[0m\n\u001b[0m\u001b[0;32m      2\u001b[0m \u001b[0mcurrent_src_3\u001b[0m \u001b[1;33m=\u001b[0m \u001b[0mYokogawa_GS210\u001b[0m\u001b[1;33m(\u001b[0m\u001b[0maddress\u001b[0m\u001b[1;33m=\u001b[0m\u001b[1;34m'gs210_3'\u001b[0m\u001b[1;33m)\u001b[0m\u001b[1;33m\u001b[0m\u001b[1;33m\u001b[0m\u001b[0m\n\u001b[0;32m      3\u001b[0m \u001b[0mcurrent_src_4\u001b[0m \u001b[1;33m=\u001b[0m \u001b[0mYokogawa_GS210\u001b[0m\u001b[1;33m(\u001b[0m\u001b[0maddress\u001b[0m\u001b[1;33m=\u001b[0m\u001b[1;34m'gs210_4'\u001b[0m\u001b[1;33m)\u001b[0m\u001b[1;33m\u001b[0m\u001b[1;33m\u001b[0m\u001b[0m\n\u001b[0;32m      4\u001b[0m \u001b[0mcurrent_src_5\u001b[0m \u001b[1;33m=\u001b[0m \u001b[0mYokogawa_GS210\u001b[0m\u001b[1;33m(\u001b[0m\u001b[0maddress\u001b[0m\u001b[1;33m=\u001b[0m\u001b[1;34m'gs210_5'\u001b[0m\u001b[1;33m)\u001b[0m\u001b[1;33m\u001b[0m\u001b[1;33m\u001b[0m\u001b[0m\n\u001b[0;32m      5\u001b[0m \u001b[0mcurrent_src_7\u001b[0m \u001b[1;33m=\u001b[0m \u001b[0mYokogawa_GS210\u001b[0m\u001b[1;33m(\u001b[0m\u001b[0maddress\u001b[0m\u001b[1;33m=\u001b[0m\u001b[1;34m'gs210_7'\u001b[0m\u001b[1;33m)\u001b[0m\u001b[1;33m\u001b[0m\u001b[1;33m\u001b[0m\u001b[0m\n",
      "\u001b[1;32mC:\\qtlab_replacement\\instruments\\Yokogawa_GS200.py\u001b[0m in \u001b[0;36m__init__\u001b[1;34m(self, address, volt_compliance, current_compliance)\u001b[0m\n\u001b[0;32m     41\u001b[0m         \u001b[0mself\u001b[0m\u001b[1;33m.\u001b[0m\u001b[0m_address\u001b[0m \u001b[1;33m=\u001b[0m \u001b[0maddress\u001b[0m\u001b[1;33m\u001b[0m\u001b[1;33m\u001b[0m\u001b[0m\n\u001b[0;32m     42\u001b[0m         \u001b[0mrm\u001b[0m \u001b[1;33m=\u001b[0m \u001b[0mvisa\u001b[0m\u001b[1;33m.\u001b[0m\u001b[0mResourceManager\u001b[0m\u001b[1;33m(\u001b[0m\u001b[1;33m)\u001b[0m\u001b[1;33m\u001b[0m\u001b[1;33m\u001b[0m\u001b[0m\n\u001b[1;32m---> 43\u001b[1;33m         \u001b[0mself\u001b[0m\u001b[1;33m.\u001b[0m\u001b[0m_visainstrument\u001b[0m \u001b[1;33m=\u001b[0m \u001b[0mrm\u001b[0m\u001b[1;33m.\u001b[0m\u001b[0mopen_resource\u001b[0m\u001b[1;33m(\u001b[0m\u001b[0mself\u001b[0m\u001b[1;33m.\u001b[0m\u001b[0m_address\u001b[0m\u001b[1;33m)\u001b[0m\u001b[1;33m\u001b[0m\u001b[1;33m\u001b[0m\u001b[0m\n\u001b[0m\u001b[0;32m     44\u001b[0m \u001b[1;33m\u001b[0m\u001b[0m\n\u001b[0;32m     45\u001b[0m         \u001b[0mcurrent_range\u001b[0m \u001b[1;33m=\u001b[0m \u001b[1;33m(\u001b[0m\u001b[1;33m-\u001b[0m\u001b[1;36m200e-3\u001b[0m\u001b[1;33m,\u001b[0m \u001b[1;36m200e-3\u001b[0m\u001b[1;33m)\u001b[0m\u001b[1;33m\u001b[0m\u001b[1;33m\u001b[0m\u001b[0m\n",
      "\u001b[1;32mC:\\ProgramData\\Anaconda3\\lib\\site-packages\\pyvisa\\highlevel.py\u001b[0m in \u001b[0;36mopen_resource\u001b[1;34m(self, resource_name, access_mode, open_timeout, resource_pyclass, **kwargs)\u001b[0m\n\u001b[0;32m   3302\u001b[0m                 )\n\u001b[0;32m   3303\u001b[0m \u001b[1;33m\u001b[0m\u001b[0m\n\u001b[1;32m-> 3304\u001b[1;33m         \u001b[0mres\u001b[0m\u001b[1;33m.\u001b[0m\u001b[0mopen\u001b[0m\u001b[1;33m(\u001b[0m\u001b[0maccess_mode\u001b[0m\u001b[1;33m,\u001b[0m \u001b[0mopen_timeout\u001b[0m\u001b[1;33m)\u001b[0m\u001b[1;33m\u001b[0m\u001b[1;33m\u001b[0m\u001b[0m\n\u001b[0m\u001b[0;32m   3305\u001b[0m \u001b[1;33m\u001b[0m\u001b[0m\n\u001b[0;32m   3306\u001b[0m         \u001b[1;32mfor\u001b[0m \u001b[0mkey\u001b[0m\u001b[1;33m,\u001b[0m \u001b[0mvalue\u001b[0m \u001b[1;32min\u001b[0m \u001b[0mkwargs\u001b[0m\u001b[1;33m.\u001b[0m\u001b[0mitems\u001b[0m\u001b[1;33m(\u001b[0m\u001b[1;33m)\u001b[0m\u001b[1;33m:\u001b[0m\u001b[1;33m\u001b[0m\u001b[1;33m\u001b[0m\u001b[0m\n",
      "\u001b[1;32mC:\\ProgramData\\Anaconda3\\lib\\site-packages\\pyvisa\\resources\\resource.py\u001b[0m in \u001b[0;36mopen\u001b[1;34m(self, access_mode, open_timeout)\u001b[0m\n\u001b[0;32m    307\u001b[0m                 \u001b[0mtry_time\u001b[0m \u001b[1;33m=\u001b[0m \u001b[1;36m5\u001b[0m\u001b[1;33m\u001b[0m\u001b[1;33m\u001b[0m\u001b[0m\n\u001b[0;32m    308\u001b[0m                 \u001b[1;32mwhile\u001b[0m \u001b[0mtime\u001b[0m\u001b[1;33m.\u001b[0m\u001b[0mtime\u001b[0m\u001b[1;33m(\u001b[0m\u001b[1;33m)\u001b[0m \u001b[1;33m-\u001b[0m \u001b[0mstart_time\u001b[0m \u001b[1;33m<\u001b[0m \u001b[0mtry_time\u001b[0m\u001b[1;33m:\u001b[0m\u001b[1;33m\u001b[0m\u001b[1;33m\u001b[0m\u001b[0m\n\u001b[1;32m--> 309\u001b[1;33m                     \u001b[0mtime\u001b[0m\u001b[1;33m.\u001b[0m\u001b[0msleep\u001b[0m\u001b[1;33m(\u001b[0m\u001b[0msleep_time\u001b[0m\u001b[1;33m)\u001b[0m\u001b[1;33m\u001b[0m\u001b[1;33m\u001b[0m\u001b[0m\n\u001b[0m\u001b[0;32m    310\u001b[0m                     \u001b[1;32mtry\u001b[0m\u001b[1;33m:\u001b[0m\u001b[1;33m\u001b[0m\u001b[1;33m\u001b[0m\u001b[0m\n\u001b[0;32m    311\u001b[0m                         \u001b[0mself\u001b[0m\u001b[1;33m.\u001b[0m\u001b[0mclear\u001b[0m\u001b[1;33m(\u001b[0m\u001b[1;33m)\u001b[0m\u001b[1;33m\u001b[0m\u001b[1;33m\u001b[0m\u001b[0m\n",
      "\u001b[1;31mKeyboardInterrupt\u001b[0m: "
     ]
    }
   ],
   "source": [
    "current_src_1 = Yokogawa_GS210(address='gs210_1')\n",
    "current_src_3 = Yokogawa_GS210(address='gs210_3')\n",
    "current_src_4 = Yokogawa_GS210(address='gs210_4')\n",
    "current_src_5 = Yokogawa_GS210(address='gs210_5')\n",
    "current_src_7 = Yokogawa_GS210(address='gs210_7')\n",
    "\n",
    "#pna = Agilent_N5242A('pna', address = 'PNA')\n",
    "#pxa = Agilent_N9030A('pxa', address = 'PXA')\n",
    "#lo1 = Agilent_E8257D('lo1', address = 'PSG1')\n",
    "#awg_tek = Tektronix_AWG5014('awg_tek', address = 'TCPIP0::10.20.61.186::inst0::INSTR')"
   ]
  },
  {
   "cell_type": "code",
   "execution_count": 5,
   "metadata": {},
   "outputs": [],
   "source": [
    "current_src_1.set_src_mode_volt()                                   # switch Yokogawa to the Voltage mode\n",
    "current_src_1.set_range(10)                                         # set voltage Source Range\n",
    "current_src_1.set_voltage_limits(minvoltage = -5, maxvoltage = 5)   # set the +- maximum voltage ranges in [volts]\n",
    "current_src_3.set_src_mode_volt()                                   # switch Yokogawa to the Voltage mode\n",
    "current_src_3.set_range(10)                                         # set voltage Source Range\n",
    "current_src_3.set_voltage_limits(minvoltage = -5, maxvoltage = 5)   # set the +- maximum voltage ranges in [volts]\n",
    "current_src_4.set_src_mode_volt()                                   # switch Yokogawa to the Voltage mode\n",
    "current_src_4.set_range(10)                                         # set voltage Source Range\n",
    "current_src_4.set_voltage_limits(minvoltage = -5, maxvoltage = 5)   # set the +- maximum voltage ranges in [volts]\n",
    "current_src_5.set_src_mode_volt()                                   # switch Yokogawa to the Voltage mode\n",
    "current_src_5.set_range(10)                                         # set voltage Source Range\n",
    "current_src_5.set_voltage_limits(minvoltage = -5, maxvoltage = 5)   # set the +- maximum voltage ranges in [volts]"
   ]
  },
  {
   "cell_type": "code",
   "execution_count": 6,
   "metadata": {},
   "outputs": [
    {
     "data": {
      "text/plain": [
       "0"
      ]
     },
     "execution_count": 6,
     "metadata": {},
     "output_type": "execute_result"
    }
   ],
   "source": [
    "current_src_1.get_status()                                          # check he status 0 - off, 1 - on"
   ]
  },
  {
   "cell_type": "code",
   "execution_count": 7,
   "metadata": {},
   "outputs": [
    {
     "name": "stdout",
     "output_type": "stream",
     "text": [
      "Voltage set 0e+00 V\n",
      "Voltage set 1e+00 V\n",
      "Voltage set 4.5e+00 V\n",
      "Voltage set 5e-01 V\n"
     ]
    },
    {
     "data": {
      "text/plain": [
       "True"
      ]
     },
     "execution_count": 7,
     "metadata": {},
     "output_type": "execute_result"
    }
   ],
   "source": [
    "current_src_1.set_voltage(0.0)\n",
    "current_src_3.set_voltage(1.0)\n",
    "current_src_4.set_voltage(4.5)\n",
    "current_src_5.set_voltage(0.5)"
   ]
  },
  {
   "cell_type": "code",
   "execution_count": 13,
   "metadata": {},
   "outputs": [
    {
     "data": {
      "text/plain": [
       "True"
      ]
     },
     "execution_count": 13,
     "metadata": {},
     "output_type": "execute_result"
    }
   ],
   "source": [
    "current_src_7.set_status(0)"
   ]
  },
  {
   "cell_type": "markdown",
   "metadata": {},
   "source": [
    "# Slow ramp the voltage on multiple sourses"
   ]
  },
  {
   "cell_type": "code",
   "execution_count": 9,
   "metadata": {},
   "outputs": [],
   "source": [
    "src_list = [current_src_1,current_src_3,current_src_4]\n",
    "CB_MB_OB = np.array([2, 2, 2])                           # Volts\n",
    "STEP = 0.01                                              # Volts\n",
    "\n",
    "CB_MB_OB_now = np.array([src_list[0].get_voltage(),src_list[1].get_voltage(),src_list[2].get_voltage()])"
   ]
  },
  {
   "cell_type": "code",
   "execution_count": 10,
   "metadata": {},
   "outputs": [],
   "source": [
    "number_list = [abs(CB_MB_OB[0]-CB_MB_OB_now[0]),abs(CB_MB_OB[1]-CB_MB_OB_now[1]),abs(CB_MB_OB[2]-CB_MB_OB_now[2])]\n",
    "max_value = max(number_list)\n",
    "max_index = number_list.index(max_value)"
   ]
  },
  {
   "cell_type": "code",
   "execution_count": 11,
   "metadata": {},
   "outputs": [],
   "source": [
    "steps_CB = list(np.linspace(CB_MB_OB_now[0], CB_MB_OB[0], int(number_list[0]/STEP+1)))\n",
    "steps_MB = list(np.linspace(CB_MB_OB_now[1], CB_MB_OB[1], int(number_list[1]/STEP+1)))\n",
    "steps_OB = list(np.linspace(CB_MB_OB_now[2], CB_MB_OB[2], int(number_list[2]/STEP+1)))"
   ]
  },
  {
   "cell_type": "code",
   "execution_count": 12,
   "metadata": {},
   "outputs": [
    {
     "name": "stdout",
     "output_type": "stream",
     "text": [
      "Voltage set 2e+00 V\n"
     ]
    }
   ],
   "source": [
    "for i in np.linspace(CB_MB_OB_now[max_index], CB_MB_OB[max_index], int(number_list[max_index]/STEP+1)):\n",
    "    clear_output(wait=True)\n",
    "    if len(steps_CB):\n",
    "        src_list[0].set_voltage(steps_CB[0])\n",
    "        steps_CB.pop(0)\n",
    "    if len(steps_MB):\n",
    "        src_list[1].set_voltage(steps_MB[0])\n",
    "        steps_MB.pop(0)\n",
    "    if len(steps_OB):\n",
    "        src_list[2].set_voltage(steps_OB[0])\n",
    "        steps_OB.pop(0)\n",
    "    sleep(0.1)"
   ]
  },
  {
   "cell_type": "markdown",
   "metadata": {},
   "source": [
    "# Initializing the Lock-In"
   ]
  },
  {
   "cell_type": "code",
   "execution_count": 14,
   "metadata": {},
   "outputs": [],
   "source": [
    "Lock_In = NF_LI5650('Lock_In', address='LockIn_26')"
   ]
  },
  {
   "cell_type": "code",
   "execution_count": 15,
   "metadata": {},
   "outputs": [
    {
     "name": "stdout",
     "output_type": "stream",
     "text": [
      "connection to Lock_In\n",
      "*IDN?  NF Corporation,LI5650,9235143,Ver1.40\n",
      "\n"
     ]
    }
   ],
   "source": [
    "Lock_In.make_connection()"
   ]
  },
  {
   "cell_type": "code",
   "execution_count": 16,
   "metadata": {},
   "outputs": [
    {
     "data": {
      "text/plain": [
       "[1.682499e-13, 4.994776e-14]"
      ]
     },
     "execution_count": 16,
     "metadata": {},
     "output_type": "execute_result"
    }
   ],
   "source": [
    "Lock_In.read_outp_in_ascii()"
   ]
  },
  {
   "cell_type": "code",
   "execution_count": 17,
   "metadata": {},
   "outputs": [
    {
     "data": {
      "text/plain": [
       "[2000.0]"
      ]
     },
     "execution_count": 17,
     "metadata": {},
     "output_type": "execute_result"
    }
   ],
   "source": [
    "Lock_In.ask_IntOsc_frequency()"
   ]
  },
  {
   "cell_type": "code",
   "execution_count": 18,
   "metadata": {},
   "outputs": [],
   "source": [
    "Lock_In.set_IntOsc_frequency(2000, 'Hz')"
   ]
  },
  {
   "cell_type": "code",
   "execution_count": 19,
   "metadata": {},
   "outputs": [
    {
     "data": {
      "text/plain": [
       "[0.0]"
      ]
     },
     "execution_count": 19,
     "metadata": {},
     "output_type": "execute_result"
    }
   ],
   "source": [
    "Lock_In.ask_IntOsc_amp()"
   ]
  },
  {
   "cell_type": "markdown",
   "metadata": {},
   "source": [
    "# Plotting Lockin vs Voltage"
   ]
  },
  {
   "cell_type": "code",
   "execution_count": 20,
   "metadata": {},
   "outputs": [
    {
     "name": "stdout",
     "output_type": "stream",
     "text": [
      "Voltage set 5e-01 V\n"
     ]
    },
    {
     "data": {
      "text/plain": [
       "True"
      ]
     },
     "execution_count": 20,
     "metadata": {},
     "output_type": "execute_result"
    }
   ],
   "source": [
    "current_src_5.set_voltage(0.5)"
   ]
  },
  {
   "cell_type": "code",
   "execution_count": 21,
   "metadata": {
    "scrolled": false
   },
   "outputs": [
    {
     "data": {
      "image/png": "[encoded data removed]",
      "text/plain": [
       "<Figure size 720x576 with 2 Axes>"
      ]
     },
     "metadata": {},
     "output_type": "display_data"
    },
    {
     "name": "stdout",
     "output_type": "stream",
     "text": [
      "Voltage set 5e-01 V\n"
     ]
    },
    {
     "data": {
      "image/png": "[encoded data removed]",
      "text/plain": [
       "<Figure size 720x576 with 2 Axes>"
      ]
     },
     "metadata": {
      "needs_background": "light"
     },
     "output_type": "display_data"
    },
    {
     "name": "stdout",
     "output_type": "stream",
     "text": [
      "Voltage set 4.9e-01 V\n",
      "Voltage set 4.8e-01 V\n",
      "Voltage set 4.7e-01 V\n",
      "Voltage set 4.6e-01 V\n",
      "Voltage set 4.5e-01 V\n",
      "Voltage set 4.4e-01 V\n",
      "Voltage set 4.3e-01 V\n",
      "Voltage set 4.2e-01 V\n",
      "Voltage set 4.1e-01 V\n",
      "Voltage set 4e-01 V\n",
      "Voltage set 3.9e-01 V\n",
      "Voltage set 3.8e-01 V\n",
      "Voltage set 3.7e-01 V\n",
      "Voltage set 3.6e-01 V\n",
      "Voltage set 3.5e-01 V\n",
      "Voltage set 3.4e-01 V\n",
      "Voltage set 3.3e-01 V\n",
      "Voltage set 3.2e-01 V\n",
      "Voltage set 3.1e-01 V\n",
      "Voltage set 3e-01 V\n"
     ]
    }
   ],
   "source": [
    "X = []\n",
    "Y = []\n",
    "Vlt = []\n",
    "\n",
    "name = \"Random valid name\"+datetime.datetime.now().strftime(\"%Y%m%d%H%M%S.txt\")\n",
    "file = open(name,\"w\")\n",
    "\n",
    "fig, ax = plt.subplots(2,1, figsize=(10,8))\n",
    "hfig = display(fig, display_id=True)\n",
    "\n",
    "\n",
    "plt.setp(ax[0].get_xticklabels(), visible=False)\n",
    "\n",
    "final_voltage = 0.3\n",
    "voltage_steps = np.linspace(current_src_5.get_voltage(), final_voltage, int(abs(final_voltage-current_src_5.get_voltage())/0.01+1))\n",
    "\n",
    "for i in voltage_steps:\n",
    "    #clear_output(wait=True)\n",
    "    current_src_5.set_voltage(i)\n",
    "    sleep(0.5)\n",
    "    \n",
    "    voltageXY = Lock_In.read_outp_in_string()\n",
    "    \n",
    "    filecontent = str(i) + ',' + voltageXY\n",
    "    file.write(filecontent)\n",
    "    \n",
    "    res = Lock_In.read_outp_in_ascii()\n",
    "    X.append(float(res[0]))\n",
    "    Y.append(float(res[1]))\n",
    "    Vlt.append(i)\n",
    "    \n",
    "    # dynamic plot\n",
    "    ax[0].cla()\n",
    "    ax[1].cla()\n",
    "    ax[0].set_title('Lock-In Data')\n",
    "    ax[0].set_ylabel('X [V]')\n",
    "    ax[1].set_xlabel('voltage [V]')\n",
    "    ax[1].set_ylabel('Y [V]')\n",
    "    \n",
    "    ax[0].plot(Vlt, X, 'g')\n",
    "    ax[1].plot(Vlt, Y, 'b')\n",
    "    \n",
    "    hfig.update(fig)\n",
    "    plt.pause(0.1)\n",
    "    \n",
    "file.close()"
   ]
  },
  {
   "cell_type": "markdown",
   "metadata": {},
   "source": [
    "# Lab brick test"
   ]
  },
  {
   "cell_type": "code",
   "execution_count": 22,
   "metadata": {},
   "outputs": [
    {
     "data": {
      "text/plain": [
       "{1: {'name': 'LMS-183DX', 'serial_number': 27937}}"
      ]
     },
     "execution_count": 22,
     "metadata": {},
     "output_type": "execute_result"
    }
   ],
   "source": [
    "get_labbricks()"
   ]
  },
  {
   "cell_type": "code",
   "execution_count": 23,
   "metadata": {},
   "outputs": [],
   "source": [
    "lo1 = Labbrick(name='LMS-183DX', serial=27937)"
   ]
  },
  {
   "cell_type": "code",
   "execution_count": 24,
   "metadata": {},
   "outputs": [
    {
     "data": {
      "text/plain": [
       "-20.0"
      ]
     },
     "execution_count": 24,
     "metadata": {},
     "output_type": "execute_result"
    }
   ],
   "source": [
    "lo1.set_power(-20)\n",
    "lo1.get_power()"
   ]
  },
  {
   "cell_type": "code",
   "execution_count": 25,
   "metadata": {},
   "outputs": [
    {
     "data": {
      "text/plain": [
       "True"
      ]
     },
     "execution_count": 25,
     "metadata": {},
     "output_type": "execute_result"
    }
   ],
   "source": [
    "lo1.set_status(True)\n",
    "lo1.set_power(-30)\n",
    "lo1.set_frequency(6.003e9)"
   ]
  },
  {
   "cell_type": "code",
   "execution_count": 26,
   "metadata": {},
   "outputs": [
    {
     "data": {
      "text/plain": [
       "True"
      ]
     },
     "execution_count": 26,
     "metadata": {},
     "output_type": "execute_result"
    }
   ],
   "source": [
    "lo1.set_status(False)"
   ]
  },
  {
   "cell_type": "markdown",
   "metadata": {},
   "source": [
    "SRS_SG386 Microwave signal generator "
   ]
  },
  {
   "cell_type": "markdown",
   "metadata": {},
   "source": [
    "A lot of troubles with an old python 2 driver here - better to rewright again"
   ]
  },
  {
   "cell_type": "code",
   "execution_count": 27,
   "metadata": {},
   "outputs": [
    {
     "name": "stderr",
     "output_type": "stream",
     "text": [
      "root: WARNING  Get not implemented for SRS_SG380.timebase\n",
      "root: WARNING  Get not implemented for SRS_SG380.timebase\n",
      "root: WARNING  SRS_SG380 : answer to MFNC? was not expected : 3\n",
      "\n",
      "root: WARNING  SRS_SG380 : answer to COUP? was not 0 or 1 : 0\n",
      "\n",
      "root: WARNING  SRS_SG380 : answer to TYPE? was not expected : 3\n",
      "\n"
     ]
    }
   ],
   "source": [
    "lo2 = SRS_SG380('SRS_SG386', address='Lo_27')  "
   ]
  },
  {
   "cell_type": "code",
   "execution_count": 28,
   "metadata": {},
   "outputs": [
    {
     "data": {
      "text/plain": [
       "'1\\r\\n'"
      ]
     },
     "execution_count": 28,
     "metadata": {},
     "output_type": "execute_result"
    }
   ],
   "source": [
    "lo2.get_status()"
   ]
  },
  {
   "cell_type": "code",
   "execution_count": 29,
   "metadata": {},
   "outputs": [
    {
     "name": "stderr",
     "output_type": "stream",
     "text": [
      "root: WARNING  Unsupported type <class 'NoneType'>\n"
     ]
    },
    {
     "data": {
      "text/plain": [
       "False"
      ]
     },
     "execution_count": 29,
     "metadata": {},
     "output_type": "execute_result"
    }
   ],
   "source": [
    "lo2.set_status(0)"
   ]
  },
  {
   "cell_type": "code",
   "execution_count": null,
   "metadata": {},
   "outputs": [],
   "source": []
  },
  {
   "cell_type": "code",
   "execution_count": null,
   "metadata": {},
   "outputs": [],
   "source": []
  },
  {
   "cell_type": "markdown",
   "metadata": {},
   "source": [
    "# Keysight E5071CA Vector network Analyzer"
   ]
  },
  {
   "cell_type": "code",
   "execution_count": 4,
   "metadata": {},
   "outputs": [],
   "source": [
    "vna = Keysight_E5071C('vna', address = 'VNA')"
   ]
  },
  {
   "cell_type": "code",
   "execution_count": 5,
   "metadata": {},
   "outputs": [
    {
     "data": {
      "text/plain": [
       "True"
      ]
     },
     "execution_count": 5,
     "metadata": {},
     "output_type": "execute_result"
    }
   ],
   "source": [
    "vna.set_trigger_source(\"INT\")"
   ]
  },
  {
   "cell_type": "code",
   "execution_count": 5,
   "metadata": {},
   "outputs": [
    {
     "data": {
      "text/plain": [
       "True"
      ]
     },
     "execution_count": 5,
     "metadata": {},
     "output_type": "execute_result"
    }
   ],
   "source": [
    "vna.set_sweep_mode(\"LIN\")"
   ]
  },
  {
   "cell_type": "code",
   "execution_count": 5,
   "metadata": {},
   "outputs": [
    {
     "data": {
      "text/plain": [
       "True"
      ]
     },
     "execution_count": 5,
     "metadata": {},
     "output_type": "execute_result"
    }
   ],
   "source": [
    "vna.set_xlim(3e9,10e9)\n",
    "vna.set_nop(1001)\n",
    "vna.set_average(1)\n",
    "vna.set_averages(5)\n",
    "vna.set_bandwidth(200)\n",
    "vna.set_power(-20)"
   ]
  },
  {
   "cell_type": "code",
   "execution_count": null,
   "metadata": {},
   "outputs": [],
   "source": []
  },
  {
   "cell_type": "code",
   "execution_count": 11,
   "metadata": {},
   "outputs": [],
   "source": [
    "x,y = vna.get_tracedata(format = 'AMPPHA')"
   ]
  },
  {
   "cell_type": "code",
   "execution_count": 6,
   "metadata": {},
   "outputs": [
    {
     "data": {
      "text/plain": [
       "(array([-0.23112158,  0.34173539, -0.21052274, ...,  0.21042879,\n",
       "        -0.17612672, -0.05261707]),\n",
       " array([ 0.41936544, -0.17705059, -0.01352295, ..., -0.08508311,\n",
       "        -0.16671064,  0.33233628]))"
      ]
     },
     "execution_count": 6,
     "metadata": {},
     "output_type": "execute_result"
    }
   ],
   "source": [
    "vna.get_tracedata(format = 'REALIMAG')"
   ]
  },
  {
   "cell_type": "code",
   "execution_count": 12,
   "metadata": {},
   "outputs": [],
   "source": [
    "freqs = vna.get_freqpoints()"
   ]
  },
  {
   "cell_type": "code",
   "execution_count": 14,
   "metadata": {},
   "outputs": [
    {
     "data": {
      "text/plain": [
       "[<matplotlib.lines.Line2D at 0x1ed6753e610>]"
      ]
     },
     "execution_count": 14,
     "metadata": {},
     "output_type": "execute_result"
    },
    {
     "data": {
      "image/png": "[encoded data removed]",
      "text/plain": [
       "<Figure size 432x288 with 1 Axes>"
      ]
     },
     "metadata": {
      "needs_background": "light"
     },
     "output_type": "display_data"
    }
   ],
   "source": [
    "plt.plot(freqs, y)"
   ]
  },
  {
   "cell_type": "markdown",
   "metadata": {},
   "source": [
    "Sweeps"
   ]
  },
  {
   "cell_type": "code",
   "execution_count": 5,
   "metadata": {},
   "outputs": [
    {
     "name": "stdout",
     "output_type": "stream",
     "text": [
      "Voltage set -1e+00 V\n"
     ]
    },
    {
     "data": {
      "text/plain": [
       "True"
      ]
     },
     "execution_count": 5,
     "metadata": {},
     "output_type": "execute_result"
    }
   ],
   "source": [
    "current_src_5 = Yokogawa_GS210(address='gs210_5')\n",
    "current_src_5.set_src_mode_volt()                                   # switch Yokogawa to the Voltage mode\n",
    "current_src_5.set_range(10)                                         # set voltage Source Range\n",
    "current_src_5.set_voltage_limits(minvoltage = -5, maxvoltage = 5)   # set the +- maximum voltage ranges in [volts]\n",
    "current_src_5.set_voltage(-1)"
   ]
  },
  {
   "cell_type": "code",
   "execution_count": 8,
   "metadata": {},
   "outputs": [],
   "source": [
    "voltages = np.linspace(-1, 1, 11)"
   ]
  },
  {
   "cell_type": "code",
   "execution_count": null,
   "metadata": {},
   "outputs": [],
   "source": []
  },
  {
   "cell_type": "code",
   "execution_count": 9,
   "metadata": {
    "scrolled": false
   },
   "outputs": [
    {
     "name": "stdout",
     "output_type": "stream",
     "text": [
      "Started at:  Jan 24 2022 18:41:19\n"
     ]
    },
    {
     "data": {
      "image/png": "[encoded data removed]",
      "text/plain": [
       "<Figure size 864x576 with 1 Axes>"
      ]
     },
     "metadata": {
      "needs_background": "light"
     },
     "output_type": "display_data"
    },
    {
     "data": {
      "image/png": "[encoded data removed]",
      "text/plain": [
       "<Figure size 864x576 with 1 Axes>"
      ]
     },
     "metadata": {
      "needs_background": "light"
     },
     "output_type": "display_data"
    },
    {
     "data": {
      "image/png": "[encoded data removed]",
      "text/plain": [
       "<Figure size 432x288 with 2 Axes>"
      ]
     },
     "metadata": {
      "needs_background": "light"
     },
     "output_type": "display_data"
    },
    {
     "data": {
      "image/png": "[encoded data removed]",
      "text/plain": [
       "<Figure size 432x288 with 2 Axes>"
      ]
     },
     "metadata": {
      "needs_background": "light"
     },
     "output_type": "display_data"
    },
    {
     "name": "stdout",
     "output_type": "stream",
     "text": [
      "First sweep...Voltage set -1e+00 V\n",
      "[-0.23124278+0.4201923j   0.34220597-0.1774846j  -0.21089898-0.01343032j\n",
      " ...  0.21057467-0.08536146j -0.1763473 -0.16664259j\n",
      " -0.05243253+0.33267045j]\n"
     ]
    },
    {
     "data": {
      "image/png": "[encoded data removed]",
      "text/plain": [
       "<Figure size 432x288 with 1 Axes>"
      ]
     },
     "metadata": {
      "needs_background": "light"
     },
     "output_type": "display_data"
    },
    {
     "data": {
      "image/png": "[encoded data removed]",
      "text/plain": [
       "<Figure size 432x288 with 1 Axes>"
      ]
     },
     "metadata": {
      "needs_background": "light"
     },
     "output_type": "display_data"
    },
    {
     "name": "stdout",
     "output_type": "stream",
     "text": [
      "Time left: 0 h 0 m 4.9 s,\tparameter values: BC Voltage:     -1,\taverage cycle time: 0.49s\tVoltage set -8e-01 V\n",
      "[-0.23125289+0.42018601j  0.34219861-0.1774947j  -0.21088368-0.0134306j\n",
      " ...  0.21057467-0.08536146j -0.1763473 -0.16664259j\n",
      " -0.05243253+0.33267045j]\n"
     ]
    },
    {
     "data": {
      "image/png": "[encoded data removed]",
      "text/plain": [
       "<Figure size 432x288 with 1 Axes>"
      ]
     },
     "metadata": {
      "needs_background": "light"
     },
     "output_type": "display_data"
    },
    {
     "data": {
      "image/png": "[encoded data removed]",
      "text/plain": [
       "<Figure size 432x288 with 1 Axes>"
      ]
     },
     "metadata": {
      "needs_background": "light"
     },
     "output_type": "display_data"
    },
    {
     "name": "stdout",
     "output_type": "stream",
     "text": [
      "Time left: 0 h 0 m 4.56 s,\tparameter values: BC Voltage:   -0.8,\taverage cycle time: 0.51s\tVoltage set -6e-01 V\n",
      "[-0.23125094+0.42018366j  0.34220344-0.1775191j  -0.21090269-0.0134089j\n",
      " ...  0.21057467-0.08536146j -0.1763473 -0.16664259j\n",
      " -0.05243253+0.33267045j]\n"
     ]
    },
    {
     "data": {
      "image/png": "[encoded data removed]",
      "text/plain": [
       "<Figure size 432x288 with 1 Axes>"
      ]
     },
     "metadata": {
      "needs_background": "light"
     },
     "output_type": "display_data"
    },
    {
     "data": {
      "image/png": "[encoded data removed]",
      "text/plain": [
       "<Figure size 432x288 with 1 Axes>"
      ]
     },
     "metadata": {
      "needs_background": "light"
     },
     "output_type": "display_data"
    },
    {
     "name": "stdout",
     "output_type": "stream",
     "text": [
      "Time left: 0 h 0 m 4.13 s,\tparameter values: BC Voltage:   -0.6,\taverage cycle time: 0.52s\tVoltage set -4e-01 V\n",
      "[-0.23125839+0.42019764j  0.34221584-0.17748849j -0.21088263-0.01343791j\n",
      " ...  0.21057467-0.08536146j -0.1763473 -0.16664259j\n",
      " -0.05243253+0.33267045j]\n"
     ]
    },
    {
     "data": {
      "image/png": "[encoded data removed]",
      "text/plain": [
       "<Figure size 432x288 with 1 Axes>"
      ]
     },
     "metadata": {
      "needs_background": "light"
     },
     "output_type": "display_data"
    },
    {
     "data": {
      "image/png": "[encoded data removed]",
      "text/plain": [
       "<Figure size 432x288 with 1 Axes>"
      ]
     },
     "metadata": {
      "needs_background": "light"
     },
     "output_type": "display_data"
    },
    {
     "name": "stdout",
     "output_type": "stream",
     "text": [
      "Time left: 0 h 0 m 3.62 s,\tparameter values: BC Voltage:   -0.4,\taverage cycle time: 0.52s\tVoltage set -2e-01 V\n",
      "[-0.23128042+0.42018691j  0.34221601-0.17749113j -0.21086892-0.01344148j\n",
      " ...  0.21057467-0.08536146j -0.1763473 -0.16664259j\n",
      " -0.05243253+0.33267045j]\n"
     ]
    },
    {
     "data": {
      "image/png": "[encoded data removed]",
      "text/plain": [
       "<Figure size 432x288 with 1 Axes>"
      ]
     },
     "metadata": {
      "needs_background": "light"
     },
     "output_type": "display_data"
    },
    {
     "data": {
      "image/png": "[encoded data removed]",
      "text/plain": [
       "<Figure size 432x288 with 1 Axes>"
      ]
     },
     "metadata": {
      "needs_background": "light"
     },
     "output_type": "display_data"
    },
    {
     "name": "stdout",
     "output_type": "stream",
     "text": [
      "Time left: 0 h 0 m 3.24 s,\tparameter values: BC Voltage:   -0.2,\taverage cycle time: 0.54s\tVoltage set 0e+00 V\n",
      "[-0.23125134+0.42021108j  0.34222007-0.17749298j -0.21093707-0.01341368j\n",
      " ...  0.21057467-0.08536146j -0.1763473 -0.16664259j\n",
      " -0.05243253+0.33267045j]\n"
     ]
    },
    {
     "data": {
      "image/png": "[encoded data removed]",
      "text/plain": [
       "<Figure size 432x288 with 1 Axes>"
      ]
     },
     "metadata": {
      "needs_background": "light"
     },
     "output_type": "display_data"
    },
    {
     "data": {
      "image/png": "[encoded data removed]",
      "text/plain": [
       "<Figure size 432x288 with 1 Axes>"
      ]
     },
     "metadata": {
      "needs_background": "light"
     },
     "output_type": "display_data"
    },
    {
     "name": "stdout",
     "output_type": "stream",
     "text": [
      "Time left: 0 h 0 m 2.69 s,\tparameter values: BC Voltage:      0,\taverage cycle time: 0.54s\tVoltage set 2e-01 V\n",
      "[-0.23128429+0.42021188j  0.34223774-0.17748298j -0.21095207-0.0134211j\n",
      " ...  0.21057467-0.08536146j -0.1763473 -0.16664259j\n",
      " -0.05243253+0.33267045j]\n"
     ]
    },
    {
     "data": {
      "image/png": "[encoded data removed]",
      "text/plain": [
       "<Figure size 432x288 with 1 Axes>"
      ]
     },
     "metadata": {
      "needs_background": "light"
     },
     "output_type": "display_data"
    },
    {
     "data": {
      "image/png": "[encoded data removed]",
      "text/plain": [
       "<Figure size 432x288 with 1 Axes>"
      ]
     },
     "metadata": {
      "needs_background": "light"
     },
     "output_type": "display_data"
    },
    {
     "name": "stdout",
     "output_type": "stream",
     "text": [
      "Time left: 0 h 0 m 2.17 s,\tparameter values: BC Voltage:    0.2,\taverage cycle time: 0.54s\tVoltage set 4e-01 V\n",
      "[-0.23128609+0.42023113j  0.34227619-0.17749779j -0.21098651-0.01341923j\n",
      " ...  0.21057467-0.08536146j -0.1763473 -0.16664259j\n",
      " -0.05243253+0.33267045j]\n"
     ]
    },
    {
     "data": {
      "image/png": "[encoded data removed]",
      "text/plain": [
       "<Figure size 432x288 with 1 Axes>"
      ]
     },
     "metadata": {
      "needs_background": "light"
     },
     "output_type": "display_data"
    },
    {
     "data": {
      "image/png": "[encoded data removed]",
      "text/plain": [
       "<Figure size 432x288 with 1 Axes>"
      ]
     },
     "metadata": {
      "needs_background": "light"
     },
     "output_type": "display_data"
    },
    {
     "name": "stdout",
     "output_type": "stream",
     "text": [
      "Time left: 0 h 0 m 1.63 s,\tparameter values: BC Voltage:    0.4,\taverage cycle time: 0.54s\tVoltage set 6e-01 V\n",
      "[-0.23128328+0.42026252j  0.34228051-0.17750998j -0.21100001-0.01341919j\n",
      " ...  0.21057467-0.08536146j -0.1763473 -0.16664259j\n",
      " -0.05243253+0.33267045j]\n"
     ]
    },
    {
     "data": {
      "image/png": "[encoded data removed]",
      "text/plain": [
       "<Figure size 432x288 with 1 Axes>"
      ]
     },
     "metadata": {
      "needs_background": "light"
     },
     "output_type": "display_data"
    },
    {
     "data": {
      "image/png": "[encoded data removed]",
      "text/plain": [
       "<Figure size 432x288 with 1 Axes>"
      ]
     },
     "metadata": {
      "needs_background": "light"
     },
     "output_type": "display_data"
    },
    {
     "name": "stdout",
     "output_type": "stream",
     "text": [
      "Time left: 0 h 0 m 1.08 s,\tparameter values: BC Voltage:    0.6,\taverage cycle time: 0.54s\tVoltage set 8e-01 V\n",
      "[-0.2312692 +0.42021057j  0.34222257-0.17749727j -0.21096018-0.01339974j\n",
      " ...  0.21057467-0.08536146j -0.1763473 -0.16664259j\n",
      " -0.05243253+0.33267045j]\n"
     ]
    },
    {
     "data": {
      "image/png": "[encoded data removed]",
      "text/plain": [
       "<Figure size 432x288 with 1 Axes>"
      ]
     },
     "metadata": {
      "needs_background": "light"
     },
     "output_type": "display_data"
    },
    {
     "data": {
      "image/png": "[encoded data removed]",
      "text/plain": [
       "<Figure size 432x288 with 1 Axes>"
      ]
     },
     "metadata": {
      "needs_background": "light"
     },
     "output_type": "display_data"
    },
    {
     "name": "stdout",
     "output_type": "stream",
     "text": [
      "Time left: 0 h 0 m 0.54 s,\tparameter values: BC Voltage:    0.8,\taverage cycle time: 0.54s\tVoltage set 1e+00 V\n",
      "[-0.23124163+0.42022842j  0.34222105-0.1774835j  -0.21095791-0.01339487j\n",
      " ...  0.21057467-0.08536146j -0.1763473 -0.16664259j\n",
      " -0.05243253+0.33267045j]\n"
     ]
    },
    {
     "data": {
      "image/png": "[encoded data removed]",
      "text/plain": [
       "<Figure size 432x288 with 1 Axes>"
      ]
     },
     "metadata": {
      "needs_background": "light"
     },
     "output_type": "display_data"
    },
    {
     "data": {
      "image/png": "[encoded data removed]",
      "text/plain": [
       "<Figure size 432x288 with 1 Axes>"
      ]
     },
     "metadata": {
      "needs_background": "light"
     },
     "output_type": "display_data"
    },
    {
     "name": "stdout",
     "output_type": "stream",
     "text": [
      "Time left: 0 h 0 m 0.0 s,\tparameter values: BC Voltage:      1,\taverage cycle time: 0.54s\t\n",
      "Elapsed time: 0 h 0 m 6.0 s\n"
     ]
    },
    {
     "data": {
      "image/png": "[encoded data removed]",
      "text/plain": [
       "<Figure size 864x576 with 1 Axes>"
      ]
     },
     "metadata": {
      "needs_background": "light"
     },
     "output_type": "display_data"
    },
    {
     "data": {
      "image/png": "[encoded data removed]",
      "text/plain": [
       "<Figure size 864x576 with 1 Axes>"
      ]
     },
     "metadata": {
      "needs_background": "light"
     },
     "output_type": "display_data"
    },
    {
     "data": {
      "image/png": "[encoded data removed]",
      "text/plain": [
       "<Figure size 432x288 with 2 Axes>"
      ]
     },
     "metadata": {
      "needs_background": "light"
     },
     "output_type": "display_data"
    },
    {
     "data": {
      "image/png": "[encoded data removed]",
      "text/plain": [
       "<Figure size 432x288 with 1 Axes>"
      ]
     },
     "metadata": {
      "needs_background": "light"
     },
     "output_type": "display_data"
    },
    {
     "data": {
      "image/png": "[encoded data removed]",
      "text/plain": [
       "<Figure size 432x288 with 2 Axes>"
      ]
     },
     "metadata": {
      "needs_background": "light"
     },
     "output_type": "display_data"
    },
    {
     "data": {
      "text/plain": [
       "{'S-parameter': (('BC Voltage', 'Frequency'),\n",
       "  (array([-1. , -0.8, -0.6, -0.4, -0.2,  0. ,  0.2,  0.4,  0.6,  0.8,  1. ]),\n",
       "   array([3.000e+09, 3.007e+09, 3.014e+09, ..., 9.986e+09, 9.993e+09,\n",
       "          1.000e+10])),\n",
       "  array([[-0.23124278+0.4201923j ,  0.34220597-0.1774846j ,\n",
       "          -0.21089898-0.01343032j, ...,  0.21057467-0.08536146j,\n",
       "          -0.1763473 -0.16664259j, -0.05243253+0.33267045j],\n",
       "         [-0.23125289+0.42018601j,  0.34219861-0.1774947j ,\n",
       "          -0.21088368-0.0134306j , ...,  0.21057467-0.08536146j,\n",
       "          -0.1763473 -0.16664259j, -0.05243253+0.33267045j],\n",
       "         [-0.23125094+0.42018366j,  0.34220344-0.1775191j ,\n",
       "          -0.21090269-0.0134089j , ...,  0.21057467-0.08536146j,\n",
       "          -0.1763473 -0.16664259j, -0.05243253+0.33267045j],\n",
       "         ...,\n",
       "         [-0.23128328+0.42026252j,  0.34228051-0.17750998j,\n",
       "          -0.21100001-0.01341919j, ...,  0.21057467-0.08536146j,\n",
       "          -0.1763473 -0.16664259j, -0.05243253+0.33267045j],\n",
       "         [-0.2312692 +0.42021057j,  0.34222257-0.17749727j,\n",
       "          -0.21096018-0.01339974j, ...,  0.21057467-0.08536146j,\n",
       "          -0.1763473 -0.16664259j, -0.05243253+0.33267045j],\n",
       "         [-0.23124163+0.42022842j,  0.34222105-0.1774835j ,\n",
       "          -0.21095791-0.01339487j, ...,  0.21057467-0.08536146j,\n",
       "          -0.1763473 -0.16664259j, -0.05243253+0.33267045j]]),\n",
       "  {'log': 20})}"
      ]
     },
     "execution_count": 9,
     "metadata": {},
     "output_type": "execute_result"
    },
    {
     "data": {
      "image/png": "[encoded data removed]",
      "text/plain": [
       "<Figure size 432x288 with 1 Axes>"
      ]
     },
     "metadata": {
      "needs_background": "light"
     },
     "output_type": "display_data"
    }
   ],
   "source": [
    "sweep.sweep(vna, (voltages, current_src_5.set_voltage, 'BC Voltage'), filename='Test sweep')"
   ]
  },
  {
   "cell_type": "markdown",
   "metadata": {},
   "source": [
    "# American Magnets Model 430"
   ]
  },
  {
   "cell_type": "code",
   "execution_count": 4,
   "metadata": {},
   "outputs": [
    {
     "name": "stdout",
     "output_type": "stream",
     "text": [
      "Units are T/sec\n"
     ]
    }
   ],
   "source": [
    "magnet = American_Magnetics_430('magnet', address = 'Magnet')"
   ]
  },
  {
   "cell_type": "code",
   "execution_count": 5,
   "metadata": {},
   "outputs": [],
   "source": [
    "def status():\n",
    "    magnet_state = int(magnet.get_rampingstate())\n",
    "    if (magnet_state == 1):\n",
    "        print('RAMPING to target field/current')\n",
    "    if (magnet_state == 2):\n",
    "        print('HOLDING at the target field/current')\n",
    "    if (magnet_state == 3):\n",
    "        print('PAUSED')\n",
    "    if (magnet_state == 4):\n",
    "        print('Ramping in MANUAL UP mode')\n",
    "    if (magnet_state == 5):\n",
    "        print('Ramping in MANUAL DOWN mode')\n",
    "    if (magnet_state == 6):\n",
    "        print('ZEROING CURRENT (in progress)')\n",
    "    if (magnet_state == 7):\n",
    "        print('Quench detected')\n",
    "    if (magnet_state == 8):\n",
    "        print('At ZERO current')\n",
    "    if (magnet_state == 9):\n",
    "        print('Heating persistent switch')\n",
    "    if (magnet_state == 10):\n",
    "        print('Cooling persistent switch')"
   ]
  },
  {
   "cell_type": "code",
   "execution_count": 10,
   "metadata": {},
   "outputs": [
    {
     "name": "stdout",
     "output_type": "stream",
     "text": [
      "Magnet model:  AMERICAN MAGNETICS INC.,MODEL 430,1.62\n",
      "No quench\n",
      "Current limit:  84.0 A\n",
      "Voltage limit:  2.0 V\n",
      "Field limit:  8.9964 T\n",
      "Current Field:  -5e-05 T\n",
      "Target Field:  0.0 T\n",
      "Current Current:  0.0 A\n",
      "Target Current:  0.0 A\n",
      "Ramp Rate:  0.00031 T/sec\n",
      "HOLDING at the target field/current\n"
     ]
    }
   ],
   "source": [
    "print('Magnet model: ' ,magnet.get_id())\n",
    "if magnet.canstartramp():\n",
    "    print('No quench')\n",
    "print('Current limit: ' , magnet.get_currentlimit(), 'A') \n",
    "print('Voltage limit: ' , magnet.get_voltagelimit(), 'V') \n",
    "print('Field limit: ' , magnet.get_fieldlim(), 'T') \n",
    "\n",
    "print('Current Field: ' , magnet.get_field(), 'T') \n",
    "print('Target Field: ' , magnet.get_fieldsetpoint(), 'T') \n",
    "\n",
    "print('Current Current: ' , magnet.get_current(), 'A') \n",
    "print('Target Current: ' , magnet.get_currentsetpoint(), 'A') \n",
    "\n",
    "print('Ramp Rate: ' , magnet.get_ramprate(), 'T/sec') \n",
    "status()"
   ]
  },
  {
   "cell_type": "code",
   "execution_count": 7,
   "metadata": {},
   "outputs": [],
   "source": [
    "magnet.set_ramprate(0.00031)  # in T/sec"
   ]
  },
  {
   "cell_type": "code",
   "execution_count": 13,
   "metadata": {},
   "outputs": [
    {
     "name": "stdout",
     "output_type": "stream",
     "text": [
      "HOLDING at the target field/current\n"
     ]
    }
   ],
   "source": [
    "status()"
   ]
  },
  {
   "cell_type": "code",
   "execution_count": 16,
   "metadata": {},
   "outputs": [],
   "source": [
    "magnet.ramp_field(0.000)"
   ]
  },
  {
   "cell_type": "code",
   "execution_count": 17,
   "metadata": {},
   "outputs": [
    {
     "data": {
      "text/plain": [
       "-1e-05"
      ]
     },
     "execution_count": 17,
     "metadata": {},
     "output_type": "execute_result"
    }
   ],
   "source": [
    "magnet.get_field()"
   ]
  },
  {
   "cell_type": "code",
   "execution_count": null,
   "metadata": {},
   "outputs": [],
   "source": []
  },
  {
   "cell_type": "code",
   "execution_count": null,
   "metadata": {},
   "outputs": [],
   "source": []
  },
  {
   "cell_type": "code",
   "execution_count": null,
   "metadata": {},
   "outputs": [],
   "source": []
  },
  {
   "cell_type": "code",
   "execution_count": null,
   "metadata": {},
   "outputs": [],
   "source": []
  },
  {
   "cell_type": "code",
   "execution_count": null,
   "metadata": {},
   "outputs": [],
   "source": []
  },
  {
   "cell_type": "code",
   "execution_count": null,
   "metadata": {},
   "outputs": [],
   "source": []
  },
  {
   "cell_type": "code",
   "execution_count": null,
   "metadata": {},
   "outputs": [],
   "source": []
  },
  {
   "cell_type": "code",
   "execution_count": null,
   "metadata": {},
   "outputs": [],
   "source": []
  },
  {
   "cell_type": "code",
   "execution_count": null,
   "metadata": {},
   "outputs": [],
   "source": []
  },
  {
   "cell_type": "code",
   "execution_count": null,
   "metadata": {},
   "outputs": [],
   "source": []
  },
  {
   "cell_type": "markdown",
   "metadata": {},
   "source": [
    "Parts"
   ]
  },
  {
   "cell_type": "code",
   "execution_count": 10,
   "metadata": {},
   "outputs": [],
   "source": [
    "import pyvisa"
   ]
  },
  {
   "cell_type": "code",
   "execution_count": 11,
   "metadata": {},
   "outputs": [],
   "source": [
    "rm = pyvisa.ResourceManager()"
   ]
  },
  {
   "cell_type": "code",
   "execution_count": 12,
   "metadata": {},
   "outputs": [
    {
     "data": {
      "text/plain": [
       "('ASRL1::INSTR',\n",
       " 'ASRL3::INSTR',\n",
       " 'ASRL4::INSTR',\n",
       " 'GPIB1::5::INSTR',\n",
       " 'GPIB0::10::INSTR',\n",
       " 'GPIB0::16::INSTR',\n",
       " 'GPIB0::17::INSTR',\n",
       " 'GPIB0::1::INSTR',\n",
       " 'GPIB0::22::INSTR',\n",
       " 'GPIB0::26::INSTR',\n",
       " 'GPIB0::2::INSTR',\n",
       " 'GPIB0::3::INSTR',\n",
       " 'GPIB0::4::INSTR',\n",
       " 'GPIB0::5::INSTR',\n",
       " 'GPIB0::6::INSTR',\n",
       " 'GPIB0::7::INSTR',\n",
       " 'GPIB0::8::INSTR',\n",
       " 'GPIB0::9::0::INSTR',\n",
       " 'TCPIP0::169.254.166.83::inst0::INSTR',\n",
       " 'USB0::0x05FF::0x1023::2807N59061::0::INSTR',\n",
       " 'USB0::0x0699::0x035E::C011901::0::INSTR',\n",
       " 'USB0::0x0957::0x1796::MY51290236::0::INSTR',\n",
       " 'USB0::0x0B5B::0xFFF9::1405051_776_47::0::INSTR',\n",
       " 'USB0::0x2A8D::0xB318::MY59290070::0::INSTR')"
      ]
     },
     "execution_count": 12,
     "metadata": {},
     "output_type": "execute_result"
    }
   ],
   "source": [
    "rm.list_resources()"
   ]
  },
  {
   "cell_type": "code",
   "execution_count": 32,
   "metadata": {},
   "outputs": [],
   "source": [
    "my_instrument = rm.open_resource('GPIB1::5::INSTR', read_termination='\\r\\n')"
   ]
  },
  {
   "cell_type": "code",
   "execution_count": 36,
   "metadata": {},
   "outputs": [
    {
     "name": "stdout",
     "output_type": "stream",
     "text": [
      "0.107100\n"
     ]
    }
   ],
   "source": [
    "print(my_instrument.query('COIL?'))"
   ]
  },
  {
   "cell_type": "code",
   "execution_count": null,
   "metadata": {},
   "outputs": [],
   "source": []
  }
 ],
 "metadata": {
  "kernelspec": {
   "display_name": "Python 3",
   "language": "python",
   "name": "python3"
  },
  "language_info": {
   "codemirror_mode": {
    "name": "ipython",
    "version": 3
   },
   "file_extension": ".py",
   "mimetype": "text/x-python",
   "name": "python",
   "nbconvert_exporter": "python",
   "pygments_lexer": "ipython3",
   "version": "3.8.8"
  }
 },
 "nbformat": 4,
 "nbformat_minor": 1
}
